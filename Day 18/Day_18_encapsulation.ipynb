{
 "cells": [
  {
   "cell_type": "code",
   "execution_count": 1,
   "id": "2b5a3c36-2f5c-4093-88fa-263a1f4c26af",
   "metadata": {},
   "outputs": [],
   "source": [
    "#Encapsulation is the process of data hiding in the OOP approach of programming\n",
    "#We can create public, private and protected members of a class in most of the OOP Languages\n",
    "#In python, protected members are created using a single underscore, private members are created \n",
    "#using a double underscore and public members do not contaoin any underscores."
   ]
  },
  {
   "cell_type": "code",
   "execution_count": 23,
   "id": "2e144c23-cf9b-46c7-a9b1-2b6ef9f6b4fc",
   "metadata": {},
   "outputs": [
    {
     "name": "stdout",
     "output_type": "stream",
     "text": [
      "Vehicle has 0 doors and red color\n",
      "petrol\n",
      "Diesel\n"
     ]
    }
   ],
   "source": [
    "class Vehicle:\n",
    "    __engine_type=\"petrol\" #private member \n",
    "\n",
    "    def __init__(self, color, doors):\n",
    "        self._doors=doors #protected member\n",
    "        self.color= color #public\n",
    "\n",
    "    def _description(self):\n",
    "        return f\"Vehicle has {self._doors} doors and {self.color} color\"\n",
    "\n",
    "    @property\n",
    "    def engine_type(self):\n",
    "        return self.__engine_type\n",
    "\n",
    "    def set_engine_type(self, e_type):\n",
    "        self.__engine_type = e_type\n",
    "        \n",
    "class Bike(Vehicle):\n",
    "    def description(self):\n",
    "        return super()._description()\n",
    "        \n",
    "# Protected members are usually accessible to the child class in other programming languages.\n",
    "# But in Python, protected members are also accessible from outside the class. But, this is not ecommended\n",
    "b = Bike('red', 0)\n",
    "print(b.description())\n",
    "print(b.engine_type)\n",
    "\n",
    "b.set_engine_type(\"Diesel\")\n",
    "print(b.engine_type)\n"
   ]
  },
  {
   "cell_type": "code",
   "execution_count": 18,
   "id": "098eefe6-b143-4121-8a69-ff32e9c67b4e",
   "metadata": {},
   "outputs": [],
   "source": [
    "#Private members are completely inaccessible from outside the class\n",
    "#print(b.__engine_type) #Attribute error"
   ]
  },
  {
   "cell_type": "code",
   "execution_count": 21,
   "id": "84212653-01e4-44fc-a400-62560fdc9bbc",
   "metadata": {},
   "outputs": [
    {
     "name": "stdout",
     "output_type": "stream",
     "text": [
      "['_Vehicle__engine_type', '__class__', '__delattr__', '__dict__', '__dir__', '__doc__', '__eq__', '__format__', '__ge__', '__getattribute__', '__getstate__', '__gt__', '__hash__', '__init__', '__init_subclass__', '__le__', '__lt__', '__module__', '__ne__', '__new__', '__reduce__', '__reduce_ex__', '__repr__', '__setattr__', '__sizeof__', '__str__', '__subclasshook__', '__weakref__', '_description', '_doors', 'color', 'description']\n"
     ]
    }
   ],
   "source": [
    "#But there is still a tricky way in python to access the private member.\n",
    "print(dir(b))\n",
    "#print(b._vehicle__engine_type) #Though __engine_type is a private attribute, it is still accessible from outside the class in _Vehicle__engine_type attribute. This is known as \"name managling\""
   ]
  },
  {
   "cell_type": "code",
   "execution_count": null,
   "id": "2ca13302-d014-4eb7-9c14-1c9e4ff9754d",
   "metadata": {},
   "outputs": [],
   "source": []
  }
 ],
 "metadata": {
  "kernelspec": {
   "display_name": "Python 3 (ipykernel)",
   "language": "python",
   "name": "python3"
  },
  "language_info": {
   "codemirror_mode": {
    "name": "ipython",
    "version": 3
   },
   "file_extension": ".py",
   "mimetype": "text/x-python",
   "name": "python",
   "nbconvert_exporter": "python",
   "pygments_lexer": "ipython3",
   "version": "3.11.4"
  }
 },
 "nbformat": 4,
 "nbformat_minor": 5
}
