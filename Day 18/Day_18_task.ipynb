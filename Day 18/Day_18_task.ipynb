{
 "cells": [
  {
   "cell_type": "code",
   "execution_count": 1,
   "id": "3f286d6f-83fe-4d81-aacc-57aff82b4376",
   "metadata": {},
   "outputs": [],
   "source": [
    "#Python Assignment 1\n",
    "#1. Write a Python program that accepts an integer (n) and computes the value of n+nn+nnn + …\n",
    "#2. Write a Python program to calculate the difference between a given number and 17. If the number is greater than 17, return twice the absolute difference. \n",
    "#3. Write a Python program to check whether the input number is prime or not."
   ]
  },
  {
   "cell_type": "code",
   "execution_count": 16,
   "id": "c7524220-2854-4636-8661-065fa8f6663f",
   "metadata": {},
   "outputs": [
    {
     "name": "stdin",
     "output_type": "stream",
     "text": [
      "Enter a number 9\n"
     ]
    },
    {
     "name": "stdout",
     "output_type": "stream",
     "text": [
      "1111111101\n"
     ]
    }
   ],
   "source": [
    "num = int(input(\"Enter a number\"))\n",
    "new_num=0\n",
    "total = 0\n",
    "for _ in range(num):\n",
    "    new_num = new_num * 10 + num\n",
    "    total += new_num\n",
    "print(total)"
   ]
  },
  {
   "cell_type": "code",
   "execution_count": 20,
   "id": "b05de9b7-59a5-47af-9697-2a0f133d6fa2",
   "metadata": {},
   "outputs": [
    {
     "name": "stdin",
     "output_type": "stream",
     "text": [
      "Enter a number 2\n"
     ]
    },
    {
     "name": "stdout",
     "output_type": "stream",
     "text": [
      "24\n"
     ]
    }
   ],
   "source": [
    "num = int(input(\"Enter a number\"))\n",
    "if num<10:\n",
    "    new_num = 0\n",
    "    total = 0\n",
    "    for _ in range(num):\n",
    "        new_num = new_num * 10 + num\n",
    "        total += new_num\n",
    "    print(total)\n",
    "else:\n",
    "    print(\"It is valid pnly for single digit number\")"
   ]
  },
  {
   "cell_type": "code",
   "execution_count": null,
   "id": "98b055fb-cea0-4f31-92cf-fcb3500dc41b",
   "metadata": {},
   "outputs": [],
   "source": []
  }
 ],
 "metadata": {
  "kernelspec": {
   "display_name": "Python 3 (ipykernel)",
   "language": "python",
   "name": "python3"
  },
  "language_info": {
   "codemirror_mode": {
    "name": "ipython",
    "version": 3
   },
   "file_extension": ".py",
   "mimetype": "text/x-python",
   "name": "python",
   "nbconvert_exporter": "python",
   "pygments_lexer": "ipython3",
   "version": "3.11.4"
  }
 },
 "nbformat": 4,
 "nbformat_minor": 5
}
