{
 "cells": [
  {
   "cell_type": "code",
   "execution_count": 1,
   "id": "71c07fb1-4204-46cb-83df-4a3363e4886a",
   "metadata": {},
   "outputs": [],
   "source": [
    "#IF a child class defines the same method that is already defined in the parent to add some \n",
    "# extra functionality then it is called as method overriding "
   ]
  },
  {
   "cell_type": "code",
   "execution_count": 35,
   "id": "e896ce2a-0275-4b6d-8026-a2c635fc3e4d",
   "metadata": {},
   "outputs": [
    {
     "name": "stdout",
     "output_type": "stream",
     "text": [
      "color of the vehicle is red and it has 0 doors\n"
     ]
    }
   ],
   "source": [
    "class Vehicle:\n",
    "    def __init__(self, color, doors):\n",
    "        self.color = color\n",
    "        self.doors = doors\n",
    "\n",
    "    def description(self):\n",
    "        return f\"color of the vehicle is {self.color} and it has {self.doors} doors\"\n",
    "\n",
    "class Bike(Vehicle):\n",
    "    def __init__(self, engine_type, color, doors):   # Method Overriding\n",
    "        self.engine_type = engine_type\n",
    "        super().__init__(color, doors)\n",
    "\n",
    "def description(self):\n",
    "    print(super().description())\n",
    "    return f\"bike has {self.engine_type} engine\"\n",
    "    \n",
    "\n",
    "b = Bike('fi', 'red', 0)\n",
    "print(b.description())\n",
    "\n",
    "\n"
   ]
  },
  {
   "cell_type": "code",
   "execution_count": 38,
   "id": "65b871cb-1815-4ea0-a5e0-05cb4b0b0590",
   "metadata": {},
   "outputs": [
    {
     "name": "stdout",
     "output_type": "stream",
     "text": [
      "Name is Jon and age is 25\n",
      "Salary is 20000 and designation is teacher\n"
     ]
    }
   ],
   "source": [
    "class Person:\n",
    "    def __init__(self, name, age):\n",
    "        self.name = name\n",
    "        self.age = age\n",
    "\n",
    "    def get_details(self):\n",
    "        return f\"Name is {self.name} and age is {self.age}\"\n",
    "\n",
    "\n",
    "class Employee(Person):\n",
    "    def __init__(self, name, age, salary, designation):\n",
    "        self.salary = salary\n",
    "        self.designation = designation\n",
    "        super().__init__(name, age)\n",
    "\n",
    "    def get_details(self):\n",
    "        print(super().get_details())\n",
    "        return f\"Salary is {self.salary} and designation is {self.designation}\"\n",
    "\n",
    "\n",
    "e1 = Employee(\"Jon\", 25, 20000, \"teacher\")\n",
    "print(e1.get_details())"
   ]
  },
  {
   "cell_type": "code",
   "execution_count": null,
   "id": "6940213d-ef50-44d4-8b03-e98add1645fa",
   "metadata": {},
   "outputs": [],
   "source": []
  }
 ],
 "metadata": {
  "kernelspec": {
   "display_name": "Python 3 (ipykernel)",
   "language": "python",
   "name": "python3"
  },
  "language_info": {
   "codemirror_mode": {
    "name": "ipython",
    "version": 3
   },
   "file_extension": ".py",
   "mimetype": "text/x-python",
   "name": "python",
   "nbconvert_exporter": "python",
   "pygments_lexer": "ipython3",
   "version": "3.11.4"
  }
 },
 "nbformat": 4,
 "nbformat_minor": 5
}
