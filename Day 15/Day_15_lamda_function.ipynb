{
 "cells": [
  {
   "cell_type": "code",
   "execution_count": 2,
   "id": "ca44605a-4bf0-4634-a722-01614c5d6af6",
   "metadata": {},
   "outputs": [],
   "source": [
    "#Lamda functions are the elegant way of creating one-linear functions in python\n",
    "# This function doesn't have name. So, it is also called as Anonymous function\n",
    "# We do not use lamda functions in the places where the function should be called. \n",
    "#We use it when we need a reference of the function. FOr ecample as a parameter in higher order functions like map. reduce and filter"
   ]
  },
  {
   "cell_type": "code",
   "execution_count": 11,
   "id": "11fa9ece-20f6-4804-8102-31ce5dcbc0e3",
   "metadata": {},
   "outputs": [
    {
     "name": "stdout",
     "output_type": "stream",
     "text": [
      "5\n",
      "5\n"
     ]
    }
   ],
   "source": [
    "def addition(x, y):\n",
    "    return x + y\n",
    "\n",
    "print(addition(2, 3))  # 5\n",
    "\n",
    "add = lambda x,y: x+y\n",
    "print(add(2,3))"
   ]
  },
  {
   "cell_type": "code",
   "execution_count": 16,
   "id": "7bf7f736-7054-46e8-b47d-8fe39f3073ed",
   "metadata": {},
   "outputs": [
    {
     "name": "stdout",
     "output_type": "stream",
     "text": [
      "[16, 17, 18, 19, 20]\n"
     ]
    }
   ],
   "source": [
    "#map()\n",
    "nums=[1,2,3,4,5]\n",
    "\n",
    "def add_15_to_each(element):\n",
    "    return element +15\n",
    "\n",
    "result = map(lambda x: x + 15, nums)  # map() returns a map object which is an iterator. But to see the\n",
    "# actual data, we need to convert it to some other datatype\n",
    "print(list(result))  # [16, 17, 18, 19, 20]"
   ]
  },
  {
   "cell_type": "code",
   "execution_count": 5,
   "id": "c2ab4e16-9a5a-4be7-86d6-c4103562ff81",
   "metadata": {},
   "outputs": [
    {
     "name": "stdout",
     "output_type": "stream",
     "text": [
      "[1, 4, 9, 16, 25]\n"
     ]
    }
   ],
   "source": [
    "nums=[1,2,3,4,5]\n",
    "result=map(lambda x:x **2, nums)\n",
    "print(list(result))\n",
    "    "
   ]
  },
  {
   "cell_type": "code",
   "execution_count": 8,
   "id": "d09b5451-ecdd-43e0-aae6-da42e6667f8d",
   "metadata": {},
   "outputs": [
    {
     "name": "stdout",
     "output_type": "stream",
     "text": [
      "[2, 4, 6, 8, 10]\n"
     ]
    }
   ],
   "source": [
    "nums=[1,2,3,4,5,6,7,8,9,10]\n",
    "result = filter(lambda x:x%2==0,nums)\n",
    "print(list(result))"
   ]
  },
  {
   "cell_type": "code",
   "execution_count": 20,
   "id": "a6d4c5fc-7544-4cb2-85aa-768bb4b3d7a4",
   "metadata": {},
   "outputs": [
    {
     "name": "stdout",
     "output_type": "stream",
     "text": [
      "55\n"
     ]
    }
   ],
   "source": [
    "from functools import reduce\n",
    "nums=[1,2,3,4,5,6,7,8,9,10]\n",
    "result=reduce(lambda x,y:x+y,nums)\n",
    "\n",
    "print(result)"
   ]
  },
  {
   "cell_type": "code",
   "execution_count": 21,
   "id": "c21fc663-3cd4-48c3-bdea-0e6fa70dc29d",
   "metadata": {},
   "outputs": [
    {
     "name": "stdout",
     "output_type": "stream",
     "text": [
      "[1, 2, 3, 4, 5, 6, 7, 8, 9, 10]\n"
     ]
    }
   ],
   "source": [
    "nums=[1,2,3,4,5,6,7,8,9,10]\n",
    "result=list(filter(lambda element:element **2,nums))\n",
    "print(result)"
   ]
  },
  {
   "cell_type": "code",
   "execution_count": 24,
   "id": "6321b24b-c077-4054-8fa2-7397cb3dcf05",
   "metadata": {},
   "outputs": [
    {
     "name": "stdout",
     "output_type": "stream",
     "text": [
      "55\n"
     ]
    }
   ],
   "source": [
    "nums=[1,2,3,4,5,6,7,8,9,10]\n",
    "result= reduce(lambda x,y:x+y, nums)\n",
    "print(result)"
   ]
  },
  {
   "cell_type": "code",
   "execution_count": null,
   "id": "b9d5079c-14b9-43b6-9489-d26c7ac28fe9",
   "metadata": {},
   "outputs": [],
   "source": []
  }
 ],
 "metadata": {
  "kernelspec": {
   "display_name": "Python 3 (ipykernel)",
   "language": "python",
   "name": "python3"
  },
  "language_info": {
   "codemirror_mode": {
    "name": "ipython",
    "version": 3
   },
   "file_extension": ".py",
   "mimetype": "text/x-python",
   "name": "python",
   "nbconvert_exporter": "python",
   "pygments_lexer": "ipython3",
   "version": "3.11.4"
  }
 },
 "nbformat": 4,
 "nbformat_minor": 5
}
