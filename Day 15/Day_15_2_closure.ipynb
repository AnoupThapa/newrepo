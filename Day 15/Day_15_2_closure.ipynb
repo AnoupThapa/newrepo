{
 "cells": [
  {
   "cell_type": "code",
   "execution_count": 1,
   "id": "b3c4cd14-8a38-43d7-8b96-69000bd9927f",
   "metadata": {},
   "outputs": [],
   "source": [
    "#Closure is the concept in the functional python which satisfies the following points:\n",
    "#1. There must be a function definition inside a function (i.e Nested Function)\n",
    "#2. Inner function must refer to the parameter of the outer function\n",
    "#3. Outer function must return the inner function"
   ]
  },
  {
   "cell_type": "code",
   "execution_count": 1,
   "id": "df312a4b-65ec-4fad-94cd-60f9427ede8d",
   "metadata": {},
   "outputs": [],
   "source": [
    "def closure_fxn(text):\n",
    "    def inner_fxn():\n",
    "        print(text)\n",
    "    return inner_fxn"
   ]
  },
  {
   "cell_type": "code",
   "execution_count": 5,
   "id": "d7bc0636-cab3-46e3-ab61-ef4515413ecd",
   "metadata": {},
   "outputs": [
    {
     "name": "stdout",
     "output_type": "stream",
     "text": [
      "Hello World\n"
     ]
    }
   ],
   "source": [
    "result = closure_fxn(\"Hello World\")\n",
    "result()"
   ]
  },
  {
   "cell_type": "code",
   "execution_count": null,
   "id": "058164e4-8947-46ad-bd13-20f24cf85652",
   "metadata": {},
   "outputs": [],
   "source": []
  }
 ],
 "metadata": {
  "kernelspec": {
   "display_name": "Python 3 (ipykernel)",
   "language": "python",
   "name": "python3"
  },
  "language_info": {
   "codemirror_mode": {
    "name": "ipython",
    "version": 3
   },
   "file_extension": ".py",
   "mimetype": "text/x-python",
   "name": "python",
   "nbconvert_exporter": "python",
   "pygments_lexer": "ipython3",
   "version": "3.11.4"
  }
 },
 "nbformat": 4,
 "nbformat_minor": 5
}
