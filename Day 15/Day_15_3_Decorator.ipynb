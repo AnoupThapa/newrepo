{
 "cells": [
  {
   "cell_type": "code",
   "execution_count": 6,
   "id": "08cf23be-39b7-4fc5-99f4-b2b28db94920",
   "metadata": {},
   "outputs": [],
   "source": [
    "#Decorators are the functions in the python which add extra functionality in the existing function\n",
    "#It is created on the basis of closure concept"
   ]
  },
  {
   "cell_type": "code",
   "execution_count": 15,
   "id": "27ec8320-2852-4583-acea-c7cef2e5fb92",
   "metadata": {},
   "outputs": [],
   "source": [
    "def closure_fxn(text):\n",
    "    def inner_fxn():\n",
    "        print(\"Im learning python\")\n",
    "        print(text)\n",
    "    return inner_fxn"
   ]
  },
  {
   "cell_type": "code",
   "execution_count": 16,
   "id": "afccc454-2587-4065-9c8f-1b222946c4a7",
   "metadata": {},
   "outputs": [
    {
     "name": "stdout",
     "output_type": "stream",
     "text": [
      "Im learning python\n",
      "Hello World\n"
     ]
    }
   ],
   "source": [
    "result = closure_fxn(\"Hello World\")\n",
    "result()"
   ]
  },
  {
   "cell_type": "code",
   "execution_count": 17,
   "id": "c208d5df-ccd5-4d1b-a66d-6fb5ca2d7182",
   "metadata": {},
   "outputs": [],
   "source": [
    "def extra_message (func):\n",
    "    def inner_fxn():\n",
    "        print(\"Im learning python\")\n",
    "        return func()\n",
    "    return inner_fxn"
   ]
  },
  {
   "cell_type": "code",
   "execution_count": 27,
   "id": "366cddb7-b08f-4954-a1d3-2c4a443e6ffd",
   "metadata": {},
   "outputs": [
    {
     "name": "stdout",
     "output_type": "stream",
     "text": [
      "Im learning python\n",
      "Hello World\n"
     ]
    }
   ],
   "source": [
    "def message():\n",
    "    print(\"Hello World\")\n",
    "result = extra_message(message)\n",
    "result()"
   ]
  },
  {
   "cell_type": "code",
   "execution_count": 28,
   "id": "9713453f-bab2-4149-87d7-1dba9d64cc5c",
   "metadata": {},
   "outputs": [],
   "source": [
    "def extra_message(func):\n",
    "    def inner_fxn():\n",
    "        print(\"Im learning Python\")\n",
    "        return func()\n",
    "    return inner_fxn\n"
   ]
  },
  {
   "cell_type": "code",
   "execution_count": 29,
   "id": "60eca14e-fc6d-4c9f-b2c0-6d54b5d71a07",
   "metadata": {},
   "outputs": [],
   "source": [
    "@extra_message\n",
    "def message():\n",
    "    print(\"Hello World\")"
   ]
  },
  {
   "cell_type": "code",
   "execution_count": 30,
   "id": "882bbb3e-a533-43d3-a8e6-96470285cfb7",
   "metadata": {},
   "outputs": [
    {
     "name": "stdout",
     "output_type": "stream",
     "text": [
      "Im learning Python\n",
      "Hello World\n"
     ]
    }
   ],
   "source": [
    "# message = extra_message(message)\n",
    "message()"
   ]
  },
  {
   "cell_type": "code",
   "execution_count": null,
   "id": "2986f4e3-d367-4770-9b70-d1e0627bdfce",
   "metadata": {},
   "outputs": [],
   "source": []
  }
 ],
 "metadata": {
  "kernelspec": {
   "display_name": "Python 3 (ipykernel)",
   "language": "python",
   "name": "python3"
  },
  "language_info": {
   "codemirror_mode": {
    "name": "ipython",
    "version": 3
   },
   "file_extension": ".py",
   "mimetype": "text/x-python",
   "name": "python",
   "nbconvert_exporter": "python",
   "pygments_lexer": "ipython3",
   "version": "3.11.4"
  }
 },
 "nbformat": 4,
 "nbformat_minor": 5
}
