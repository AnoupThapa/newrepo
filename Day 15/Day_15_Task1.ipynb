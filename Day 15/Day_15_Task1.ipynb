{
 "cells": [
  {
   "cell_type": "code",
   "execution_count": 1,
   "id": "c4b94d6e-2aa7-41dd-86e1-1a4f8012818e",
   "metadata": {},
   "outputs": [],
   "source": [
    "#Create a decorator which changes the text of the main function to the upper case"
   ]
  },
  {
   "cell_type": "code",
   "execution_count": 13,
   "id": "90bdd9cf-6593-484d-9a3d-1246bfb76725",
   "metadata": {},
   "outputs": [],
   "source": [
    "def to_upper(func): #=> func=message\n",
    "    def inner_func(txt): #txt = hello world\n",
    "        result= func(txt) #message(\"hello world\")\n",
    "        return result.upper()\n",
    "    return inner_func\n",
    "    "
   ]
  },
  {
   "cell_type": "code",
   "execution_count": 14,
   "id": "df2f75c0-1e99-4276-a51c-99f8f521c9d0",
   "metadata": {},
   "outputs": [],
   "source": [
    "def message(txt):\n",
    "    return txt"
   ]
  },
  {
   "cell_type": "code",
   "execution_count": 16,
   "id": "80f67be7-4cc9-4255-8bbe-5b9aa75b209a",
   "metadata": {},
   "outputs": [
    {
     "name": "stdout",
     "output_type": "stream",
     "text": [
      "HELLO WORLD\n"
     ]
    }
   ],
   "source": [
    "message = to_upper(message)\n",
    "print(message(\"hello world\"))"
   ]
  },
  {
   "cell_type": "code",
   "execution_count": 17,
   "id": "95296948-07a9-4c47-ac31-34a031c4fa2e",
   "metadata": {},
   "outputs": [],
   "source": [
    "def to_upper(func): #=> func=message\n",
    "    def inner_func(txt): #txt = hello world\n",
    "        result= func(txt) #message(\"hello world\")\n",
    "        return result.upper()\n",
    "    return inner_func"
   ]
  },
  {
   "cell_type": "code",
   "execution_count": 20,
   "id": "c87c8e8b-8c26-4867-94be-f76630959e6c",
   "metadata": {},
   "outputs": [
    {
     "name": "stdout",
     "output_type": "stream",
     "text": [
      "HELLO WORLD\n"
     ]
    }
   ],
   "source": [
    "@to_upper\n",
    "def message(txt):\n",
    "    return txt\n",
    "\n",
    "print(message(\"hello world\"))"
   ]
  },
  {
   "cell_type": "code",
   "execution_count": 27,
   "id": "416d225c-e7ef-4598-a8c2-bf15c60e17d3",
   "metadata": {},
   "outputs": [
    {
     "name": "stdout",
     "output_type": "stream",
     "text": [
      "HELLO WORLD\n"
     ]
    }
   ],
   "source": [
    "@to_upper\n",
    "def message(txt):\n",
    "    return txt\n",
    "\n",
    "print(message(\"hello world\"))"
   ]
  },
  {
   "cell_type": "code",
   "execution_count": null,
   "id": "ac995304-d023-4ae6-90bb-7491a3964bea",
   "metadata": {},
   "outputs": [],
   "source": [
    "def to_upper(func):\n",
    "    def inner_func(*args,**kwargs):\n",
    "        result=function(*args,**kwargs)\n",
    "        return result.upper()"
   ]
  }
 ],
 "metadata": {
  "kernelspec": {
   "display_name": "Python 3 (ipykernel)",
   "language": "python",
   "name": "python3"
  },
  "language_info": {
   "codemirror_mode": {
    "name": "ipython",
    "version": 3
   },
   "file_extension": ".py",
   "mimetype": "text/x-python",
   "name": "python",
   "nbconvert_exporter": "python",
   "pygments_lexer": "ipython3",
   "version": "3.11.4"
  }
 },
 "nbformat": 4,
 "nbformat_minor": 5
}
