{
 "cells": [
  {
   "cell_type": "code",
   "execution_count": 1,
   "id": "602615c5-dcfa-4058-9809-72ec8835216e",
   "metadata": {},
   "outputs": [],
   "source": [
    "#WAP to create a \"login_required\" decoratpr which if added to a function asks for a password. \n",
    "#If the password is entered \"123\" then the function can be accessed else throw the message \"Invalid Password\"\n"
   ]
  },
  {
   "cell_type": "code",
   "execution_count": 5,
   "id": "7deb56c1-6858-4c8f-8525-2cc7f3e9bf4d",
   "metadata": {},
   "outputs": [],
   "source": [
    "\n",
    "def addition(a,b):\n",
    "    return a+b"
   ]
  },
  {
   "cell_type": "code",
   "execution_count": 6,
   "id": "0c57680c-c9fa-483e-af48-8f249a24de16",
   "metadata": {},
   "outputs": [
    {
     "name": "stdout",
     "output_type": "stream",
     "text": [
      "5\n"
     ]
    }
   ],
   "source": [
    "result = addition(2,3)\n",
    "print(result)"
   ]
  },
  {
   "cell_type": "code",
   "execution_count": 2,
   "id": "590ed456-5433-4588-bc41-2dc0fbd153f0",
   "metadata": {},
   "outputs": [],
   "source": [
    "def login_required(func):\n",
    "    def inner_func(*args,**kwargs):\n",
    "        pw=input(\"Enter your password\")\n",
    "        if pw==\"123\":\n",
    "            return func(*args, **kwargs)\n",
    "        else:\n",
    "            return \"Invalid Password\"\n",
    "    return inner_func\n",
    "        "
   ]
  },
  {
   "cell_type": "code",
   "execution_count": 3,
   "id": "c05c6d7f-2310-4cee-85fe-b5e099870553",
   "metadata": {},
   "outputs": [],
   "source": [
    "@login_required\n",
    "def addition(a,b):\n",
    "    return a+b"
   ]
  },
  {
   "cell_type": "code",
   "execution_count": 5,
   "id": "67f3e0d7-2536-4876-a5cb-c1d00d1e3708",
   "metadata": {},
   "outputs": [],
   "source": [
    "def login_required(func):\n",
    "    def inner_func(*args, **kwargs):\n",
    "        pw = input(\"Enter your password \")\n",
    "        if pw == '123':\n",
    "            return func(*args, **kwargs)\n",
    "        else:\n",
    "            return \"Invalid Password\"\n",
    "    return inner_func"
   ]
  },
  {
   "cell_type": "code",
   "execution_count": 6,
   "id": "919734eb-d2c8-49d8-b240-c09038ef5716",
   "metadata": {},
   "outputs": [
    {
     "name": "stdin",
     "output_type": "stream",
     "text": [
      "Enter your password  123\n"
     ]
    },
    {
     "name": "stdout",
     "output_type": "stream",
     "text": [
      "5\n"
     ]
    }
   ],
   "source": [
    "@login_required\n",
    "def addition(a, b):\n",
    "    return a + b\n",
    "\n",
    "\n",
    "result = addition(2, 3)\n",
    "print(result)"
   ]
  },
  {
   "cell_type": "code",
   "execution_count": null,
   "id": "40227879-ee21-4f7d-b0e7-d93e50dae3ed",
   "metadata": {},
   "outputs": [],
   "source": []
  }
 ],
 "metadata": {
  "kernelspec": {
   "display_name": "Python 3 (ipykernel)",
   "language": "python",
   "name": "python3"
  },
  "language_info": {
   "codemirror_mode": {
    "name": "ipython",
    "version": 3
   },
   "file_extension": ".py",
   "mimetype": "text/x-python",
   "name": "python",
   "nbconvert_exporter": "python",
   "pygments_lexer": "ipython3",
   "version": "3.11.4"
  }
 },
 "nbformat": 4,
 "nbformat_minor": 5
}
