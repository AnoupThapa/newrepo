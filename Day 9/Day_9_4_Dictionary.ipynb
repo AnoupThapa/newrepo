{
 "cells": [
  {
   "cell_type": "code",
   "execution_count": 1,
   "id": "1f646aac-b76c-44e0-844e-bcb3339900b4",
   "metadata": {},
   "outputs": [
    {
     "name": "stdout",
     "output_type": "stream",
     "text": [
      "{}\n",
      "{}\n"
     ]
    }
   ],
   "source": [
    "#Dictionary are the mutable datatypes in python\n",
    "#They are the key-value pairs enclosed within curly braces\n",
    "#creating an empty dictionary\n",
    "a={}\n",
    "print(a)\n",
    "a=dict()\n",
    "print(a)"
   ]
  },
  {
   "cell_type": "code",
   "execution_count": 18,
   "id": "67613e03-3bd0-4d55-9808-e3a397f77d6c",
   "metadata": {},
   "outputs": [
    {
     "name": "stdout",
     "output_type": "stream",
     "text": [
      "{'name': 'Jane', 'age': 30, 'address': 'KTM'}\n"
     ]
    }
   ],
   "source": [
    "#Creating non-empty dictionary\n",
    "student={\"name\":\"Jane\",\"age\":30, \"address\":\"KTM\"}\n",
    "print(student)"
   ]
  },
  {
   "cell_type": "code",
   "execution_count": 19,
   "id": "a0ee37df-45e0-4657-9935-5e61b9387308",
   "metadata": {},
   "outputs": [
    {
     "name": "stdout",
     "output_type": "stream",
     "text": [
      "{'name': 'Jane', 'age': 30, 'address': 'KTM'}\n"
     ]
    }
   ],
   "source": [
    "student = dict(name=\"Jane\", age=30, address=\"KTM\")\n",
    "print(student)"
   ]
  },
  {
   "cell_type": "code",
   "execution_count": 20,
   "id": "24e3b612-b14b-4777-a4a8-33b2eafa4012",
   "metadata": {},
   "outputs": [
    {
     "name": "stdout",
     "output_type": "stream",
     "text": [
      "Jane\n"
     ]
    }
   ],
   "source": [
    "#Accessing elements of a dictionary \n",
    "student={\"name\":\"Jane\",\"age\":30, \"address\":\"KTM\"}\n",
    "#Dictionary elements are accessed using keys\n",
    "name = student[\"name\"]\n",
    "print(name)"
   ]
  },
  {
   "cell_type": "code",
   "execution_count": 21,
   "id": "b31f5a30-a58a-48b7-af5d-69613fb07dad",
   "metadata": {},
   "outputs": [
    {
     "name": "stdout",
     "output_type": "stream",
     "text": [
      "30\n"
     ]
    }
   ],
   "source": [
    "age = student[\"age\"]\n",
    "print(age)"
   ]
  },
  {
   "cell_type": "code",
   "execution_count": 22,
   "id": "3e3efe8e-d10e-4219-8943-2c0d743ac9ea",
   "metadata": {},
   "outputs": [
    {
     "name": "stdout",
     "output_type": "stream",
     "text": [
      "KTM\n"
     ]
    }
   ],
   "source": [
    "address = student[\"address\"]\n",
    "print(address)"
   ]
  },
  {
   "cell_type": "code",
   "execution_count": 24,
   "id": "1a0ad9bf-813f-41b2-aba7-6c547ae70f46",
   "metadata": {},
   "outputs": [
    {
     "ename": "SyntaxError",
     "evalue": "incomplete input (2399711745.py, line 1)",
     "output_type": "error",
     "traceback": [
      "\u001b[1;36m  Cell \u001b[1;32mIn[24], line 1\u001b[1;36m\u001b[0m\n\u001b[1;33m    print(student[\"roll_no\"] # It shows KeyError\u001b[0m\n\u001b[1;37m                                                ^\u001b[0m\n\u001b[1;31mSyntaxError\u001b[0m\u001b[1;31m:\u001b[0m incomplete input\n"
     ]
    }
   ],
   "source": [
    "print(student[\"roll_no\"] # It shows KeyError"
   ]
  },
  {
   "cell_type": "code",
   "execution_count": 30,
   "id": "247f128a-b020-4a84-8649-5255dd3f375a",
   "metadata": {},
   "outputs": [
    {
     "name": "stdout",
     "output_type": "stream",
     "text": [
      "Jane\n"
     ]
    }
   ],
   "source": [
    "#accessing dictionary elements using .get() method\n",
    "student={\"name\":\"Jane\",\"age\":30, \"address\":\"KTM\"}\n",
    "student.get(\"name\")\n",
    "print(name)"
   ]
  },
  {
   "cell_type": "code",
   "execution_count": 31,
   "id": "ba6a9207-ac9a-40fa-b2ae-f934caaa2dce",
   "metadata": {},
   "outputs": [
    {
     "name": "stdout",
     "output_type": "stream",
     "text": [
      "30\n"
     ]
    }
   ],
   "source": [
    "student.get(\"age\")\n",
    "print(age)"
   ]
  },
  {
   "cell_type": "code",
   "execution_count": 34,
   "id": "57a463c9-0e3e-48a0-b6af-dab02a55ff32",
   "metadata": {},
   "outputs": [
    {
     "name": "stdout",
     "output_type": "stream",
     "text": [
      "KTM\n"
     ]
    }
   ],
   "source": [
    "student.get(\"address\")\n",
    "print(address)"
   ]
  },
  {
   "cell_type": "code",
   "execution_count": 35,
   "id": "65c380d2-2707-4e2d-a118-4da5d5af91b8",
   "metadata": {},
   "outputs": [
    {
     "name": "stdout",
     "output_type": "stream",
     "text": [
      "None\n"
     ]
    }
   ],
   "source": [
    "roll_no = student.get(\"roll_no\")\n",
    "print(roll_no)  # None"
   ]
  },
  {
   "cell_type": "code",
   "execution_count": null,
   "id": "cf5debad-b04b-4d04-8489-fcb7e0fb6dba",
   "metadata": {},
   "outputs": [],
   "source": []
  }
 ],
 "metadata": {
  "kernelspec": {
   "display_name": "Python 3 (ipykernel)",
   "language": "python",
   "name": "python3"
  },
  "language_info": {
   "codemirror_mode": {
    "name": "ipython",
    "version": 3
   },
   "file_extension": ".py",
   "mimetype": "text/x-python",
   "name": "python",
   "nbconvert_exporter": "python",
   "pygments_lexer": "ipython3",
   "version": "3.11.4"
  }
 },
 "nbformat": 4,
 "nbformat_minor": 5
}
