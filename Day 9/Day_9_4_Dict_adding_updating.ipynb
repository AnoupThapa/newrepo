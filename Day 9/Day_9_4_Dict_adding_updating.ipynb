{
 "cells": [
  {
   "cell_type": "code",
   "execution_count": 3,
   "id": "ef72bf8c-7ad0-4523-9bad-96d8d16b2826",
   "metadata": {},
   "outputs": [
    {
     "name": "stdout",
     "output_type": "stream",
     "text": [
      "{'name': 'Jane', 'age': 30, 'address': 'KTM', 'roll_no': 21}\n"
     ]
    }
   ],
   "source": [
    "student = {\"name\": \"Jane\", \"age\": 30, \"address\": \"KTM\"}\n",
    "student[\"roll_no\"]= 21\n",
    "print(student) #adds the roll no as well"
   ]
  },
  {
   "cell_type": "code",
   "execution_count": 4,
   "id": "59b00149-a70a-403d-a118-c5a1fec95604",
   "metadata": {},
   "outputs": [
    {
     "name": "stdout",
     "output_type": "stream",
     "text": [
      "{'name': 'Jon', 'age': 30, 'address': 'KTM', 'roll_no': 21}\n"
     ]
    }
   ],
   "source": [
    "student[\"name\"] =\"Jon\"\n",
    "print(student) #replace the name only"
   ]
  },
  {
   "cell_type": "code",
   "execution_count": 9,
   "id": "a02f7e77-04a3-455b-bb9e-bcd353d0c7ae",
   "metadata": {},
   "outputs": [
    {
     "name": "stdout",
     "output_type": "stream",
     "text": [
      "{'name': 'Jon', 'age': 30, 'address': 'KTM', 'roll_no': 21, 'Institute': 'Broadway', 'phone_no': 9842456}\n"
     ]
    }
   ],
   "source": [
    "other_info = {\"Institute\": \"Broadway\", \"phone_no\":9842456}\n",
    "student.update(other_info)\n",
    "print(student)"
   ]
  },
  {
   "cell_type": "code",
   "execution_count": 10,
   "id": "8e292d04-ba3c-4584-a99a-f885df4d3b50",
   "metadata": {},
   "outputs": [
    {
     "name": "stdout",
     "output_type": "stream",
     "text": [
      "{'name': 'Jon', 'age': 30, 'address': 'KTM', 'roll_no': 21, 'Institute': 'Broadway', 'phone_no': 9842456, 'last_name': 'ABC'}\n"
     ]
    }
   ],
   "source": [
    "student.update(last_name=\"ABC\")\n",
    "print(student)"
   ]
  },
  {
   "cell_type": "code",
   "execution_count": null,
   "id": "573bc897-8011-49ed-b8bc-c0702ca5a97a",
   "metadata": {},
   "outputs": [],
   "source": []
  }
 ],
 "metadata": {
  "kernelspec": {
   "display_name": "Python 3 (ipykernel)",
   "language": "python",
   "name": "python3"
  },
  "language_info": {
   "codemirror_mode": {
    "name": "ipython",
    "version": 3
   },
   "file_extension": ".py",
   "mimetype": "text/x-python",
   "name": "python",
   "nbconvert_exporter": "python",
   "pygments_lexer": "ipython3",
   "version": "3.11.4"
  }
 },
 "nbformat": 4,
 "nbformat_minor": 5
}
