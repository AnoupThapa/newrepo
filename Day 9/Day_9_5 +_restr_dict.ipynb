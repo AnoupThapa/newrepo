{
 "cells": [
  {
   "cell_type": "code",
   "execution_count": 1,
   "id": "e979af51-deb3-493b-99ef-9126a20d8642",
   "metadata": {},
   "outputs": [],
   "source": [
    "#Dictionary values can be of any data type\n",
    "#But, there is a rule for dictionary keys that they must immutable.\n",
    "#Dictionary Keys can not contaiin any mutable type directly or indirectly."
   ]
  },
  {
   "cell_type": "code",
   "execution_count": 3,
   "id": "2cd9db4a-2f96-4f80-8bd7-d916d17536a6",
   "metadata": {},
   "outputs": [
    {
     "data": {
      "text/plain": [
       "'Hello'"
      ]
     },
     "execution_count": 3,
     "metadata": {},
     "output_type": "execute_result"
    }
   ],
   "source": [
    "data = {1:\"Hello\",2:\"World\"} #valid\n",
    "data[1]"
   ]
  },
  {
   "cell_type": "code",
   "execution_count": 4,
   "id": "6e99cd63-0ef8-4ffd-94f3-1a66bd59a93b",
   "metadata": {},
   "outputs": [
    {
     "data": {
      "text/plain": [
       "[1, 2, 3]"
      ]
     },
     "execution_count": 4,
     "metadata": {},
     "output_type": "execute_result"
    }
   ],
   "source": [
    "data = {2.1:[1,2,3],True: \"Hello\"} #Valid\n",
    "data[2.1]"
   ]
  },
  {
   "cell_type": "code",
   "execution_count": 6,
   "id": "d9a41a04-31e5-443b-b33a-a2dec50199b0",
   "metadata": {},
   "outputs": [
    {
     "data": {
      "text/plain": [
       "1"
      ]
     },
     "execution_count": 6,
     "metadata": {},
     "output_type": "execute_result"
    }
   ],
   "source": [
    "data = {(1,2,3):1, (4,5):2}#Valid\n",
    "data[(1,2,3)]"
   ]
  },
  {
   "cell_type": "code",
   "execution_count": 8,
   "id": "d8d2dbd2-19ac-4b38-846f-c8d36479009a",
   "metadata": {},
   "outputs": [
    {
     "ename": "TypeError",
     "evalue": "unhashable type: 'list'",
     "output_type": "error",
     "traceback": [
      "\u001b[1;31m---------------------------------------------------------------------------\u001b[0m",
      "\u001b[1;31mTypeError\u001b[0m                                 Traceback (most recent call last)",
      "Cell \u001b[1;32mIn[8], line 1\u001b[0m\n\u001b[1;32m----> 1\u001b[0m data \u001b[38;5;241m=\u001b[39m {([\u001b[38;5;241m1\u001b[39m, \u001b[38;5;241m2\u001b[39m, \u001b[38;5;241m3\u001b[39m], \u001b[38;5;241m2\u001b[39m): \u001b[38;5;124m\"\u001b[39m\u001b[38;5;124mHello\u001b[39m\u001b[38;5;124m\"\u001b[39m, \u001b[38;5;241m2\u001b[39m: \u001b[38;5;124m\"\u001b[39m\u001b[38;5;124mWorld\u001b[39m\u001b[38;5;124m\"\u001b[39m}  \u001b[38;5;66;03m# Invalid\u001b[39;00m\n\u001b[0;32m      2\u001b[0m data \u001b[38;5;241m=\u001b[39m {[\u001b[38;5;241m1\u001b[39m, \u001b[38;5;241m2\u001b[39m, \u001b[38;5;241m3\u001b[39m]: \u001b[38;5;124m\"\u001b[39m\u001b[38;5;124mHello\u001b[39m\u001b[38;5;124m\"\u001b[39m, \u001b[38;5;241m2\u001b[39m: \u001b[38;5;124m\"\u001b[39m\u001b[38;5;124mWorld\u001b[39m\u001b[38;5;124m\"\u001b[39m}  \u001b[38;5;66;03m# Invalid\u001b[39;00m\n",
      "\u001b[1;31mTypeError\u001b[0m: unhashable type: 'list'"
     ]
    }
   ],
   "source": [
    "data = {([1, 2, 3], 2): \"Hello\", 2: \"World\"}  # Invalid\n",
    "data = {[1, 2, 3]: \"Hello\", 2: \"World\"}  # Invalid"
   ]
  },
  {
   "cell_type": "code",
   "execution_count": 24,
   "id": "987459d4-8ca9-442f-8120-aad121f33b99",
   "metadata": {},
   "outputs": [
    {
     "name": "stdout",
     "output_type": "stream",
     "text": [
      "['name']\n"
     ]
    }
   ],
   "source": [
    "student = {\"name\": \"Jon\", \"address\": \"KTM\"}  # Valid\n",
    "student =[\"name\"]\n",
    "print(student)\n"
   ]
  },
  {
   "cell_type": "code",
   "execution_count": 17,
   "id": "89e81723-9a14-402e-9bc0-da7227a0b2ab",
   "metadata": {},
   "outputs": [
    {
     "name": "stdout",
     "output_type": "stream",
     "text": [
      "False\n"
     ]
    }
   ],
   "source": [
    "#Membership in Dictionary is observed in keys and not in values\n",
    "student = {\"name\": \"Jon\", \"address\": \"KTM\"}\n",
    "print(\"jon\" in student)"
   ]
  },
  {
   "cell_type": "code",
   "execution_count": 18,
   "id": "845211a8-8969-4acf-8346-10c90eebcac8",
   "metadata": {},
   "outputs": [
    {
     "name": "stdout",
     "output_type": "stream",
     "text": [
      "True\n"
     ]
    }
   ],
   "source": [
    "print(\"name\" in student) "
   ]
  },
  {
   "cell_type": "code",
   "execution_count": 19,
   "id": "0c495e5d-09f0-49e7-92a5-98dfa2ca4fc1",
   "metadata": {},
   "outputs": [
    {
     "name": "stdout",
     "output_type": "stream",
     "text": [
      "False\n"
     ]
    }
   ],
   "source": [
    "print(\"address\" not in student)"
   ]
  },
  {
   "cell_type": "code",
   "execution_count": null,
   "id": "7f957910-de5e-4374-a197-4a884b1e8c37",
   "metadata": {},
   "outputs": [],
   "source": []
  }
 ],
 "metadata": {
  "kernelspec": {
   "display_name": "Python 3 (ipykernel)",
   "language": "python",
   "name": "python3"
  },
  "language_info": {
   "codemirror_mode": {
    "name": "ipython",
    "version": 3
   },
   "file_extension": ".py",
   "mimetype": "text/x-python",
   "name": "python",
   "nbconvert_exporter": "python",
   "pygments_lexer": "ipython3",
   "version": "3.11.4"
  }
 },
 "nbformat": 4,
 "nbformat_minor": 5
}
