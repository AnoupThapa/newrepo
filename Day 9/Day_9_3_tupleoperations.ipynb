{
 "cells": [
  {
   "cell_type": "code",
   "execution_count": 2,
   "id": "0f10dc72-5342-43f6-9a21-c5dbc7ac3829",
   "metadata": {},
   "outputs": [
    {
     "name": "stdout",
     "output_type": "stream",
     "text": [
      "(1, 2, 3, 4, 5, 6)\n"
     ]
    }
   ],
   "source": [
    "#concatenation(+)\n",
    "a= (1,2,3)\n",
    "b= (4,5,6)\n",
    "print(a+b) #(1,2,3,4,5,6)"
   ]
  },
  {
   "cell_type": "code",
   "execution_count": 3,
   "id": "a052c18b-df3b-4bb7-a315-6a7f6ffd305f",
   "metadata": {},
   "outputs": [
    {
     "name": "stdout",
     "output_type": "stream",
     "text": [
      "(1, 2, 1, 2)\n"
     ]
    }
   ],
   "source": [
    "#Repetition(*)\n",
    "a= (1,2)\n",
    "print(a*2) #(1,2,1.2)\n"
   ]
  },
  {
   "cell_type": "code",
   "execution_count": 4,
   "id": "27d5c2b3-b9d9-4155-9d1b-f512a15c5612",
   "metadata": {},
   "outputs": [
    {
     "name": "stdout",
     "output_type": "stream",
     "text": [
      "True\n",
      "False\n"
     ]
    }
   ],
   "source": [
    "#membership Operation ('in' and 'not in')\n",
    "a = (1,2,3)\n",
    "print(2 in a) #True\n",
    "print (3 not in a )"
   ]
  },
  {
   "cell_type": "code",
   "execution_count": 5,
   "id": "13a6039e-2999-4666-9545-da93632a7635",
   "metadata": {},
   "outputs": [
    {
     "name": "stdout",
     "output_type": "stream",
     "text": [
      "False\n"
     ]
    }
   ],
   "source": [
    "print(4 in a)"
   ]
  },
  {
   "cell_type": "code",
   "execution_count": 6,
   "id": "94563c46-91f5-4a47-badc-f7a288559b31",
   "metadata": {},
   "outputs": [
    {
     "name": "stdout",
     "output_type": "stream",
     "text": [
      "True\n"
     ]
    }
   ],
   "source": [
    "print(4 not in a)"
   ]
  },
  {
   "cell_type": "code",
   "execution_count": 7,
   "id": "c406b1cc-bd43-41b8-a9a6-a660fba8e31a",
   "metadata": {},
   "outputs": [
    {
     "name": "stdout",
     "output_type": "stream",
     "text": [
      "15\n"
     ]
    }
   ],
   "source": [
    "#other functions that can be used with tuple\n",
    "a = (1,2,3,4,5)\n",
    "print(sum(a))"
   ]
  },
  {
   "cell_type": "code",
   "execution_count": 12,
   "id": "e8cd637c-d9e9-4179-9432-e5a7675732d7",
   "metadata": {},
   "outputs": [
    {
     "name": "stdout",
     "output_type": "stream",
     "text": [
      "15\n"
     ]
    }
   ],
   "source": [
    "print(sum(a))"
   ]
  },
  {
   "cell_type": "code",
   "execution_count": 13,
   "id": "9333da63-7cc9-45a5-a9cf-e5668e7c7b7a",
   "metadata": {},
   "outputs": [
    {
     "name": "stdout",
     "output_type": "stream",
     "text": [
      "5\n"
     ]
    }
   ],
   "source": [
    "print(max(a))"
   ]
  },
  {
   "cell_type": "code",
   "execution_count": 14,
   "id": "0ec12077-7840-4deb-be19-f67485687adf",
   "metadata": {},
   "outputs": [
    {
     "name": "stdout",
     "output_type": "stream",
     "text": [
      "1\n"
     ]
    }
   ],
   "source": [
    "print(min(a))"
   ]
  },
  {
   "cell_type": "code",
   "execution_count": 16,
   "id": "cd800188-2a26-4af0-b691-0f16c5098993",
   "metadata": {},
   "outputs": [
    {
     "name": "stdout",
     "output_type": "stream",
     "text": [
      "[1, 2, 3, 4, 5]\n"
     ]
    }
   ],
   "source": [
    "print(sorted(a))"
   ]
  },
  {
   "cell_type": "code",
   "execution_count": 18,
   "id": "be808a62-f3da-48eb-9201-5a25a02fefb4",
   "metadata": {},
   "outputs": [
    {
     "name": "stdout",
     "output_type": "stream",
     "text": [
      "[1, 2, 3, 4, 4, 5]\n"
     ]
    }
   ],
   "source": [
    "a = (5,4,3,2,1,4)\n",
    "result = sorted(a)\n",
    "print(result)"
   ]
  },
  {
   "cell_type": "code",
   "execution_count": 21,
   "id": "de277ad6-d83d-4646-aa44-2764722c125f",
   "metadata": {},
   "outputs": [
    {
     "name": "stdout",
     "output_type": "stream",
     "text": [
      "[4, 1, 2, 3, 4, 5]\n"
     ]
    }
   ],
   "source": [
    "result= reversed(a)\n",
    "print(list(result))"
   ]
  },
  {
   "cell_type": "code",
   "execution_count": 23,
   "id": "2b8d8ddd-e2c3-4e19-be1c-5b4c2e466a98",
   "metadata": {},
   "outputs": [
    {
     "name": "stdout",
     "output_type": "stream",
     "text": [
      "(5, 4, 3, 2, 1, 4)\n"
     ]
    }
   ],
   "source": [
    "print(a)"
   ]
  },
  {
   "cell_type": "code",
   "execution_count": null,
   "id": "5d8485b1-6b0a-491f-877c-bce7590912db",
   "metadata": {},
   "outputs": [],
   "source": []
  }
 ],
 "metadata": {
  "kernelspec": {
   "display_name": "Python 3 (ipykernel)",
   "language": "python",
   "name": "python3"
  },
  "language_info": {
   "codemirror_mode": {
    "name": "ipython",
    "version": 3
   },
   "file_extension": ".py",
   "mimetype": "text/x-python",
   "name": "python",
   "nbconvert_exporter": "python",
   "pygments_lexer": "ipython3",
   "version": "3.11.4"
  }
 },
 "nbformat": 4,
 "nbformat_minor": 5
}
