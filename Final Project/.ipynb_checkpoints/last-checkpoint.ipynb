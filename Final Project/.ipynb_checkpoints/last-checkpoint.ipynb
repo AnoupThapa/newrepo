{
 "cells": [
  {
   "cell_type": "code",
   "execution_count": 4,
   "id": "e383569d-7d55-476d-b99a-95049c138c64",
   "metadata": {},
   "outputs": [
    {
     "name": "stdout",
     "output_type": "stream",
     "text": [
      "[(15, 5), (20, 21), (10, 20, 30)]\n"
     ]
    }
   ],
   "source": [
    "# Sample list of tuples\n",
    "data = [(1, 2,3), (15, 5), (8,1,1), (20,21), (10,20,30)]\n",
    "\n",
    "# Use filter() and lambda to filter tuples with a sum greater than 10\n",
    "result = list(filter(lambda x: sum(x) > 10,data))\n",
    "\n",
    "# Print the filtered tuples\n",
    "print(result)\n"
   ]
  },
  {
   "cell_type": "code",
   "execution_count": null,
   "id": "5bb7906b-0f8b-4886-8f98-26309c5008e0",
   "metadata": {},
   "outputs": [],
   "source": []
  }
 ],
 "metadata": {
  "kernelspec": {
   "display_name": "Python 3 (ipykernel)",
   "language": "python",
   "name": "python3"
  },
  "language_info": {
   "codemirror_mode": {
    "name": "ipython",
    "version": 3
   },
   "file_extension": ".py",
   "mimetype": "text/x-python",
   "name": "python",
   "nbconvert_exporter": "python",
   "pygments_lexer": "ipython3",
   "version": "3.11.4"
  }
 },
 "nbformat": 4,
 "nbformat_minor": 5
}
