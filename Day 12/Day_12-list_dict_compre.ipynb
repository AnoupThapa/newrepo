{
 "cells": [
  {
   "cell_type": "code",
   "execution_count": 1,
   "id": "d7bb6a3d-c16b-4f11-825e-00d0ba3335ad",
   "metadata": {},
   "outputs": [],
   "source": [
    "#comprehension is an elegant way of creating list and dictionary in python\n",
    "#comprehension is supported in dictionary and list only."
   ]
  },
  {
   "cell_type": "code",
   "execution_count": 18,
   "id": "36aec74c-1997-435e-ad45-ab7ef6ed5f71",
   "metadata": {},
   "outputs": [
    {
     "name": "stdout",
     "output_type": "stream",
     "text": [
      "[4, 9, 16, 25, 4, 9, 16, 25, 4, 9, 16, 25, 4, 9, 16, 25]\n"
     ]
    }
   ],
   "source": [
    "#List Comprehension\n",
    "data = [2,3,4,5]\n",
    "for each in data:\n",
    "    result.append(each**2)\n",
    "print(result)"
   ]
  },
  {
   "cell_type": "code",
   "execution_count": 19,
   "id": "d48fa306-469b-42d1-b407-ca666e17cf1e",
   "metadata": {},
   "outputs": [],
   "source": [
    "result= []"
   ]
  },
  {
   "cell_type": "code",
   "execution_count": 23,
   "id": "518c4b2e-66a2-41b8-a9a9-29696bcb51da",
   "metadata": {},
   "outputs": [
    {
     "name": "stdout",
     "output_type": "stream",
     "text": [
      "[4, 9, 16, 25, 4, 9, 16, 25, 4, 9, 16, 25]\n"
     ]
    }
   ],
   "source": [
    "data = [2,3,4,5]\n",
    "for each in data:\n",
    "    result.append(each**2)\n",
    "print(result)"
   ]
  },
  {
   "cell_type": "code",
   "execution_count": 24,
   "id": "5e6b8847-64ba-4d61-bd59-d056866500de",
   "metadata": {},
   "outputs": [],
   "source": [
    "result=[]"
   ]
  },
  {
   "cell_type": "code",
   "execution_count": 25,
   "id": "df7ab158-3788-4a2d-a031-5e926a897f5b",
   "metadata": {},
   "outputs": [
    {
     "name": "stdout",
     "output_type": "stream",
     "text": [
      "[4, 9, 16, 25]\n"
     ]
    }
   ],
   "source": [
    "result = [i**2 for i in data]\n",
    "print(result)"
   ]
  },
  {
   "cell_type": "code",
   "execution_count": 29,
   "id": "5a847165-47f9-47f7-8336-1ac88f004a7a",
   "metadata": {},
   "outputs": [
    {
     "name": "stdout",
     "output_type": "stream",
     "text": [
      "[0, 2, 4, 6, 8, 10, 12, 14]\n"
     ]
    }
   ],
   "source": [
    "result = [i for i in range(15) if i%2 == 0] #list comprehension with condition\n",
    "print(result)"
   ]
  },
  {
   "cell_type": "code",
   "execution_count": 34,
   "id": "36d91638-bc18-4fe9-9f91-3b4eb9e66fe5",
   "metadata": {},
   "outputs": [
    {
     "name": "stdout",
     "output_type": "stream",
     "text": [
      "[0, 3, 6, 9, 12, 15, 18, 21, 24, 27, 30, 33, 36, 39, 42, 45, 48, 51, 54, 57, 60, 63, 66, 69, 72, 75, 78, 81, 84, 87, 90, 93, 96, 99]\n"
     ]
    }
   ],
   "source": [
    "#for example\n",
    "result= [i for i in range(100) if i%3==0]\n",
    "print(result)"
   ]
  },
  {
   "cell_type": "code",
   "execution_count": 11,
   "id": "fc8c6d42-7ca8-414c-abea-9ebc03cd3893",
   "metadata": {},
   "outputs": [
    {
     "name": "stdout",
     "output_type": "stream",
     "text": [
      "{'name': 'Jon', 'age': 30, 'address': 'KTM'}\n"
     ]
    }
   ],
   "source": [
    "#Dictionary comprehension\n",
    "student = [(\"name\", \"Jon\"), (\"age\", 30), (\"address\", \"KTM\")]\n",
    "result = dict(student)\n",
    "print(result)  # {\"name\": \"Jon\", \"age\": 30, \"address\": \"KTM\"}"
   ]
  },
  {
   "cell_type": "code",
   "execution_count": 4,
   "id": "50495d28-d1a2-4b41-b70c-ca15081d0f2e",
   "metadata": {},
   "outputs": [
    {
     "name": "stdout",
     "output_type": "stream",
     "text": [
      "{'name': 'Jon', 'age': 30, 'address': 'KTM'}\n"
     ]
    }
   ],
   "source": [
    "result = {}\n",
    "for key, value in student:\n",
    "    result.update({key: value})\n",
    "print(result)  # {\"name\": \"Jon\", \"age\": 30, \"address\": \"KTM\"}\n"
   ]
  },
  {
   "cell_type": "code",
   "execution_count": 7,
   "id": "377b6162-3f76-4868-b67e-56614de3ac6c",
   "metadata": {},
   "outputs": [
    {
     "name": "stdout",
     "output_type": "stream",
     "text": [
      "{'name': 'Jon', 'age': 30, 'address': 'KTM'}\n"
     ]
    }
   ],
   "source": [
    "result = {k: v for k, v in student}  # dictionary comprehension\n",
    "print(result)"
   ]
  },
  {
   "cell_type": "code",
   "execution_count": 8,
   "id": "17a1ba5f-8db6-4a64-b049-0b0f26a0faf3",
   "metadata": {},
   "outputs": [],
   "source": [
    "data = (i for i in range(30)) #It might look like a tuple comprehension but it is not.\n",
    "#It is called as generator expression\n",
    "\n"
   ]
  }
 ],
 "metadata": {
  "kernelspec": {
   "display_name": "Python 3 (ipykernel)",
   "language": "python",
   "name": "python3"
  },
  "language_info": {
   "codemirror_mode": {
    "name": "ipython",
    "version": 3
   },
   "file_extension": ".py",
   "mimetype": "text/x-python",
   "name": "python",
   "nbconvert_exporter": "python",
   "pygments_lexer": "ipython3",
   "version": "3.11.4"
  }
 },
 "nbformat": 4,
 "nbformat_minor": 5
}
