{
 "cells": [
  {
   "cell_type": "code",
   "execution_count": 9,
   "id": "c86f8a8b-82f5-4de7-8505-5fc246364b69",
   "metadata": {},
   "outputs": [
    {
     "name": "stdout",
     "output_type": "stream",
     "text": [
      "Hello World\n",
      "None\n"
     ]
    }
   ],
   "source": [
    "#Functions are the block of reusable codes\n",
    "#If the same logic is repeated at multiple places in your program then they can be created as a function \n",
    "\n",
    "#Function can be of different variations:\n",
    "#1. Without Argument Without return \n",
    "def message():\n",
    "    print(\"Hello World\")\n",
    "\n",
    "result = message()\n",
    "print(result)\n",
    "    "
   ]
  },
  {
   "cell_type": "code",
   "execution_count": 7,
   "id": "90157a03-42da-43b5-b56b-9b72c63fc83c",
   "metadata": {},
   "outputs": [
    {
     "name": "stdout",
     "output_type": "stream",
     "text": [
      "5\n",
      "None\n"
     ]
    }
   ],
   "source": [
    "#with argument but without return\n",
    "def addition(a,b):\n",
    "    print(a+b)\n",
    "\n",
    "result = addition(2,3)\n",
    "print(result)"
   ]
  },
  {
   "cell_type": "code",
   "execution_count": 8,
   "id": "0d5e7184-83b4-4d32-b7d0-193425e9b26b",
   "metadata": {},
   "outputs": [
    {
     "name": "stdout",
     "output_type": "stream",
     "text": [
      "3\n"
     ]
    }
   ],
   "source": [
    "#with argument with return\n",
    "def add(a,b):\n",
    "    return a+b\n",
    "\n",
    "result= add(1,2)\n",
    "print(result)\n"
   ]
  },
  {
   "cell_type": "code",
   "execution_count": 4,
   "id": "c81344ab-0461-4bdb-bc0a-d0ab885aca39",
   "metadata": {},
   "outputs": [
    {
     "name": "stdout",
     "output_type": "stream",
     "text": [
      "Hello World\n"
     ]
    }
   ],
   "source": [
    "#Without argument with return\n",
    "def message():\n",
    "    return \"Hello World\"\n",
    "\n",
    "result = message()\n",
    "print(result)\n"
   ]
  },
  {
   "cell_type": "code",
   "execution_count": null,
   "id": "b178501a-4c7b-4d89-bf39-23ac6569adb1",
   "metadata": {},
   "outputs": [],
   "source": []
  }
 ],
 "metadata": {
  "kernelspec": {
   "display_name": "Python 3 (ipykernel)",
   "language": "python",
   "name": "python3"
  },
  "language_info": {
   "codemirror_mode": {
    "name": "ipython",
    "version": 3
   },
   "file_extension": ".py",
   "mimetype": "text/x-python",
   "name": "python",
   "nbconvert_exporter": "python",
   "pygments_lexer": "ipython3",
   "version": "3.11.4"
  }
 },
 "nbformat": 4,
 "nbformat_minor": 5
}
