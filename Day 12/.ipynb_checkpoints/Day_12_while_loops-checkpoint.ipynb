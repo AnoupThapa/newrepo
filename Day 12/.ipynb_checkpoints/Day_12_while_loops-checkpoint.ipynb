{
 "cells": [
  {
   "cell_type": "code",
   "execution_count": 1,
   "id": "dd8a1a90-aa5f-4432-bc09-4e531a1430d0",
   "metadata": {},
   "outputs": [],
   "source": [
    "#While loops\n",
    "#while is another type of liio in python which iterates until the condition after the while state\n",
    "#Is truthty\n",
    "#The condition parameter must be updated from inside the loop. Otherwise, the loop goes in infinite iteration \n"
   ]
  },
  {
   "cell_type": "code",
   "execution_count": 2,
   "id": "bc152680-d651-4530-bb1d-9c4094f03019",
   "metadata": {},
   "outputs": [
    {
     "name": "stdout",
     "output_type": "stream",
     "text": [
      "0\n",
      "1\n",
      "2\n",
      "3\n",
      "4\n",
      "5\n",
      "6\n",
      "7\n",
      "8\n",
      "9\n",
      "10\n"
     ]
    }
   ],
   "source": [
    "a = 0\n",
    "while a <=10:\n",
    "    print(a)\n",
    "    a+=1"
   ]
  },
  {
   "cell_type": "code",
   "execution_count": 6,
   "id": "80856929-6126-4b27-8c85-5a8c403f8bd8",
   "metadata": {},
   "outputs": [
    {
     "name": "stdout",
     "output_type": "stream",
     "text": [
      "[0, 2, 4, 6, 8, 10, 12, 14, 16, 18, 20]\n"
     ]
    }
   ],
   "source": [
    "result = [i for i in range(22) if i%2==0]\n",
    "print(result)"
   ]
  },
  {
   "cell_type": "code",
   "execution_count": 1,
   "id": "09bafc98-699b-4e54-a960-019333616425",
   "metadata": {},
   "outputs": [
    {
     "name": "stdout",
     "output_type": "stream",
     "text": [
      "0\n",
      "2\n",
      "4\n",
      "6\n",
      "8\n",
      "10\n",
      "12\n",
      "14\n",
      "16\n",
      "18\n",
      "20\n",
      "22\n",
      "24\n",
      "26\n",
      "28\n",
      "30\n",
      "32\n",
      "34\n",
      "36\n",
      "38\n"
     ]
    }
   ],
   "source": [
    "num = 0\n",
    "count = 0\n",
    "while count != 20:\n",
    "    if num % 2==0:\n",
    "        print(num)\n",
    "        count+=1\n",
    "    num+=1    "
   ]
  },
  {
   "cell_type": "code",
   "execution_count": null,
   "id": "30df0cd9-70e9-4d81-be67-1db99afd6f7d",
   "metadata": {},
   "outputs": [],
   "source": []
  }
 ],
 "metadata": {
  "kernelspec": {
   "display_name": "Python 3 (ipykernel)",
   "language": "python",
   "name": "python3"
  },
  "language_info": {
   "codemirror_mode": {
    "name": "ipython",
    "version": 3
   },
   "file_extension": ".py",
   "mimetype": "text/x-python",
   "name": "python",
   "nbconvert_exporter": "python",
   "pygments_lexer": "ipython3",
   "version": "3.11.4"
  }
 },
 "nbformat": 4,
 "nbformat_minor": 5
}
