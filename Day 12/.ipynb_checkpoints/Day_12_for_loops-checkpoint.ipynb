{
 "cells": [
  {
   "cell_type": "code",
   "execution_count": 4,
   "id": "65e0c431-4f37-46cc-bfb6-2701d5c7b178",
   "metadata": {},
   "outputs": [],
   "source": [
    "#It helps to reduce the manual effort and automate the task\n",
    "#There are two types of loops om python\n",
    "#1. For Loop\n",
    "#2. While loop\n",
    "\n",
    "#1For Loop\n",
    "# For loops in python is applied in the sequence of data (iterables).\n",
    "#Example: List, tu[;e dictionary, rangep() function, iterator objects etc.\n",
    "\n",
    "\n",
    "#for(i=0;i<=len(vowels); i++{\n",
    "#print (vowels[i])\n",
    "#} "
   ]
  },
  {
   "cell_type": "code",
   "execution_count": 5,
   "id": "7ebb2751-f5d6-49bb-9f40-4ebdd983cd44",
   "metadata": {},
   "outputs": [
    {
     "name": "stdout",
     "output_type": "stream",
     "text": [
      "a\n",
      "e\n",
      "i\n",
      "o\n",
      "u\n"
     ]
    }
   ],
   "source": [
    "#For loopa in difference python data-types\n",
    "vowels = [\"a\", \"e\",\"i\",\"o\",\"u\"]\n",
    "for each in vowels:\n",
    "    print(each)"
   ]
  },
  {
   "cell_type": "code",
   "execution_count": 8,
   "id": "2e1a0d42-386a-4b90-8e89-1ce9a2bd648e",
   "metadata": {},
   "outputs": [
    {
     "name": "stdout",
     "output_type": "stream",
     "text": [
      "name\n",
      "age\n",
      "address\n"
     ]
    }
   ],
   "source": [
    "#for loop in dictionary\n",
    "student ={\"name\":\"Jane\", \"age\":30,\"address\":\"Kalanki\"} #{for e.gname is keys and Jane is value)\n",
    "for each in student:\n",
    "    print(each)"
   ]
  },
  {
   "cell_type": "code",
   "execution_count": 10,
   "id": "aeba400c-50bd-43a1-a28d-4b05556b5103",
   "metadata": {},
   "outputs": [
    {
     "name": "stdout",
     "output_type": "stream",
     "text": [
      "name\n",
      "age\n",
      "address\n"
     ]
    }
   ],
   "source": [
    "keys = student.keys()\n",
    "for key in keys:\n",
    "    print(key)"
   ]
  },
  {
   "cell_type": "code",
   "execution_count": 13,
   "id": "2dd3f0e3-bf71-46e7-bf99-ad8106f849b8",
   "metadata": {},
   "outputs": [
    {
     "name": "stdout",
     "output_type": "stream",
     "text": [
      "name\n",
      "age\n",
      "address\n"
     ]
    }
   ],
   "source": [
    "for each in student:\n",
    "    print(each)"
   ]
  },
  {
   "cell_type": "code",
   "execution_count": 14,
   "id": "41efbd8d-2de2-4bf4-9216-1c3d42b072e5",
   "metadata": {},
   "outputs": [
    {
     "name": "stdout",
     "output_type": "stream",
     "text": [
      "name\n",
      "age\n",
      "address\n"
     ]
    }
   ],
   "source": [
    "for key in student.keys():\n",
    "    print(key)"
   ]
  },
  {
   "cell_type": "code",
   "execution_count": 18,
   "id": "a1f62946-f215-44fc-b8d2-98e615bfafe1",
   "metadata": {},
   "outputs": [
    {
     "name": "stdout",
     "output_type": "stream",
     "text": [
      "Jane\n",
      "30\n",
      "Kalanki\n"
     ]
    }
   ],
   "source": [
    "values = student.values()\n",
    "for value in values:\n",
    "    print(value)"
   ]
  },
  {
   "cell_type": "code",
   "execution_count": 24,
   "id": "9a7e1d3a-336e-4b0d-8b96-1159477bda0b",
   "metadata": {},
   "outputs": [
    {
     "name": "stdout",
     "output_type": "stream",
     "text": [
      "dict_values(['Jane', 30, 'Kalanki'])\n",
      "Jane\n",
      "30\n",
      "Kalanki\n"
     ]
    }
   ],
   "source": [
    "values= student.values()\n",
    "print(values)\n",
    "for value in values:\n",
    "    print(value)\n"
   ]
  },
  {
   "cell_type": "code",
   "execution_count": 22,
   "id": "df62501a-44f0-4ae1-9ba5-efbfe7291f2b",
   "metadata": {},
   "outputs": [
    {
     "name": "stdout",
     "output_type": "stream",
     "text": [
      "[('name', 'Jane'), ('age', 30), ('address', 'Kalanki')]\n"
     ]
    }
   ],
   "source": [
    "print(list(student.items()))"
   ]
  },
  {
   "cell_type": "code",
   "execution_count": 28,
   "id": "496adb2a-a706-4afe-a23a-eafa0294b1b1",
   "metadata": {},
   "outputs": [
    {
     "name": "stdout",
     "output_type": "stream",
     "text": [
      "dict_items([('name', 'Jane'), ('age', 30), ('address', 'Kalanki')])\n",
      "('name', 'Jane')\n",
      "('age', 30)\n",
      "('address', 'Kalanki')\n"
     ]
    }
   ],
   "source": [
    "print(student.items())\n",
    "for each in student.items():\n",
    "    print(each)"
   ]
  },
  {
   "cell_type": "code",
   "execution_count": 29,
   "id": "962ca298-e8ca-4924-a1e3-ba80504a75a4",
   "metadata": {},
   "outputs": [
    {
     "name": "stdout",
     "output_type": "stream",
     "text": [
      "[('name', 'Jane'), ('age', 30), ('address', 'Kalanki')]\n",
      "('name', 'Jane')\n",
      "('age', 30)\n",
      "('address', 'Kalanki')\n"
     ]
    }
   ],
   "source": [
    "print(list(student.items())) #to remove dict_items in result\n",
    "for each in student.items():\n",
    "    print(each)"
   ]
  },
  {
   "cell_type": "code",
   "execution_count": 37,
   "id": "19f4a7f0-f386-41e0-a0d3-6fed779767d6",
   "metadata": {},
   "outputs": [
    {
     "name": "stdout",
     "output_type": "stream",
     "text": [
      "Jane\n",
      "('name', 'Jane')\n",
      "name\n",
      "30\n",
      "('age', 30)\n",
      "age\n",
      "Kalanki\n",
      "('address', 'Kalanki')\n",
      "address\n"
     ]
    }
   ],
   "source": [
    "for each in student.items():\n",
    "    key = each[0]\n",
    "    value = each[1]\n",
    "    print(value)\n",
    "    print(each)\n",
    "    print(key)"
   ]
  },
  {
   "cell_type": "code",
   "execution_count": 39,
   "id": "35b3e4e9-85bc-47a0-8857-2fc5781800fc",
   "metadata": {},
   "outputs": [
    {
     "name": "stdout",
     "output_type": "stream",
     "text": [
      "name\n",
      "Jane\n",
      "age\n",
      "30\n",
      "address\n",
      "Kalanki\n"
     ]
    }
   ],
   "source": [
    "for key, value in student.items():\n",
    "    print(key)\n",
    "    print(value)\n"
   ]
  },
  {
   "cell_type": "code",
   "execution_count": 40,
   "id": "3c3a16d7-9e9b-4188-bd46-b1a76dc5d722",
   "metadata": {},
   "outputs": [],
   "source": [
    "#Range Functiion\n",
    "#range() function\n",
    "#range() is built-in python function to generate a sequence of numbers\n",
    "#range can take upto 3 parameter: start, end and step-size\n"
   ]
  },
  {
   "cell_type": "code",
   "execution_count": 42,
   "id": "0f57f81e-d1c0-40db-90e6-79dc3dedbf13",
   "metadata": {},
   "outputs": [
    {
     "name": "stdout",
     "output_type": "stream",
     "text": [
      "range(0, 11)\n",
      "0\n",
      "1\n",
      "2\n",
      "3\n",
      "4\n",
      "5\n",
      "6\n",
      "7\n",
      "8\n",
      "9\n",
      "10\n"
     ]
    }
   ],
   "source": [
    "seq = range(0,11)\n",
    "print(seq) \n",
    "for i in range(0,11):\n",
    "    print(i)"
   ]
  },
  {
   "cell_type": "code",
   "execution_count": 48,
   "id": "c67dc8d9-f27a-41fb-be92-a33733feace3",
   "metadata": {},
   "outputs": [
    {
     "name": "stdout",
     "output_type": "stream",
     "text": [
      "0\n",
      "1\n",
      "2\n",
      "3\n",
      "4\n",
      "5\n",
      "6\n",
      "7\n",
      "8\n",
      "9\n",
      "10\n"
     ]
    }
   ],
   "source": [
    "for i in range (11):\n",
    "    print(i) #we can omit start value. If start value is ommitted then it starts from 0\n"
   ]
  },
  {
   "cell_type": "code",
   "execution_count": 51,
   "id": "4efbb724-5b4e-4dc7-9212-ac2cfb97edcb",
   "metadata": {},
   "outputs": [
    {
     "name": "stdout",
     "output_type": "stream",
     "text": [
      "3\n",
      "4\n",
      "5\n",
      "6\n",
      "7\n"
     ]
    }
   ],
   "source": [
    "for i in range(3,8):\n",
    "    print(i)"
   ]
  },
  {
   "cell_type": "code",
   "execution_count": 52,
   "id": "da2fff01-977e-4a1a-bf49-f8c9bc3a36e4",
   "metadata": {},
   "outputs": [
    {
     "name": "stdout",
     "output_type": "stream",
     "text": [
      "2\n",
      "4\n",
      "6\n",
      "8\n",
      "10\n"
     ]
    }
   ],
   "source": [
    "for i in range(2,11,2):\n",
    "    print(i)"
   ]
  },
  {
   "cell_type": "code",
   "execution_count": 58,
   "id": "c270b3ff-d670-4b29-92a6-3406488a5c8d",
   "metadata": {},
   "outputs": [
    {
     "name": "stdout",
     "output_type": "stream",
     "text": [
      "2\n",
      "4\n",
      "6\n",
      "8\n",
      "10\n",
      "12\n",
      "14\n"
     ]
    }
   ],
   "source": [
    "for i in range(2,15,2):\n",
    "    print(i)\n"
   ]
  },
  {
   "cell_type": "code",
   "execution_count": 66,
   "id": "ff731aba-6921-4cdf-81f2-afb703c1578d",
   "metadata": {},
   "outputs": [
    {
     "name": "stdout",
     "output_type": "stream",
     "text": [
      "[(0, 'a'), (1, 'e'), (2, 'i'), (3, 'o'), (4, 'u')]\n"
     ]
    }
   ],
   "source": [
    "#enumerate()\n",
    "#enumerate() is also a builtin function in python whcih can provide the count of each iteration\n",
    "vowels=[\"a\",\"e\",\"i\",\"o\",\"u\"]\n",
    "print(list(enumerate(vowels)))"
   ]
  },
  {
   "cell_type": "code",
   "execution_count": 67,
   "id": "8e563dfa-0993-48cd-b1e7-d1c52c8eeb50",
   "metadata": {},
   "outputs": [
    {
     "name": "stdout",
     "output_type": "stream",
     "text": [
      "0\n",
      "a\n",
      "1\n",
      "e\n",
      "2\n",
      "i\n",
      "3\n",
      "o\n",
      "4\n",
      "u\n"
     ]
    }
   ],
   "source": [
    "for index, value in enumerate(vowels):\n",
    "    print(index)\n",
    "    print(value)"
   ]
  },
  {
   "cell_type": "code",
   "execution_count": 69,
   "id": "f2fd6873-60a9-4f12-8fb1-167dc30df6a5",
   "metadata": {},
   "outputs": [
    {
     "name": "stdout",
     "output_type": "stream",
     "text": [
      "2\n",
      "a\n",
      "3\n",
      "e\n",
      "4\n",
      "i\n",
      "5\n",
      "o\n",
      "6\n",
      "u\n"
     ]
    }
   ],
   "source": [
    "for count, value in enumerate(vowels,start=2):\n",
    "    print(count)\n",
    "    print(value)"
   ]
  },
  {
   "cell_type": "code",
   "execution_count": null,
   "id": "b0b91670-3ec2-4db9-8af2-f07b68e2bc7b",
   "metadata": {},
   "outputs": [],
   "source": []
  }
 ],
 "metadata": {
  "kernelspec": {
   "display_name": "Python 3 (ipykernel)",
   "language": "python",
   "name": "python3"
  },
  "language_info": {
   "codemirror_mode": {
    "name": "ipython",
    "version": 3
   },
   "file_extension": ".py",
   "mimetype": "text/x-python",
   "name": "python",
   "nbconvert_exporter": "python",
   "pygments_lexer": "ipython3",
   "version": "3.11.4"
  }
 },
 "nbformat": 4,
 "nbformat_minor": 5
}
