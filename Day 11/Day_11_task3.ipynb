{
 "cells": [
  {
   "cell_type": "raw",
   "id": "25f916fa-ff88-4755-a5df-c312e92df829",
   "metadata": {},
   "source": [
    "\"\"\"\n",
    "Write a program to prompt for a score between 0.0 and 1.0. If the score is between 0.0 and 1.0, print a grade using the following table:\n",
    "A for >=0.9\n",
    "B for >=0.8\n",
    "C for >=0.7\n",
    "D for >=0.6\n",
    "F for <0.6\n",
    "If the user enters a value out of range, print a suitable error message.\n",
    "\n",
    "\"\"\"\n",
    "marks = float(input(\"Enter exam marks \"))\n",
    "\n",
    "if marks >= 1 or marks < 0:\n",
    "    print(\"Invalid exam marks\")\n",
    "elif marks >= 0.9:\n",
    "    print(\"Grade is A\")\n",
    "elif marks >= 0.8:\n",
    "    print(\"Garde is B\")\n",
    "elif marks >= 0.7:\n",
    "    print(\"Grade is C\")\n",
    "elif marks >= 0.6:\n",
    "    print(\"Grade is D\")\n",
    "else:\n",
    "    print(\"Grade is F\")\n",
    "    "
   ]
  },
  {
   "cell_type": "code",
   "execution_count": null,
   "id": "df3aa400-dd37-4b72-a4a2-f8ea6ad25aca",
   "metadata": {},
   "outputs": [],
   "source": []
  }
 ],
 "metadata": {
  "kernelspec": {
   "display_name": "Python 3 (ipykernel)",
   "language": "python",
   "name": "python3"
  },
  "language_info": {
   "codemirror_mode": {
    "name": "ipython",
    "version": 3
   },
   "file_extension": ".py",
   "mimetype": "text/x-python",
   "name": "python",
   "nbconvert_exporter": "python",
   "pygments_lexer": "ipython3",
   "version": "3.11.4"
  }
 },
 "nbformat": 4,
 "nbformat_minor": 5
}
