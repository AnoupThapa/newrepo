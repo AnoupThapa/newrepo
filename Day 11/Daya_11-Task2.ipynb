{
 "cells": [
  {
   "cell_type": "code",
   "execution_count": 1,
   "id": "4aabe937-dfb8-44f6-8db8-859a41c830b5",
   "metadata": {},
   "outputs": [
    {
     "name": "stdin",
     "output_type": "stream",
     "text": [
      "Enter first num  1\n",
      "Enter second num  2\n",
      "Enter third num  3\n"
     ]
    },
    {
     "name": "stdout",
     "output_type": "stream",
     "text": [
      "3 is the greatest\n"
     ]
    }
   ],
   "source": [
    "num1 = int(input(\"Enter first num \"))\n",
    "num2 = int(input(\"Enter second num \"))\n",
    "num3 = int(input(\"Enter third num \"))\n",
    "\n",
    "if num1 > num2 and num1 > num3:\n",
    "    print(f\"{num1} is the greatest\")\n",
    "elif num2 > num1 and num2 > num3:\n",
    "    print(f\"{num2} is the greatest\")\n",
    "else:\n",
    "    print(f\"{num3} is the greatest\")\n",
    "\n",
    "\n",
    "if num1 > num2:\n",
    "    if num1 > num3:\n",
    "        print(f\"{num1} is the greatest\")\n",
    "elif num2 > num1:\n",
    "    if num2 > num3:\n",
    "        print(f\"{num2} is the greatest\")\n",
    "else:\n",
    "    print(f\"{num3} is the greatest\")"
   ]
  },
  {
   "cell_type": "code",
   "execution_count": null,
   "id": "82647e5c-3d4d-4274-9513-6427dc84cf7a",
   "metadata": {},
   "outputs": [],
   "source": []
  }
 ],
 "metadata": {
  "kernelspec": {
   "display_name": "Python 3 (ipykernel)",
   "language": "python",
   "name": "python3"
  },
  "language_info": {
   "codemirror_mode": {
    "name": "ipython",
    "version": 3
   },
   "file_extension": ".py",
   "mimetype": "text/x-python",
   "name": "python",
   "nbconvert_exporter": "python",
   "pygments_lexer": "ipython3",
   "version": "3.11.4"
  }
 },
 "nbformat": 4,
 "nbformat_minor": 5
}
