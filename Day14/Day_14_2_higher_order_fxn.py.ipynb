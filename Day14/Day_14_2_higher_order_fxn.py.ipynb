{
 "cells": [
  {
   "cell_type": "code",
   "execution_count": 1,
   "id": "e264d6ed-e4e4-4fb3-8733-bb4e1d170bd7",
   "metadata": {},
   "outputs": [],
   "source": [
    "# If a function take another function as a parameter then it is called as\n",
    "# higher order function\n",
    "# Examples are sort() method of list, map(), reduce(), filter(), decorators etc.\n",
    "\n",
    "# map() => It is a built-in function which takes two parameters. First parameter is a function and second\n",
    "# parameter should be an iterable\n",
    "# It maps every element of the iterable to a new form\n",
    "# The count of the elements in the iterable and final result is same in map()"
   ]
  },
  {
   "cell_type": "code",
   "execution_count": 4,
   "id": "0d0d8343-f775-48a1-80b0-40540941fe55",
   "metadata": {},
   "outputs": [
    {
     "name": "stdout",
     "output_type": "stream",
     "text": [
      "[16, 17, 18, 19, 20]\n"
     ]
    }
   ],
   "source": [
    "nums = [1, 2, 3, 4, 5]\n",
    "def add_15_to_each(element):\n",
    "    return element + 15\n",
    "\n",
    "result =map(add_15_to_each, nums)\n",
    "print(list(result))"
   ]
  },
  {
   "cell_type": "code",
   "execution_count": 7,
   "id": "91c00031-5652-4745-9db6-ce6230dcb1ce",
   "metadata": {},
   "outputs": [
    {
     "name": "stdout",
     "output_type": "stream",
     "text": [
      "[1, 4, 9, 16, 25]\n"
     ]
    }
   ],
   "source": [
    "def raise_power_by_two(element):\n",
    "    return element **2\n",
    "result = list(map(raise_power_by_two,nums))\n",
    "print(list(result))"
   ]
  },
  {
   "cell_type": "code",
   "execution_count": 8,
   "id": "f8616018-2f39-48b3-8610-978cafbf804b",
   "metadata": {},
   "outputs": [
    {
     "name": "stdout",
     "output_type": "stream",
     "text": [
      "[1, 8, 27, 64, 125]\n"
     ]
    }
   ],
   "source": [
    "def raise_power_by_three(element):\n",
    "    return element **3\n",
    "\n",
    "result = list(map(raise_power_by_three,nums))\n",
    "print(result)"
   ]
  },
  {
   "cell_type": "code",
   "execution_count": 9,
   "id": "3f203d8f-1fc2-4d99-968a-ff722cc985a9",
   "metadata": {},
   "outputs": [],
   "source": [
    "# filter() => It is a built-in function which takes two parameters. First parameter is a function and second\n",
    "# parameter should be an iterable\n",
    "# It filters out certain elements of the iterable and returns a new result\n",
    "# The count of the elements in the iterable and final result might not be same in filter()"
   ]
  },
  {
   "cell_type": "code",
   "execution_count": 11,
   "id": "7ef0af3e-caab-4285-b8b1-0f493e0d9dff",
   "metadata": {},
   "outputs": [
    {
     "name": "stdout",
     "output_type": "stream",
     "text": [
      "[2, 4, 6, 8, 10]\n"
     ]
    }
   ],
   "source": [
    "nums = [1, 2, 3, 4, 5, 6, 7, 8, 9, 10]\n",
    "def pick_evens(element):\n",
    "    if element%2==0:\n",
    "        return True\n",
    "    return False\n",
    "result = list(filter(pick_evens,nums))\n",
    "print(result)"
   ]
  },
  {
   "cell_type": "code",
   "execution_count": 12,
   "id": "c6acbd50-bc5a-449f-b6cd-0ca1d708dd43",
   "metadata": {},
   "outputs": [],
   "source": [
    "# reduce() => It is a built-in function which takes two parameters. First parameter is a function and second\n",
    "# parameter should be an iterable\n",
    "# It reduces the overall elements to a single value"
   ]
  },
  {
   "cell_type": "code",
   "execution_count": 14,
   "id": "259a6f62-3ff1-4ced-96a1-da8cef4a33e8",
   "metadata": {},
   "outputs": [
    {
     "name": "stdout",
     "output_type": "stream",
     "text": [
      "55\n"
     ]
    }
   ],
   "source": [
    "from functools import reduce\n",
    "nums = [1, 2, 3, 4, 5, 6, 7, 8, 9, 10]\n",
    "def add_all_elements(x,y):\n",
    "    return x+y\n",
    "\n",
    "result = reduce(add_all_elements,nums)\n",
    "print(result)"
   ]
  },
  {
   "cell_type": "code",
   "execution_count": null,
   "id": "7b45abbf-7d2e-46b3-9819-106d85540292",
   "metadata": {},
   "outputs": [],
   "source": []
  }
 ],
 "metadata": {
  "kernelspec": {
   "display_name": "Python 3 (ipykernel)",
   "language": "python",
   "name": "python3"
  },
  "language_info": {
   "codemirror_mode": {
    "name": "ipython",
    "version": 3
   },
   "file_extension": ".py",
   "mimetype": "text/x-python",
   "name": "python",
   "nbconvert_exporter": "python",
   "pygments_lexer": "ipython3",
   "version": "3.11.4"
  }
 },
 "nbformat": 4,
 "nbformat_minor": 5
}
