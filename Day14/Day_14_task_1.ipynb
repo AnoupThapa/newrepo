{
 "cells": [
  {
   "cell_type": "code",
   "execution_count": null,
   "id": "5ed162ce-a9f1-4944-9907-e85239e3bab0",
   "metadata": {},
   "outputs": [],
   "source": []
  },
  {
   "cell_type": "code",
   "execution_count": 2,
   "id": "568b3379-4281-4315-a343-948696c4b7e6",
   "metadata": {},
   "outputs": [
    {
     "name": "stdin",
     "output_type": "stream",
     "text": [
      "Enter the character you want to omit a\n"
     ]
    },
    {
     "name": "stdout",
     "output_type": "stream",
     "text": [
      "\n"
     ]
    }
   ],
   "source": [
    "s = \"All the occurrences of a specified character in a given string\"\n",
    "char = input(\"Enter the character you want to omit\")\n",
    "result= \"\"\n",
    "for each in s:\n",
    "    if each.lower()==char.lower():\n",
    "        continue\n",
    "        result+=each\n",
    "\n",
    "print(result)"
   ]
  },
  {
   "cell_type": "code",
   "execution_count": 3,
   "id": "9e180876-c5df-4ff7-bcfc-1ff3ce735a9b",
   "metadata": {},
   "outputs": [
    {
     "name": "stdout",
     "output_type": "stream",
     "text": [
      "[]\n"
     ]
    }
   ],
   "source": [
    "#Task 2\n",
    "nums = [3,4,5,6,7,8]\n",
    "result=[]\n",
    "for i in nums:\n",
    "    if nums.count(i)>1 and i not in result:\n",
    "        result.append(i)\n",
    "\n",
    "print(result)"
   ]
  },
  {
   "cell_type": "code",
   "execution_count": null,
   "id": "6dffec86-c9cf-4a05-b642-8380564915db",
   "metadata": {},
   "outputs": [],
   "source": []
  }
 ],
 "metadata": {
  "kernelspec": {
   "display_name": "Python 3 (ipykernel)",
   "language": "python",
   "name": "python3"
  },
  "language_info": {
   "codemirror_mode": {
    "name": "ipython",
    "version": 3
   },
   "file_extension": ".py",
   "mimetype": "text/x-python",
   "name": "python",
   "nbconvert_exporter": "python",
   "pygments_lexer": "ipython3",
   "version": "3.11.4"
  }
 },
 "nbformat": 4,
 "nbformat_minor": 5
}
