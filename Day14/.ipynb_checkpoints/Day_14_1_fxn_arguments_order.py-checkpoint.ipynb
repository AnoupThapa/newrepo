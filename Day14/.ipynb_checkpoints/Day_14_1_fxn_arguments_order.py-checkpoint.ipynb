{
 "cells": [
  {
   "cell_type": "code",
   "execution_count": 1,
   "id": "1542635b-8ec1-4663-a082-33e6e4c8ea1d",
   "metadata": {},
   "outputs": [],
   "source": [
    "# Function arguments has a certain order in Python. Following is the order of arguments:\n",
    "# 1. Positional\n",
    "# 2. Default / Keyword\n",
    "# 3. *args\n",
    "# 4. **kwargs\n"
   ]
  },
  {
   "cell_type": "code",
   "execution_count": 2,
   "id": "e11f01c3-7ffa-47b2-88a5-ed7a120268b3",
   "metadata": {},
   "outputs": [
    {
     "name": "stdout",
     "output_type": "stream",
     "text": [
      "1\n",
      "2\n",
      "3\n",
      "4\n",
      "5\n",
      "(6, 7, 8)\n",
      "{'p': 9, 'q': 10}\n",
      "55\n"
     ]
    }
   ],
   "source": [
    "def addition(a, b, c, d=1, e=2, *args, **kwargs):  # order of arguments in function definition\n",
    "    print(a)  # 1\n",
    "    print(b)  # 2\n",
    "    print(c)  # 3\n",
    "    print(d)  # 4\n",
    "    print(e)  # 5\n",
    "    print(args)  # (6, 7, 8)\n",
    "    print(kwargs)  # {\"p\": 9, \"q\": 10}\n",
    "    return a + b + c + d + e + sum(args) + sum(kwargs.values())\n",
    "\n",
    "result = addition (1,2,3,4,5,6,7,8,p=9,q=10)\n",
    "print(result)"
   ]
  },
  {
   "cell_type": "code",
   "execution_count": null,
   "id": "3d768f9d-8538-4f86-8df2-bde061f5fbbb",
   "metadata": {},
   "outputs": [],
   "source": []
  }
 ],
 "metadata": {
  "kernelspec": {
   "display_name": "Python 3 (ipykernel)",
   "language": "python",
   "name": "python3"
  },
  "language_info": {
   "codemirror_mode": {
    "name": "ipython",
    "version": 3
   },
   "file_extension": ".py",
   "mimetype": "text/x-python",
   "name": "python",
   "nbconvert_exporter": "python",
   "pygments_lexer": "ipython3",
   "version": "3.11.4"
  }
 },
 "nbformat": 4,
 "nbformat_minor": 5
}
