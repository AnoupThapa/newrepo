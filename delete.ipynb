{
 "cells": [
  {
   "cell_type": "code",
   "execution_count": 1,
   "id": "1990f9b2-1654-4f75-a92b-d4339d6a9feb",
   "metadata": {},
   "outputs": [
    {
     "ename": "ModuleNotFoundError",
     "evalue": "No module named 'estd_connection'",
     "output_type": "error",
     "traceback": [
      "\u001b[1;31m---------------------------------------------------------------------------\u001b[0m",
      "\u001b[1;31mModuleNotFoundError\u001b[0m                       Traceback (most recent call last)",
      "Cell \u001b[1;32mIn[1], line 1\u001b[0m\n\u001b[1;32m----> 1\u001b[0m \u001b[38;5;28;01mfrom\u001b[39;00m \u001b[38;5;21;01mestd_connection\u001b[39;00m \u001b[38;5;28;01mimport\u001b[39;00m estd_connection\n\u001b[0;32m      3\u001b[0m cursor \u001b[38;5;241m=\u001b[39m estd_connection()\n\u001b[0;32m      5\u001b[0m \u001b[38;5;28mid\u001b[39m \u001b[38;5;241m=\u001b[39m \u001b[38;5;28minput\u001b[39m(\u001b[38;5;124m\"\u001b[39m\u001b[38;5;124mEnter stduent ID\u001b[39m\u001b[38;5;124m\"\u001b[39m)\n",
      "\u001b[1;31mModuleNotFoundError\u001b[0m: No module named 'estd_connection'"
     ]
    }
   ],
   "source": [
    "from estd_connection import estd_connection\n",
    "\n",
    "cursor = estd_connection()\n",
    "\n",
    "id = input(\"Enter stduent ID\")\n",
    "sql = f\"\"\"\n",
    "DELETE FROM STUDENT WHERE ID = '{id}'\n",
    "\"\"\"\n",
    "\n",
    "cursor.execute(sql)\n",
    "print(\"Student Deleted Successfully\")\n"
   ]
  },
  {
   "cell_type": "code",
   "execution_count": null,
   "id": "213fa52d-5f21-451e-8e74-614f965c4369",
   "metadata": {},
   "outputs": [],
   "source": []
  }
 ],
 "metadata": {
  "kernelspec": {
   "display_name": "Python 3 (ipykernel)",
   "language": "python",
   "name": "python3"
  },
  "language_info": {
   "codemirror_mode": {
    "name": "ipython",
    "version": 3
   },
   "file_extension": ".py",
   "mimetype": "text/x-python",
   "name": "python",
   "nbconvert_exporter": "python",
   "pygments_lexer": "ipython3",
   "version": "3.11.4"
  }
 },
 "nbformat": 4,
 "nbformat_minor": 5
}
