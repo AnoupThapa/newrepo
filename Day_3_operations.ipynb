{
 "cells": [
  {
   "cell_type": "code",
   "execution_count": 1,
   "id": "0a33c0ec-f0f0-4e60-bd97-66ea99f345ff",
   "metadata": {},
   "outputs": [
    {
     "name": "stdout",
     "output_type": "stream",
     "text": [
      "[1, 2, 3, 4, 5, 6]\n",
      "True\n",
      "False\n"
     ]
    }
   ],
   "source": [
    "# Concatenation (+)\n",
    "a = [1, 2, 3]\n",
    "b = [4, 5, 6]\n",
    "result = a + b\n",
    "print(result)  # [1, 2, 3, 4, 5, 6]\n",
    "\n",
    "\n",
    "# Membership Operation (\"in\" and \"not in\")\n",
    "print(2 in [1, 2, 3])  # True\n",
    "print(3 not in [1, 2, 3])  # False"
   ]
  },
  {
   "cell_type": "code",
   "execution_count": null,
   "id": "c77032a6-632c-448c-a1d9-35c02cfd25ac",
   "metadata": {},
   "outputs": [],
   "source": []
  }
 ],
 "metadata": {
  "kernelspec": {
   "display_name": "Python 3 (ipykernel)",
   "language": "python",
   "name": "python3"
  },
  "language_info": {
   "codemirror_mode": {
    "name": "ipython",
    "version": 3
   },
   "file_extension": ".py",
   "mimetype": "text/x-python",
   "name": "python",
   "nbconvert_exporter": "python",
   "pygments_lexer": "ipython3",
   "version": "3.11.4"
  }
 },
 "nbformat": 4,
 "nbformat_minor": 5
}
