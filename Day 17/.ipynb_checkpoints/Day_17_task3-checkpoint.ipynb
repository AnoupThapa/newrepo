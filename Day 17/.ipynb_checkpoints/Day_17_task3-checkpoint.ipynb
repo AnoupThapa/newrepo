{
 "cells": [
  {
   "cell_type": "code",
   "execution_count": 1,
   "id": "b0011ee3-5233-4689-afad-f63d4cf82736",
   "metadata": {},
   "outputs": [],
   "source": [
    "#Create a class person with instance attributes name and age. Create a method get_details in the class to print name and age.\n",
    "#Create another class employee with attributes salary and designation and inherits the person class. \n",
    "#Create a method get_details in this class to print name, age, salary and desingation of the Employee."
   ]
  },
  {
   "cell_type": "code",
   "execution_count": 25,
   "id": "b901916c-a0aa-4ed4-8090-26c0e39256ff",
   "metadata": {},
   "outputs": [
    {
     "name": "stdout",
     "output_type": "stream",
     "text": [
      "name isJon and age is 25 \n"
     ]
    }
   ],
   "source": [
    "class Person: \n",
    "        def __init__(self, name,age):\n",
    "            self.name = name  \n",
    "            self.age = age  \n",
    "                    \n",
    "        def get_details(self):\n",
    "            return f\"name is{self.name} and age is {self.age} \"\n",
    "\n",
    "p1 = Person(\"Jon\",25)\n",
    "print(p1.get_details())\n",
    "\n",
    "    "
   ]
  },
  {
   "cell_type": "code",
   "execution_count": 26,
   "id": "bf62dbad-89cf-42d6-a46d-a8e0270ae5fe",
   "metadata": {},
   "outputs": [
    {
     "name": "stdout",
     "output_type": "stream",
     "text": [
      "name is Jon and age is 25 and salary is 10 and designation is Officer\n"
     ]
    }
   ],
   "source": [
    "class Person: \n",
    "    def __init__(self, name, age, salary, designation):\n",
    "        self.name = name  \n",
    "        self.age = age  \n",
    "        self.salary = salary\n",
    "        self.designation = designation\n",
    "        \n",
    "    def get_details(self):\n",
    "        return f\"name is {self.name} and age is {self.age} and salary is {self.salary} and designation is {self.designation}\"\n",
    "\n",
    "p1 = Person(\"Jon\", 25, 10, \"Officer\")\n",
    "print(p1.get_details())"
   ]
  },
  {
   "cell_type": "code",
   "execution_count": 27,
   "id": "75820d06-4288-4a9b-b476-ef7dd73e35f6",
   "metadata": {},
   "outputs": [
    {
     "name": "stdout",
     "output_type": "stream",
     "text": [
      "name isJon and age is 25 and surname is Kil and location is KTM\n"
     ]
    }
   ],
   "source": [
    "class Person: \n",
    "        def __init__(self, name,age,surname,location):\n",
    "            self.name = name  \n",
    "            self.age = age  \n",
    "            self.surname=surname\n",
    "            self.location=location\n",
    "                    \n",
    "        def get_details(self):\n",
    "            return f\"name is{self.name} and age is {self.age} and surname is {self.surname} and location is {self.location}\"\n",
    "\n",
    "p1 = Person(\"Jon\",25, \"Kil\", \"KTM\")\n",
    "print(p1.get_details())"
   ]
  },
  {
   "cell_type": "code",
   "execution_count": 28,
   "id": "17759648-4f83-4dfc-8893-dd9a04773b4f",
   "metadata": {},
   "outputs": [
    {
     "ename": "SyntaxError",
     "evalue": "expected ':' (4062017931.py, line 5)",
     "output_type": "error",
     "traceback": [
      "\u001b[1;36m  Cell \u001b[1;32mIn[28], line 5\u001b[1;36m\u001b[0m\n\u001b[1;33m    def get_details(self)\u001b[0m\n\u001b[1;37m                         ^\u001b[0m\n\u001b[1;31mSyntaxError\u001b[0m\u001b[1;31m:\u001b[0m expected ':'\n"
     ]
    }
   ],
   "source": [
    "class Employee (person):\n",
    "    salary=20000\n",
    "    designation=\"teacher\"\n",
    "\n",
    "    def get_details(self)\n",
    "        return f\"name is {self.name} and age is {self.age} and salary is {self.salary} and designation is {self.designation}\"\n",
    "\n",
    "e1 = Employee(\"Jon\", 25)\n",
    "print(e1.get_details())\n"
   ]
  },
  {
   "cell_type": "code",
   "execution_count": null,
   "id": "a40209be-8468-44e2-9004-bcb2388c1442",
   "metadata": {},
   "outputs": [],
   "source": []
  }
 ],
 "metadata": {
  "kernelspec": {
   "display_name": "Python 3 (ipykernel)",
   "language": "python",
   "name": "python3"
  },
  "language_info": {
   "codemirror_mode": {
    "name": "ipython",
    "version": 3
   },
   "file_extension": ".py",
   "mimetype": "text/x-python",
   "name": "python",
   "nbconvert_exporter": "python",
   "pygments_lexer": "ipython3",
   "version": "3.11.4"
  }
 },
 "nbformat": 4,
 "nbformat_minor": 5
}
