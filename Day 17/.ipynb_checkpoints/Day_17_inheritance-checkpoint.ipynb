{
 "cells": [
  {
   "cell_type": "code",
   "execution_count": 1,
   "id": "cc1d4648-5c93-4eb4-8ec3-d5f9da695f54",
   "metadata": {},
   "outputs": [],
   "source": [
    "#Inheritance is one of the feature of OOP\n",
    "#Using inheritance we can access the properties and the method of a parent class from its childrenm classes"
   ]
  },
  {
   "cell_type": "code",
   "execution_count": 2,
   "id": "35cd6598-babc-40d7-a5e7-bfa3e34812ca",
   "metadata": {},
   "outputs": [],
   "source": [
    "class A:\n",
    "    pass\n",
    "\n",
    "\n",
    "class B(A): # Inhertiance class \"A\" in a child class \"B\"\n",
    "    pass"
   ]
  },
  {
   "cell_type": "code",
   "execution_count": 3,
   "id": "38150442-819d-4a1a-9edb-5c8d479abb62",
   "metadata": {},
   "outputs": [],
   "source": [
    "#Tyoe of inheritance\n",
    "#1. Single Inheritance\n",
    "#2. Multilevel Inhertiance\n",
    "#3. Multiple Inheritance\n",
    "#4. Hierarchical Inheritance\n",
    "#5. Hybrid Inheritance"
   ]
  },
  {
   "cell_type": "code",
   "execution_count": 5,
   "id": "9a29559f-c777-4f4d-928a-e87dc24a2417",
   "metadata": {},
   "outputs": [
    {
     "name": "stdout",
     "output_type": "stream",
     "text": [
      "message\n"
     ]
    }
   ],
   "source": [
    "#Single Inheritance\n",
    "#In this inheritance a single child class inhertis the properties of a single parent class.\n",
    "class A:\n",
    "    category = \"message\"\n",
    "\n",
    "class B(A):\n",
    "    pass\n",
    "b=B()\n",
    "print(b.category) #message"
   ]
  },
  {
   "cell_type": "code",
   "execution_count": 14,
   "id": "59bdb181-625b-4732-83ec-a4b21b7b587b",
   "metadata": {},
   "outputs": [
    {
     "name": "stdout",
     "output_type": "stream",
     "text": [
      "I am Learning Pythob\n"
     ]
    }
   ],
   "source": [
    "#Multilevel inheritance\n",
    "#In this inheritance, a child class inherits a parent class and this child class is again inherited to another child class\n",
    "class A:\n",
    "    message= (\"Hello World\")\n",
    "\n",
    "class B(A):\n",
    "    message = (\"I am Learning Pythob\")\n",
    "\n",
    "class C(B):\n",
    "    pass\n",
    "\n",
    "c = C()\n",
    "print(c.message)"
   ]
  },
  {
   "cell_type": "code",
   "execution_count": 16,
   "id": "7f64ed0a-ce73-4a36-aeb4-5d640df7bf3c",
   "metadata": {},
   "outputs": [
    {
     "name": "stdout",
     "output_type": "stream",
     "text": [
      "Hello World\n"
     ]
    }
   ],
   "source": [
    "#Multiple Inheritance\n",
    "class A:\n",
    "    message= \"Hello World\"\n",
    "\n",
    "class B:\n",
    "    message = \"I am Learnuing Python\"\n",
    "\n",
    "class C(A,B):\n",
    "    message= \"Hello World\"\n",
    "    pass\n",
    "\n",
    "c=C()\n",
    "print(c.message)"
   ]
  },
  {
   "cell_type": "code",
   "execution_count": 17,
   "id": "9ffcc9f8-cf0f-4f35-af62-9c69d4d6c511",
   "metadata": {},
   "outputs": [],
   "source": [
    "#Hierarchical Inheritance"
   ]
  },
  {
   "cell_type": "code",
   "execution_count": 19,
   "id": "49b986df-ca9d-4489-a05d-8498537c13ba",
   "metadata": {},
   "outputs": [
    {
     "name": "stdout",
     "output_type": "stream",
     "text": [
      "Hello World\n"
     ]
    }
   ],
   "source": [
    "class A:\n",
    "    message = \"Hello World\"\n",
    "\n",
    "class B(A):\n",
    "    pass\n",
    "\n",
    "class C(A):\n",
    "    pass\n",
    "\n",
    "b = B()\n",
    "print(b.message)\n"
   ]
  },
  {
   "cell_type": "code",
   "execution_count": 20,
   "id": "e7e93086-1202-41f5-9619-f7de5bb7fa5b",
   "metadata": {},
   "outputs": [
    {
     "name": "stdout",
     "output_type": "stream",
     "text": [
      "Hello World\n"
     ]
    }
   ],
   "source": [
    "c= C()\n",
    "print(c.message)"
   ]
  },
  {
   "cell_type": "code",
   "execution_count": 21,
   "id": "7f9d497a-48d7-4b8d-a21c-b012266f4199",
   "metadata": {},
   "outputs": [],
   "source": [
    "#Hybrid Inheritance\n",
    "#This inheritance is the combination of hierarchical and multiple inheritance"
   ]
  },
  {
   "cell_type": "code",
   "execution_count": 23,
   "id": "a66ca618-5d2e-40ea-b105-11ca3af3f11a",
   "metadata": {},
   "outputs": [
    {
     "name": "stdout",
     "output_type": "stream",
     "text": [
      "I'm good\n"
     ]
    }
   ],
   "source": [
    "class A:\n",
    "    message=\"Hellow How are You?\"\n",
    "\n",
    "class B(A):\n",
    "    message= \"I'm good\"\n",
    "\n",
    "class C(A):\n",
    "    message = \"I'm also good\"\n",
    "\n",
    "class D(B,C):\n",
    "    pass\n",
    "\n",
    "class E(D):\n",
    "    pass\n",
    "e=E()\n",
    "print(e.message)"
   ]
  },
  {
   "cell_type": "code",
   "execution_count": 27,
   "id": "abfd9552-1f01-42d4-887f-b71805dfc4a9",
   "metadata": {},
   "outputs": [
    {
     "name": "stdout",
     "output_type": "stream",
     "text": [
      "[<class '__main__.E'>, <class '__main__.D'>, <class '__main__.B'>, <class '__main__.C'>, <class '__main__.A'>, <class 'object'>]\n"
     ]
    }
   ],
   "source": [
    "print (E.mro()) #MRO (metodh resolution order) defines where to search for the attribute in an inheritance\n",
    "#If the attribute is not found in any of the classes then it raises \"AttributeError\""
   ]
  },
  {
   "cell_type": "code",
   "execution_count": null,
   "id": "62673cdf-cf0e-4fe6-8873-98371fd887fd",
   "metadata": {},
   "outputs": [],
   "source": []
  }
 ],
 "metadata": {
  "kernelspec": {
   "display_name": "Python 3 (ipykernel)",
   "language": "python",
   "name": "python3"
  },
  "language_info": {
   "codemirror_mode": {
    "name": "ipython",
    "version": 3
   },
   "file_extension": ".py",
   "mimetype": "text/x-python",
   "name": "python",
   "nbconvert_exporter": "python",
   "pygments_lexer": "ipython3",
   "version": "3.11.4"
  }
 },
 "nbformat": 4,
 "nbformat_minor": 5
}
