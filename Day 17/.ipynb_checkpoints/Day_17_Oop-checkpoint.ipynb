{
 "cells": [
  {
   "cell_type": "code",
   "execution_count": 1,
   "id": "43b6af88-87c9-4d09-9b4c-38df8c757dcc",
   "metadata": {},
   "outputs": [],
   "source": [
    "# OOP is an approach of programming in which programs are modeled in the real world-problems\n",
    "# OOP stands for Object-Oriented Programming\n",
    "# It has two major aspects; Class and Objects\n",
    "# Class is the blueprint of an object. It has its own attributes known as properties and methods\n",
    "# Objects are the instance of a class\n",
    "\n",
    "# There are four major pillars of OOP\n",
    "# 1. Inheritance\n",
    "# 2. Encapsulation\n",
    "# 3. Polymorphism\n",
    "# 4. Abstraction"
   ]
  },
  {
   "cell_type": "code",
   "execution_count": 35,
   "id": "8fb95011-705b-480e-922c-0b8109680855",
   "metadata": {},
   "outputs": [
    {
     "name": "stdout",
     "output_type": "stream",
     "text": [
      "petrol\n",
      "petrol\n",
      "petrol\n",
      "diesel\n"
     ]
    }
   ],
   "source": [
    "class vehicle: #creating a class using keyword\n",
    "    engine_type = \"petrol\" #class attribute\n",
    "\n",
    "    def __init__(self, number_of_doors, color):\n",
    "        self.number_of_doors = number_of_doors  # instance attribute\n",
    "        self.color = color  # instance attribute\n",
    "\n",
    "    def description(self):\n",
    "        return f\"The vehicle has {self.number_of_doors} doors and {self.color} color. It's engine is\"\\\n",
    "                f\"{self.engine_type}type\"\n",
    "    \n",
    "v1 = vehicle(4,'green') #creating an object\n",
    "print(v1.engine_type) #objects can access the property and methods of the class using dot(.)\n",
    "\n",
    "#we can also access the class attribute using the class.\n",
    "print(vehicle.engine_type) #petrol. This is termed as 'getting'\n",
    "\n",
    "v1.engine_type = \"diesel\" #This is termed as \"setting\"\n",
    "print(vehicle.engine_type) #petrol\n",
    "print(v1.engine_type) #diesel"
   ]
  },
  {
   "cell_type": "code",
   "execution_count": 12,
   "id": "05dbaac1-e6b9-41dc-a5c4-dae93f0a8eaa",
   "metadata": {},
   "outputs": [],
   "source": [
    "#_init_() function inside a class is called when the object of the class is created. So, this function is also called as a constructor."
   ]
  },
  {
   "cell_type": "code",
   "execution_count": null,
   "id": "63b09978-55f0-4ad1-9afa-086a554f3bba",
   "metadata": {},
   "outputs": [],
   "source": []
  },
  {
   "cell_type": "code",
   "execution_count": 18,
   "id": "9695e88b-9e27-416f-844d-75fb7f327f2a",
   "metadata": {},
   "outputs": [],
   "source": [
    "#print(vehicle.color) #it raised attribute error because color is not a class attribute it is an instance attribute\n"
   ]
  },
  {
   "cell_type": "code",
   "execution_count": 19,
   "id": "7d5e93bb-26ae-4eb5-bead-fe2231a2a52e",
   "metadata": {},
   "outputs": [
    {
     "name": "stdout",
     "output_type": "stream",
     "text": [
      "green\n",
      "4\n"
     ]
    }
   ],
   "source": [
    "print(v1.color) #green\n",
    "print(v1.number_of_doors)"
   ]
  },
  {
   "cell_type": "code",
   "execution_count": 33,
   "id": "5c43fbdd-0979-4a5f-bd9b-cf8a1002bb8f",
   "metadata": {},
   "outputs": [
    {
     "name": "stdout",
     "output_type": "stream",
     "text": [
      "petrol\n",
      "0\n",
      "red\n"
     ]
    }
   ],
   "source": [
    "bike = vehicle(number_of_doors=0, color=\"red\")\n",
    "print(bike.engine_type)\n",
    "print(bike.number_of_doors)\n",
    "print(bike.color)"
   ]
  },
  {
   "cell_type": "code",
   "execution_count": 39,
   "id": "01f503a6-dbfd-431c-aeb6-0967208a22ca",
   "metadata": {},
   "outputs": [
    {
     "name": "stdout",
     "output_type": "stream",
     "text": [
      "yellow\n"
     ]
    }
   ],
   "source": [
    "bike.color=\"yellow\"\n",
    "print(bike.color) #yellow"
   ]
  },
  {
   "cell_type": "code",
   "execution_count": 45,
   "id": "f180239c-e419-46b3-96da-8f05d86eed9f",
   "metadata": {},
   "outputs": [],
   "source": [
    "#A method is a function defined inside the class. methods are aclled with the class object. They cant be called independently.\n",
    "#Here \"description\" is method (function defined inside the class)\n",
    "#print(bike.description())"
   ]
  },
  {
   "cell_type": "code",
   "execution_count": null,
   "id": "cffa99ef-27ff-467e-9890-008e16b84ba2",
   "metadata": {},
   "outputs": [],
   "source": []
  }
 ],
 "metadata": {
  "kernelspec": {
   "display_name": "Python 3 (ipykernel)",
   "language": "python",
   "name": "python3"
  },
  "language_info": {
   "codemirror_mode": {
    "name": "ipython",
    "version": 3
   },
   "file_extension": ".py",
   "mimetype": "text/x-python",
   "name": "python",
   "nbconvert_exporter": "python",
   "pygments_lexer": "ipython3",
   "version": "3.11.4"
  }
 },
 "nbformat": 4,
 "nbformat_minor": 5
}
