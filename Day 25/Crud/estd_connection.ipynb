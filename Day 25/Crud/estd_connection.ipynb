{
 "cells": [
  {
   "cell_type": "code",
   "execution_count": 12,
   "id": "bab7e7ac-160a-474e-8398-241927f5c1eb",
   "metadata": {},
   "outputs": [],
   "source": [
    "# If we want to connect database from a program (Python, javaScript) then\n",
    "# we need a database connector\n",
    "# Database connector connects your program with Database\n",
    "# mysqlclient, psycopg2 etc. are the db connectors"
   ]
  },
  {
   "cell_type": "code",
   "execution_count": 13,
   "id": "e07062e3-275e-499b-bc19-52a3174d3494",
   "metadata": {},
   "outputs": [
    {
     "ename": "ModuleNotFoundError",
     "evalue": "No module named 'psycopg2'",
     "output_type": "error",
     "traceback": [
      "\u001b[1;31m---------------------------------------------------------------------------\u001b[0m",
      "\u001b[1;31mModuleNotFoundError\u001b[0m                       Traceback (most recent call last)",
      "\u001b[1;32mc:\\Users\\cvpri\\Desktop\\Reading Material\\Python with Data Science\\PP\\Day 25\\Crud\\estd_connection.ipynb Cell 2\u001b[0m line \u001b[0;36m1\n\u001b[0;32m     <a href='vscode-notebook-cell:/c%3A/Users/cvpri/Desktop/Reading%20Material/Python%20with%20Data%20Science/PP/Day%2025/Crud/estd_connection.ipynb#W1sZmlsZQ%3D%3D?line=12'>13</a>\u001b[0m     \u001b[39mreturn\u001b[39;00m cursor\n\u001b[0;32m     <a href='vscode-notebook-cell:/c%3A/Users/cvpri/Desktop/Reading%20Material/Python%20with%20Data%20Science/PP/Day%2025/Crud/estd_connection.ipynb#W1sZmlsZQ%3D%3D?line=15'>16</a>\u001b[0m \u001b[39mif\u001b[39;00m \u001b[39m__name__\u001b[39m \u001b[39m==\u001b[39m \u001b[39m\"\u001b[39m\u001b[39m__main__\u001b[39m\u001b[39m\"\u001b[39m:\n\u001b[1;32m---> <a href='vscode-notebook-cell:/c%3A/Users/cvpri/Desktop/Reading%20Material/Python%20with%20Data%20Science/PP/Day%2025/Crud/estd_connection.ipynb#W1sZmlsZQ%3D%3D?line=16'>17</a>\u001b[0m     estd_connection()\n",
      "\u001b[1;32mc:\\Users\\cvpri\\Desktop\\Reading Material\\Python with Data Science\\PP\\Day 25\\Crud\\estd_connection.ipynb Cell 2\u001b[0m line \u001b[0;36m2\n\u001b[0;32m      <a href='vscode-notebook-cell:/c%3A/Users/cvpri/Desktop/Reading%20Material/Python%20with%20Data%20Science/PP/Day%2025/Crud/estd_connection.ipynb#W1sZmlsZQ%3D%3D?line=0'>1</a>\u001b[0m \u001b[39mdef\u001b[39;00m \u001b[39mestd_connection\u001b[39m():\n\u001b[1;32m----> <a href='vscode-notebook-cell:/c%3A/Users/cvpri/Desktop/Reading%20Material/Python%20with%20Data%20Science/PP/Day%2025/Crud/estd_connection.ipynb#W1sZmlsZQ%3D%3D?line=1'>2</a>\u001b[0m     \u001b[39mimport\u001b[39;00m \u001b[39mpsycopg2\u001b[39;00m\n\u001b[0;32m      <a href='vscode-notebook-cell:/c%3A/Users/cvpri/Desktop/Reading%20Material/Python%20with%20Data%20Science/PP/Day%2025/Crud/estd_connection.ipynb#W1sZmlsZQ%3D%3D?line=2'>3</a>\u001b[0m     conn \u001b[39m=\u001b[39m psycopg2\u001b[39m.\u001b[39mconnect(\n\u001b[0;32m      <a href='vscode-notebook-cell:/c%3A/Users/cvpri/Desktop/Reading%20Material/Python%20with%20Data%20Science/PP/Day%2025/Crud/estd_connection.ipynb#W1sZmlsZQ%3D%3D?line=3'>4</a>\u001b[0m         database\u001b[39m=\u001b[39m\u001b[39m\"\u001b[39m\u001b[39mstudenttestdb\u001b[39m\u001b[39m\"\u001b[39m,\n\u001b[0;32m      <a href='vscode-notebook-cell:/c%3A/Users/cvpri/Desktop/Reading%20Material/Python%20with%20Data%20Science/PP/Day%2025/Crud/estd_connection.ipynb#W1sZmlsZQ%3D%3D?line=4'>5</a>\u001b[0m         user\u001b[39m=\u001b[39m\u001b[39m\"\u001b[39m\u001b[39mpostgres\u001b[39m\u001b[39m\"\u001b[39m,\n\u001b[1;32m   (...)\u001b[0m\n\u001b[0;32m      <a href='vscode-notebook-cell:/c%3A/Users/cvpri/Desktop/Reading%20Material/Python%20with%20Data%20Science/PP/Day%2025/Crud/estd_connection.ipynb#W1sZmlsZQ%3D%3D?line=7'>8</a>\u001b[0m         port\u001b[39m=\u001b[39m\u001b[39m5432\u001b[39m\n\u001b[0;32m      <a href='vscode-notebook-cell:/c%3A/Users/cvpri/Desktop/Reading%20Material/Python%20with%20Data%20Science/PP/Day%2025/Crud/estd_connection.ipynb#W1sZmlsZQ%3D%3D?line=8'>9</a>\u001b[0m     )\n\u001b[0;32m     <a href='vscode-notebook-cell:/c%3A/Users/cvpri/Desktop/Reading%20Material/Python%20with%20Data%20Science/PP/Day%2025/Crud/estd_connection.ipynb#W1sZmlsZQ%3D%3D?line=9'>10</a>\u001b[0m     conn\u001b[39m.\u001b[39mautocommit \u001b[39m=\u001b[39m \u001b[39mTrue\u001b[39;00m\n",
      "\u001b[1;31mModuleNotFoundError\u001b[0m: No module named 'psycopg2'"
     ]
    }
   ],
   "source": [
    "def estd_connection():\n",
    "    import psycopg2\n",
    "    conn = psycopg2.connect(\n",
    "        database=\"studenttestdb\",\n",
    "        user=\"postgres\",\n",
    "        password=\"password\",\n",
    "        host=\"127.0.0.1\",\n",
    "        port=5432\n",
    "    )\n",
    "    conn.autocommit = True\n",
    "    print(\"Connection established successfully !!\")\n",
    "    cursor = conn.cursor()\n",
    "    return cursor\n",
    "\n",
    "\n",
    "if __name__ == \"__main__\":\n",
    "    estd_connection()"
   ]
  }
 ],
 "metadata": {
  "kernelspec": {
   "display_name": "Python 3 (ipykernel)",
   "language": "python",
   "name": "python3"
  },
  "language_info": {
   "codemirror_mode": {
    "name": "ipython",
    "version": 3
   },
   "file_extension": ".py",
   "mimetype": "text/x-python",
   "name": "python",
   "nbconvert_exporter": "python",
   "pygments_lexer": "ipython3",
   "version": "3.10.11"
  }
 },
 "nbformat": 4,
 "nbformat_minor": 5
}
