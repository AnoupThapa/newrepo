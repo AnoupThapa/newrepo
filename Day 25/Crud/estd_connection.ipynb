{
 "cells": [
  {
   "cell_type": "code",
   "execution_count": 1,
   "id": "bab7e7ac-160a-474e-8398-241927f5c1eb",
   "metadata": {},
   "outputs": [],
   "source": [
    "# If we want to connect database from a program (Python, javaScript) then\n",
    "# we need a database connector\n",
    "# Database connector connects your program with Database\n",
    "# mysqlclient, psycopg2 etc. are the db connectors"
   ]
  },
  {
   "cell_type": "code",
   "execution_count": 2,
   "id": "e07062e3-275e-499b-bc19-52a3174d3494",
   "metadata": {},
   "outputs": [
    {
     "ename": "ModuleNotFoundError",
     "evalue": "No module named 'psycopg2'",
     "output_type": "error",
     "traceback": [
      "\u001b[1;31m---------------------------------------------------------------------------\u001b[0m",
      "\u001b[1;31mModuleNotFoundError\u001b[0m                       Traceback (most recent call last)",
      "Cell \u001b[1;32mIn[2], line 17\u001b[0m\n\u001b[0;32m     13\u001b[0m     \u001b[38;5;28;01mreturn\u001b[39;00m cursor\n\u001b[0;32m     16\u001b[0m \u001b[38;5;28;01mif\u001b[39;00m \u001b[38;5;18m__name__\u001b[39m \u001b[38;5;241m==\u001b[39m \u001b[38;5;124m\"\u001b[39m\u001b[38;5;124m__main__\u001b[39m\u001b[38;5;124m\"\u001b[39m:\n\u001b[1;32m---> 17\u001b[0m     \u001b[43mestd_connection\u001b[49m\u001b[43m(\u001b[49m\u001b[43m)\u001b[49m\n",
      "Cell \u001b[1;32mIn[2], line 2\u001b[0m, in \u001b[0;36mestd_connection\u001b[1;34m()\u001b[0m\n\u001b[0;32m      1\u001b[0m \u001b[38;5;28;01mdef\u001b[39;00m \u001b[38;5;21mestd_connection\u001b[39m():\n\u001b[1;32m----> 2\u001b[0m     \u001b[38;5;28;01mimport\u001b[39;00m \u001b[38;5;21;01mpsycopg2\u001b[39;00m\n\u001b[0;32m      3\u001b[0m     conn \u001b[38;5;241m=\u001b[39m psycopg2\u001b[38;5;241m.\u001b[39mconnect(\n\u001b[0;32m      4\u001b[0m         database\u001b[38;5;241m=\u001b[39m\u001b[38;5;124m\"\u001b[39m\u001b[38;5;124mstudenttestdb\u001b[39m\u001b[38;5;124m\"\u001b[39m,\n\u001b[0;32m      5\u001b[0m         user\u001b[38;5;241m=\u001b[39m\u001b[38;5;124m\"\u001b[39m\u001b[38;5;124mpostgres\u001b[39m\u001b[38;5;124m\"\u001b[39m,\n\u001b[1;32m   (...)\u001b[0m\n\u001b[0;32m      8\u001b[0m         port\u001b[38;5;241m=\u001b[39m\u001b[38;5;241m5432\u001b[39m\n\u001b[0;32m      9\u001b[0m     )\n\u001b[0;32m     10\u001b[0m     conn\u001b[38;5;241m.\u001b[39mautocommit \u001b[38;5;241m=\u001b[39m \u001b[38;5;28;01mTrue\u001b[39;00m\n",
      "\u001b[1;31mModuleNotFoundError\u001b[0m: No module named 'psycopg2'"
     ]
    }
   ],
   "source": [
    "def estd_connection():\n",
    "    import psycopg2\n",
    "    conn = psycopg2.connect(\n",
    "        database=\"studenttestdb\",\n",
    "        user=\"postgres\",\n",
    "        password=\"password\",\n",
    "        host=\"127.0.0.1\",\n",
    "        port=5432\n",
    "    )\n",
    "    conn.autocommit = True\n",
    "    print(\"Connection established successfully !!\")\n",
    "    cursor = conn.cursor()\n",
    "    return cursor\n",
    "\n",
    "\n",
    "if __name__ == \"__main__\":\n",
    "    estd_connection()"
   ]
  },
  {
   "cell_type": "code",
   "execution_count": null,
   "id": "8ff52059-7235-4b3d-a840-9260eab23bed",
   "metadata": {},
   "outputs": [],
   "source": []
  }
 ],
 "metadata": {
  "kernelspec": {
   "display_name": "Python 3 (ipykernel)",
   "language": "python",
   "name": "python3"
  },
  "language_info": {
   "codemirror_mode": {
    "name": "ipython",
    "version": 3
   },
   "file_extension": ".py",
   "mimetype": "text/x-python",
   "name": "python",
   "nbconvert_exporter": "python",
   "pygments_lexer": "ipython3",
   "version": "3.11.4"
  }
 },
 "nbformat": 4,
 "nbformat_minor": 5
}
