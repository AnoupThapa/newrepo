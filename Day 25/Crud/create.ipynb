{
 "cells": [
  {
   "cell_type": "code",
   "execution_count": 1,
   "id": "7070b88f-d6e6-4b28-ac10-47ba8d7eb4a8",
   "metadata": {},
   "outputs": [
    {
     "ename": "ModuleNotFoundError",
     "evalue": "No module named 'estd_connection'",
     "output_type": "error",
     "traceback": [
      "\u001b[1;31m---------------------------------------------------------------------------\u001b[0m",
      "\u001b[1;31mModuleNotFoundError\u001b[0m                       Traceback (most recent call last)",
      "Cell \u001b[1;32mIn[1], line 1\u001b[0m\n\u001b[1;32m----> 1\u001b[0m \u001b[38;5;28;01mfrom\u001b[39;00m \u001b[38;5;21;01mestd_connection\u001b[39;00m \u001b[38;5;28;01mimport\u001b[39;00m estd_connection\n\u001b[0;32m      4\u001b[0m \u001b[38;5;28;01mdef\u001b[39;00m \u001b[38;5;21mcreate_student\u001b[39m():\n\u001b[0;32m      5\u001b[0m     cursor \u001b[38;5;241m=\u001b[39m estd_connection()\n",
      "\u001b[1;31mModuleNotFoundError\u001b[0m: No module named 'estd_connection'"
     ]
    }
   ],
   "source": [
    "from estd_connection import estd_connection\n",
    "\n",
    "\n",
    "def create_student():\n",
    "    cursor = estd_connection()\n",
    "    id = input(\"Enter student id \")\n",
    "    name = input(\"Enter student name \")\n",
    "    age = input(\"Enter student age \")\n",
    "    address = input(\"Enter student address \")\n",
    "\n",
    "    sql = \"\"\"\n",
    "    INSERT INTO STUDENT (ID,NAME,AGE,ADDRESS ('{id}','{name}','{age}')\n",
    "    \"\"\"\n",
    "    cursor.execute(sql)\n",
    "    print(\"Student Added Successfully!!\")\n",
    "    choice = input(\"Do you want to continue? (y/n) \")\n",
    "    return choice.lower() == \"y\""
   ]
  },
  {
   "cell_type": "code",
   "execution_count": null,
   "id": "81125c05-0556-461e-95dc-d43784ca4981",
   "metadata": {},
   "outputs": [],
   "source": []
  }
 ],
 "metadata": {
  "kernelspec": {
   "display_name": "Python 3 (ipykernel)",
   "language": "python",
   "name": "python3"
  },
  "language_info": {
   "codemirror_mode": {
    "name": "ipython",
    "version": 3
   },
   "file_extension": ".py",
   "mimetype": "text/x-python",
   "name": "python",
   "nbconvert_exporter": "python",
   "pygments_lexer": "ipython3",
   "version": "3.11.4"
  }
 },
 "nbformat": 4,
 "nbformat_minor": 5
}
