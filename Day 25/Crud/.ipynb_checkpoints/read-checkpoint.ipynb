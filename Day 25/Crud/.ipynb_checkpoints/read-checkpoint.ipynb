{
 "cells": [
  {
   "cell_type": "code",
   "execution_count": 1,
   "id": "2e23cd2f-bdc6-43a0-a04f-c87addd22032",
   "metadata": {},
   "outputs": [],
   "source": [
    "import json\n",
    "\n",
    "filename = \"students.json\"\n",
    "\n",
    "\n",
    "def read_student():\n",
    "    student_id = input(\"Enter the student id \")\n",
    "    with open(filename, \"r\") as fp:\n",
    "        students = json.loads(fp.read())  # [{}, {}, {}, {}]\n",
    "    filtered_student = list(filter(lambda x: x['id'] == student_id, students))  # [{}]\n",
    "    if filtered_student:\n",
    "        student = filtered_student[0]\n",
    "        print(student)\n",
    "    else:\n",
    "        print(\"Invalid Student Id!!\")\n",
    "    choice = input(\"Do you want to continue? (y/n) \")\n",
    "    return choice.lower() == \"y\""
   ]
  },
  {
   "cell_type": "code",
   "execution_count": null,
   "id": "515d3c9a-501f-4f99-b410-a5d41318ce89",
   "metadata": {},
   "outputs": [],
   "source": []
  }
 ],
 "metadata": {
  "kernelspec": {
   "display_name": "Python 3 (ipykernel)",
   "language": "python",
   "name": "python3"
  },
  "language_info": {
   "codemirror_mode": {
    "name": "ipython",
    "version": 3
   },
   "file_extension": ".py",
   "mimetype": "text/x-python",
   "name": "python",
   "nbconvert_exporter": "python",
   "pygments_lexer": "ipython3",
   "version": "3.11.4"
  }
 },
 "nbformat": 4,
 "nbformat_minor": 5
}
