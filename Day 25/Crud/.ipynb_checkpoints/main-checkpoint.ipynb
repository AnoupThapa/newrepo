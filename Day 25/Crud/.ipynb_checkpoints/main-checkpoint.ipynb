{
 "cells": [
  {
   "cell_type": "code",
   "execution_count": null,
   "id": "d40f2cb3-cecb-41ab-9fee-1bfccedb7f64",
   "metadata": {},
   "outputs": [],
   "source": [
    "from create import create_student\n",
    "from read import read_student\n",
    "from update import update_student\n",
    "from delete import delete_student\n",
    "\n",
    "\n",
    "def inquiry():\n",
    "    selection = input(\"Enter your choice c/r/u/d/e \")\n",
    "    selection = selection.lower()\n",
    "    program_continue = None\n",
    "\n",
    "    def exit_message():\n",
    "        print(\"Thank You. See You Again !!\")\n",
    "    if selection == \"c\":\n",
    "        program_continue = create_student()\n",
    "    elif selection == \"r\":\n",
    "        program_continue = read_student()\n",
    "    elif selection == \"u\":\n",
    "        program_continue = update_student()\n",
    "    elif selection == \"d\":\n",
    "        program_continue = delete_student()\n",
    "    inquiry() if program_continue else exit_message()\n",
    "\n",
    "\n",
    "if __name__ == \"__main__\":\n",
    "    inquiry()"
   ]
  }
 ],
 "metadata": {
  "kernelspec": {
   "display_name": "Python 3 (ipykernel)",
   "language": "python",
   "name": "python3"
  },
  "language_info": {
   "codemirror_mode": {
    "name": "ipython",
    "version": 3
   },
   "file_extension": ".py",
   "mimetype": "text/x-python",
   "name": "python",
   "nbconvert_exporter": "python",
   "pygments_lexer": "ipython3",
   "version": "3.11.4"
  }
 },
 "nbformat": 4,
 "nbformat_minor": 5
}
