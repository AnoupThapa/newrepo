{
 "cells": [
  {
   "cell_type": "code",
   "execution_count": 1,
   "id": "77df1189-e46e-439b-af93-22202469726b",
   "metadata": {},
   "outputs": [],
   "source": [
    "import json\n",
    "\n",
    "filename = \"students.json\"\n",
    "\n",
    "\n",
    "def update_student():\n",
    "    student_id = input(\"Enter the student id \")\n",
    "    key = input(\"Enter the info you want to update \")  # name\n",
    "    value = input(f\"Enter the new {key}\")  # Ram  (Jon)\n",
    "    with open(filename, \"r+\") as fp:\n",
    "        students = json.loads(fp.read())  # [{}, {}, {}, {}]\n",
    "        filtered_student = list(filter(lambda x: x[\"id\"] == student_id, students))\n",
    "        if filtered_student:\n",
    "            student = filtered_student[0]  # {}\n",
    "            student[key] = value\n",
    "            fp.seek(0)\n",
    "            fp.write(json.dumps(students, indent=2))\n",
    "        else:\n",
    "            print(\"Invalid Student Id!!\")\n",
    "    choice = input(\"Do you want to continue? (y/n) \")\n",
    "    return choice.lower() == \"y\""
   ]
  },
  {
   "cell_type": "code",
   "execution_count": null,
   "id": "e98271e2-97e7-4122-931c-fa24197d4fe4",
   "metadata": {},
   "outputs": [],
   "source": []
  }
 ],
 "metadata": {
  "kernelspec": {
   "display_name": "Python 3 (ipykernel)",
   "language": "python",
   "name": "python3"
  },
  "language_info": {
   "codemirror_mode": {
    "name": "ipython",
    "version": 3
   },
   "file_extension": ".py",
   "mimetype": "text/x-python",
   "name": "python",
   "nbconvert_exporter": "python",
   "pygments_lexer": "ipython3",
   "version": "3.11.4"
  }
 },
 "nbformat": 4,
 "nbformat_minor": 5
}
