{
 "cells": [
  {
   "cell_type": "code",
   "execution_count": 2,
   "id": "9144b795-9a82-455a-a34e-345c2a1c34be",
   "metadata": {},
   "outputs": [],
   "source": [
    "#continue\n",
    "#Continue statement \n"
   ]
  },
  {
   "cell_type": "code",
   "execution_count": 1,
   "id": "56eeb58a-5aa4-43f3-a397-991f1cc42955",
   "metadata": {},
   "outputs": [
    {
     "name": "stdout",
     "output_type": "stream",
     "text": [
      "1\n",
      "2\n",
      "3\n",
      "4\n",
      "6\n",
      "7\n",
      "8\n",
      "9\n",
      "10\n",
      "11\n"
     ]
    }
   ],
   "source": [
    "n = 0\n",
    "while n <=10:\n",
    "    if n == 4:\n",
    "        n+=1\n",
    "        continue\n",
    "    n+=1\n",
    "    print(n)         "
   ]
  },
  {
   "cell_type": "code",
   "execution_count": 2,
   "id": "68d5e9fc-3a12-4130-b566-f33aa36e744c",
   "metadata": {},
   "outputs": [],
   "source": [
    "# pass\n",
    "#pass is used to make you code syntatically corret in the places where your logics can be added in future\n",
    "def addition (a,b):\n",
    "    pass"
   ]
  },
  {
   "cell_type": "code",
   "execution_count": null,
   "id": "fda1de86-f7a2-4e63-90e6-0502ebeb834a",
   "metadata": {},
   "outputs": [],
   "source": [
    "#TODO: Need to work in this logic\n",
    "class student: \n",
    "    pass"
   ]
  }
 ],
 "metadata": {
  "kernelspec": {
   "display_name": "Python 3 (ipykernel)",
   "language": "python",
   "name": "python3"
  },
  "language_info": {
   "codemirror_mode": {
    "name": "ipython",
    "version": 3
   },
   "file_extension": ".py",
   "mimetype": "text/x-python",
   "name": "python",
   "nbconvert_exporter": "python",
   "pygments_lexer": "ipython3",
   "version": "3.11.4"
  }
 },
 "nbformat": 4,
 "nbformat_minor": 5
}
