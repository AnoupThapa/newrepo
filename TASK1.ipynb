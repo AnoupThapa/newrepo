{
 "cells": [
  {
   "cell_type": "raw",
   "id": "764d8939-21bb-4626-b45b-febe1db8fefe",
   "metadata": {},
   "source": [
    "radius = input(\"Enter the radius\")\n",
    "radius = float(input(\"Enter the radius\"))"
   ]
  },
  {
   "cell_type": "code",
   "execution_count": 4,
   "id": "b90c7213-74f8-4a43-b075-50ba333015cd",
   "metadata": {},
   "outputs": [],
   "source": [
    "#write a program which takes radius "
   ]
  },
  {
   "cell_type": "code",
   "execution_count": 11,
   "id": "f6753eaf-d5ee-45cf-b809-01de97766f27",
   "metadata": {},
   "outputs": [
    {
     "name": "stdin",
     "output_type": "stream",
     "text": [
      "Enter the radius 2\n"
     ]
    },
    {
     "name": "stdout",
     "output_type": "stream",
     "text": [
      "12.566370614359172\n"
     ]
    }
   ],
   "source": [
    "\n",
    "from math import pi\n",
    "radius= float(input(\"Enter the radius\"))\n",
    "area=math.pi*radius**2\n",
    "print(area)"
   ]
  },
  {
   "cell_type": "code",
   "execution_count": 1,
   "id": "638e557f-a540-4b56-a2f2-741f84a24f93",
   "metadata": {},
   "outputs": [
    {
     "name": "stdin",
     "output_type": "stream",
     "text": [
      "Pick number 5\n"
     ]
    },
    {
     "name": "stdout",
     "output_type": "stream",
     "text": [
      "[picked] is repeated 2 times\n"
     ]
    }
   ],
   "source": [
    "data = [5,2,3,5,3,2,3,3,1,4]\n",
    "picked = int(input(\"Pick number\"))\n",
    "result = data.count(picked)\n",
    "print(f\"[picked] is repeated {result} times\")\n"
   ]
  },
  {
   "cell_type": "code",
   "execution_count": 2,
   "id": "c2bebda0-dd06-490c-9d3f-113b35f32503",
   "metadata": {},
   "outputs": [
    {
     "name": "stdin",
     "output_type": "stream",
     "text": [
      "Pick number 6\n"
     ]
    },
    {
     "name": "stdout",
     "output_type": "stream",
     "text": [
      "[picked] is repeated 0 times\n"
     ]
    }
   ],
   "source": [
    "data = [5,2,3,5,3,2,3,3,1,4]\n",
    "picked = int(input(\"Pick number\"))\n",
    "result = data.count(picked)\n",
    "print(f\"[picked] is repeated {result} times\")"
   ]
  },
  {
   "cell_type": "code",
   "execution_count": null,
   "id": "cf0f4e00-a4ca-4765-874f-f5ce28a51348",
   "metadata": {},
   "outputs": [],
   "source": []
  }
 ],
 "metadata": {
  "kernelspec": {
   "display_name": "Python 3 (ipykernel)",
   "language": "python",
   "name": "python3"
  },
  "language_info": {
   "codemirror_mode": {
    "name": "ipython",
    "version": 3
   },
   "file_extension": ".py",
   "mimetype": "text/x-python",
   "name": "python",
   "nbconvert_exporter": "python",
   "pygments_lexer": "ipython3",
   "version": "3.11.4"
  }
 },
 "nbformat": 4,
 "nbformat_minor": 5
}
