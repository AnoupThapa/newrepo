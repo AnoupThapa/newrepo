{
 "cells": [
  {
   "cell_type": "code",
   "execution_count": 5,
   "id": "26296943-b565-4564-b47c-d3d920c11c6a",
   "metadata": {},
   "outputs": [
    {
     "ename": "SyntaxError",
     "evalue": "invalid syntax (2824808252.py, line 6)",
     "output_type": "error",
     "traceback": [
      "\u001b[1;36m  Cell \u001b[1;32mIn[5], line 6\u001b[1;36m\u001b[0m\n\u001b[1;33m    else:\u001b[0m\n\u001b[1;37m    ^\u001b[0m\n\u001b[1;31mSyntaxError\u001b[0m\u001b[1;31m:\u001b[0m invalid syntax\n"
     ]
    }
   ],
   "source": [
    "def login_required(func):\n",
    "    def inner_function(*args, **kwargs):\n",
    "        pw = input(\"enter your password\")\n",
    "        if pw == '123':\n",
    "            return func(*args, **kwargs)\n",
    "    else:\n",
    "        return \"Invalid Password\"\n",
    "return inner_func\n",
    "\n",
    "        \n",
    "def addition(a,b):\n",
    "    return a+b\n"
   ]
  },
  {
   "cell_type": "code",
   "execution_count": null,
   "id": "28cc9a5e-3a43-41dd-b11c-d0b6fd0f0a1d",
   "metadata": {},
   "outputs": [],
   "source": [
    "addition = login_required(addition) #login required called which returns inner function\n",
    "result = addition(2,3)\n",
    "print(result)"
   ]
  }
 ],
 "metadata": {
  "kernelspec": {
   "display_name": "Python 3 (ipykernel)",
   "language": "python",
   "name": "python3"
  },
  "language_info": {
   "codemirror_mode": {
    "name": "ipython",
    "version": 3
   },
   "file_extension": ".py",
   "mimetype": "text/x-python",
   "name": "python",
   "nbconvert_exporter": "python",
   "pygments_lexer": "ipython3",
   "version": "3.11.4"
  }
 },
 "nbformat": 4,
 "nbformat_minor": 5
}
