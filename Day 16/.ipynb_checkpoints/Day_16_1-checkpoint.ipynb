{
 "cells": [
  {
   "cell_type": "code",
   "execution_count": null,
   "id": "95eb2aee-12b3-4292-910e-2d3f5fae32b6",
   "metadata": {},
   "outputs": [],
   "source": [
    "#WAP to create a \"login_required\" decoratpr which if added to a function asks for a password. \n",
    "#If the password is entered \"123\" then the function can be accessed else throw the message \"Invalid Password\""
   ]
  },
  {
   "cell_type": "code",
   "execution_count": 4,
   "id": "c6993e92-69db-46e6-b634-eb5c92d63f2e",
   "metadata": {},
   "outputs": [
    {
     "name": "stdin",
     "output_type": "stream",
     "text": [
      "Enter your password  123\n"
     ]
    },
    {
     "name": "stdout",
     "output_type": "stream",
     "text": [
      "5\n"
     ]
    }
   ],
   "source": [
    "def login_required(func):\n",
    "    def inner_func(*args, **kwargs):\n",
    "        pw = input(\"Enter your password \")\n",
    "        if pw == '123':\n",
    "            return func(*args, **kwargs)\n",
    "        else:\n",
    "            return \"Invalid Password\"\n",
    "    return inner_func\n",
    "\n",
    "@login_required\n",
    "def addition(a, b):\n",
    "    return a + b\n",
    "\n",
    "\n",
    "result = addition(2, 3)\n",
    "print(result)"
   ]
  },
  {
   "cell_type": "code",
   "execution_count": 1,
   "id": "272659a9-ebe4-40ed-97cb-51f1d2ea26b1",
   "metadata": {},
   "outputs": [],
   "source": [
    "##WAP to make a decorator which prints the time execution of the function"
   ]
  },
  {
   "cell_type": "code",
   "execution_count": null,
   "id": "05b155da-4935-4c52-a65e-b2eda3949ff5",
   "metadata": {},
   "outputs": [],
   "source": [
    "import time\n",
    "\n",
    "def execution_time(func):\n",
    "    def inner_func(*args, **kwargs):\n",
    "        start = time.time()  # 2\n",
    "        result = func(*args, **kwargs)\n",
    "        end = time.time()  # 3\n",
    "        print(\"Function execution time is\", end-start)\n",
    "        return result\n",
    "    return inner_func\n",
    "\n",
    "\n",
    "@execution_time\n",
    "def test_fxn():\n",
    "    for i in range(1000000000):\n",
    "        pass\n",
    "    print(\"Function Completed !!\")\n",
    "\n",
    "test_fxn()\n",
    "\n",
    "# start = time.time()\n",
    "# test_fxn()\n",
    "# end = time.time()\n",
    "# print(\"Function took\", end-start, \"seconds !!\")"
   ]
  },
  {
   "cell_type": "code",
   "execution_count": null,
   "id": "0eca75b4-64db-4ff0-8507-13112324f324",
   "metadata": {},
   "outputs": [],
   "source": [
    "#Class attirbute and instance attribute\n",
    "#Pillas of OOP\n",
    "#Inheritance, polymorphism, Encapsulation, Abstraction\n",
    "#Types of Inheritance\n",
    "#Function/Method Overloading, Operator Overloading, Method Overriding under Polymorphism\n",
    "# Private, Public and protected Members under Encapsulation\n",
    "#Abstract classes\n",
    "#Magic Methods"
   ]
  }
 ],
 "metadata": {
  "kernelspec": {
   "display_name": "Python 3 (ipykernel)",
   "language": "python",
   "name": "python3"
  },
  "language_info": {
   "codemirror_mode": {
    "name": "ipython",
    "version": 3
   },
   "file_extension": ".py",
   "mimetype": "text/x-python",
   "name": "python",
   "nbconvert_exporter": "python",
   "pygments_lexer": "ipython3",
   "version": "3.11.4"
  }
 },
 "nbformat": 4,
 "nbformat_minor": 5
}
