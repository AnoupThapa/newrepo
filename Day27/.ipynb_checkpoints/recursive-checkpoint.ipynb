{
 "cells": [
  {
   "cell_type": "code",
   "execution_count": 3,
   "id": "259fd921-5923-49b0-bdef-a084c7970b58",
   "metadata": {},
   "outputs": [
    {
     "name": "stdout",
     "output_type": "stream",
     "text": [
      "0\n",
      "1\n",
      "2\n",
      "3\n",
      "4\n",
      "5\n",
      "6\n",
      "7\n",
      "8\n",
      "9\n"
     ]
    }
   ],
   "source": [
    "#IF a function is called from the definition of the same function then it is called as a recursive function\n",
    "\n",
    "a= 0\n",
    "def repeat():\n",
    "    global a\n",
    "    print(a)\n",
    "    a+=1\n",
    "    if a ==10:\n",
    "        return\n",
    "    repeat()\n",
    "\n",
    "repeat()"
   ]
  },
  {
   "cell_type": "code",
   "execution_count": 5,
   "id": "9af6a5c9-fb2d-4f43-8738-bbc189bc5e18",
   "metadata": {},
   "outputs": [],
   "source": [
    "#Calculate the factorial of 5 in three different ways; normal loop, reduce() and recursive function"
   ]
  },
  {
   "cell_type": "code",
   "execution_count": 6,
   "id": "b3dfbce8-8249-4a09-bd99-94cebef0f0db",
   "metadata": {},
   "outputs": [
    {
     "name": "stdout",
     "output_type": "stream",
     "text": [
      "1\n"
     ]
    }
   ],
   "source": [
    "fact = 1\n",
    "for i in range(1,6):\n",
    "    fact = fact*1\n",
    "\n",
    "print(fact)"
   ]
  },
  {
   "cell_type": "code",
   "execution_count": 9,
   "id": "8c5f5780-50b2-4e2a-8abc-615065eb7fe0",
   "metadata": {},
   "outputs": [
    {
     "name": "stdout",
     "output_type": "stream",
     "text": [
      "120\n"
     ]
    }
   ],
   "source": [
    "from functools import reduce\n",
    "result = reduce(lambda x,y: x*y, range(1,6))\n",
    "print(result)"
   ]
  },
  {
   "cell_type": "code",
   "execution_count": 15,
   "id": "b87372ca-d89a-4ea3-9956-e16f01b8174f",
   "metadata": {},
   "outputs": [
    {
     "name": "stdout",
     "output_type": "stream",
     "text": [
      "120\n"
     ]
    }
   ],
   "source": [
    "def factorial(x):\n",
    "    if x == 0:\n",
    "        return 1\n",
    "    else:\n",
    "        return x * factorial(x - 1)\n",
    "\n",
    "#5* factorial(4) = 5*4*3*2*1= 120\n",
    "#4* factorial (3) = 4*3*2*1= 24\n",
    "#3 * factorial(2) = 3*2*1= 6\n",
    "#2* factorial(1) = 2*1= 2\n",
    "#1* factorial(0) = 1*1=1\n",
    "\n",
    "factorial = factorial(5)\n",
    "print(factorial)  # Output: 120\n"
   ]
  },
  {
   "cell_type": "code",
   "execution_count": null,
   "id": "0feb3b26-e6c5-4959-b9b7-22a46be79b65",
   "metadata": {},
   "outputs": [],
   "source": [
    "\n"
   ]
  },
  {
   "cell_type": "code",
   "execution_count": null,
   "id": "e581d413-46db-461c-98f4-d1e0060ff027",
   "metadata": {},
   "outputs": [],
   "source": []
  }
 ],
 "metadata": {
  "kernelspec": {
   "display_name": "Python 3 (ipykernel)",
   "language": "python",
   "name": "python3"
  },
  "language_info": {
   "codemirror_mode": {
    "name": "ipython",
    "version": 3
   },
   "file_extension": ".py",
   "mimetype": "text/x-python",
   "name": "python",
   "nbconvert_exporter": "python",
   "pygments_lexer": "ipython3",
   "version": "3.11.4"
  }
 },
 "nbformat": 4,
 "nbformat_minor": 5
}
