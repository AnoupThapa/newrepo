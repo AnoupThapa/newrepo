{
 "cells": [
  {
   "cell_type": "code",
   "execution_count": 1,
   "id": "255a6e68-3053-4cbe-a4ad-a984c2de7e26",
   "metadata": {},
   "outputs": [],
   "source": [
    "# There are three types of numbers in Python\n",
    "# 1. Integer\n",
    "# 2. Float\n",
    "# 3. Complex\n",
    "\n",
    "\n",
    "# Integer\n",
    "a = 1\n",
    "b = -2\n",
    "c = 6712\n",
    "d = -662432\n",
    "e = 0\n",
    "\n",
    "\n",
    "# float\n",
    "a = 0.0\n",
    "b = 1.3\n",
    "c = 4.65464645\n",
    "d = -34.2\n",
    "e = 2e3  # 2 * 10 ** 3 = 2000.0\n",
    "f = 2e-3  # 2 * 10 ** -3 = 0.002\n",
    "\n",
    "\n",
    "# Complex\n",
    "a = 1 + 2j  # j = under root(-1) i.e. j is an imaginary value\n",
    "b = 3 - 4j\n",
    "c = 1j\n",
    "\n",
    "# 9813226710\n",
    "# 9818641674"
   ]
  },
  {
   "cell_type": "code",
   "execution_count": null,
   "id": "16e11576-7d2c-4388-a020-b4515a16dd73",
   "metadata": {},
   "outputs": [],
   "source": []
  }
 ],
 "metadata": {
  "kernelspec": {
   "display_name": "Python 3 (ipykernel)",
   "language": "python",
   "name": "python3"
  },
  "language_info": {
   "codemirror_mode": {
    "name": "ipython",
    "version": 3
   },
   "file_extension": ".py",
   "mimetype": "text/x-python",
   "name": "python",
   "nbconvert_exporter": "python",
   "pygments_lexer": "ipython3",
   "version": "3.11.4"
  }
 },
 "nbformat": 4,
 "nbformat_minor": 5
}
