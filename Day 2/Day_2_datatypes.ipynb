{
 "cells": [
  {
   "cell_type": "code",
   "execution_count": 1,
   "id": "25b8edf6-240c-4bd7-97a8-41d9bbf90324",
   "metadata": {},
   "outputs": [
    {
     "name": "stdout",
     "output_type": "stream",
     "text": [
      "<class 'int'>\n",
      "<class 'str'>\n"
     ]
    }
   ],
   "source": [
    "# Like other language Python also has it's own datatypes\n",
    "# 1. Numbers\n",
    "# 2. Boolean\n",
    "# 3. String\n",
    "# 4. List\n",
    "# 5. Set\n",
    "# 6. Tuple\n",
    "# 7. Dictionary\n",
    "\n",
    "\n",
    "# What are mutable and immutable objects ?\n",
    "# => those objects which can be modified after its creation are mutable objects\n",
    "# => those which can't be modified are immutable objects\n",
    "# List, Set, Dictionary are the mutable datatypes\n",
    "# Numbers, String, Tuple, Boolean are the immutable datatypes\n",
    "# type() function can be used to check the type of object\n",
    "\n",
    "print(type(1))  # int\n",
    "print(type(\"hello\"))  # str"
   ]
  },
  {
   "cell_type": "code",
   "execution_count": null,
   "id": "315df8d1-c773-4106-a422-c37e6a172dc7",
   "metadata": {},
   "outputs": [],
   "source": []
  }
 ],
 "metadata": {
  "kernelspec": {
   "display_name": "Python 3 (ipykernel)",
   "language": "python",
   "name": "python3"
  },
  "language_info": {
   "codemirror_mode": {
    "name": "ipython",
    "version": 3
   },
   "file_extension": ".py",
   "mimetype": "text/x-python",
   "name": "python",
   "nbconvert_exporter": "python",
   "pygments_lexer": "ipython3",
   "version": "3.11.4"
  }
 },
 "nbformat": 4,
 "nbformat_minor": 5
}
