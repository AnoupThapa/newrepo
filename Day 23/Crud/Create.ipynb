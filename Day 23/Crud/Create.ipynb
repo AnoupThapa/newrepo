{
 "cells": [
  {
   "cell_type": "code",
   "execution_count": 1,
   "id": "bad4152b-86c6-430e-9172-9cd3986ba4f8",
   "metadata": {},
   "outputs": [],
   "source": [
    "import json\n",
    "import os\n",
    "\n",
    "filename = \"students.json\"\n",
    "\n",
    "\n",
    "def create_student():\n",
    "    id = input(\"Enter student id \")\n",
    "    name = input(\"Enter student name \")\n",
    "    age = input(\"Enter student age \")\n",
    "    address = input(\"Enter student address \")\n",
    "\n",
    "    student = dict(id=id, name=name, age=age, address=address)\n",
    "\n",
    "    if not os.path.exists(filename):\n",
    "        with open(filename, \"w\") as fp:\n",
    "            data = json.dumps([student], indent=2)\n",
    "            fp.write(data)\n",
    "    else:\n",
    "        with open(filename, \"r+\") as fp:\n",
    "            students = json.loads(fp.read())\n",
    "            students.append(student)\n",
    "            fp.seek(0)\n",
    "            fp.write(json.dumps(students, indent=2))\n",
    "    print(\"Student Added Successfully!!\")\n",
    "    choice = input(\"Do you want to continue? (y/n) \")\n",
    "    if choice.lower() == 'y':\n",
    "        return True\n",
    "    return False"
   ]
  },
  {
   "cell_type": "code",
   "execution_count": null,
   "id": "13536592-0659-4ef4-8aca-b8c866e8374f",
   "metadata": {},
   "outputs": [],
   "source": []
  }
 ],
 "metadata": {
  "kernelspec": {
   "display_name": "Python 3 (ipykernel)",
   "language": "python",
   "name": "python3"
  },
  "language_info": {
   "codemirror_mode": {
    "name": "ipython",
    "version": 3
   },
   "file_extension": ".py",
   "mimetype": "text/x-python",
   "name": "python",
   "nbconvert_exporter": "python",
   "pygments_lexer": "ipython3",
   "version": "3.11.4"
  }
 },
 "nbformat": 4,
 "nbformat_minor": 5
}
