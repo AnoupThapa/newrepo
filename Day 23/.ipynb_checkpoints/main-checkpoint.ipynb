{
 "cells": [
  {
   "cell_type": "code",
   "execution_count": 31,
   "id": "f2fa2c49-c06a-4579-b8dd-d43b2f85119b",
   "metadata": {},
   "outputs": [
    {
     "ename": "ModuleNotFoundError",
     "evalue": "No module named 'create'",
     "output_type": "error",
     "traceback": [
      "\u001b[1;31m---------------------------------------------------------------------------\u001b[0m",
      "\u001b[1;31mModuleNotFoundError\u001b[0m                       Traceback (most recent call last)",
      "Cell \u001b[1;32mIn[31], line 1\u001b[0m\n\u001b[1;32m----> 1\u001b[0m \u001b[38;5;28;01mfrom\u001b[39;00m \u001b[38;5;21;01mcreate\u001b[39;00m \u001b[38;5;28;01mimport\u001b[39;00m create_student\n\u001b[0;32m      2\u001b[0m \u001b[38;5;28;01mfrom\u001b[39;00m \u001b[38;5;21;01mread\u001b[39;00m \u001b[38;5;28;01mimport\u001b[39;00m read_student\n\u001b[0;32m      3\u001b[0m \u001b[38;5;28;01mfrom\u001b[39;00m \u001b[38;5;21;01mupdate\u001b[39;00m \u001b[38;5;28;01mimport\u001b[39;00m update_student\n",
      "\u001b[1;31mModuleNotFoundError\u001b[0m: No module named 'create'"
     ]
    }
   ],
   "source": [
    "from create import create_student\n",
    "from read import read_student\n",
    "from update import update_student\n",
    "from delete import delete_student\n",
    "\n",
    "\n",
    "def inquiry():\n",
    "    selection = input(\"Enter your choice c/r/u/d/e \")\n",
    "    selection = selection.lower()\n",
    "\n",
    "    def exit_message():\n",
    "        print(\"Thank You. See You Again !!\")\n",
    "    if selection == \"c\":\n",
    "        program_continue = create_student()\n",
    "        inquiry() if program_continue else exit_message()\n",
    "    elif selection == \"r\":\n",
    "        read_student()\n",
    "    elif selection == \"u\":\n",
    "        update_student()\n",
    "    elif selection == \"d\":\n",
    "        delete_student()\n",
    "    else:\n",
    "        exit_message()\n",
    "\n",
    "\n",
    "if __name__ == \"__main__\":\n",
    "    inquiry()"
   ]
  },
  {
   "cell_type": "code",
   "execution_count": 22,
   "id": "4de70da0-30ae-431f-91f0-4a8092af515b",
   "metadata": {},
   "outputs": [
    {
     "name": "stdin",
     "output_type": "stream",
     "text": [
      "Enter your choice c/r/u/d/e  c\n"
     ]
    }
   ],
   "source": []
  },
  {
   "cell_type": "code",
   "execution_count": null,
   "id": "04a427ca-35ac-421e-8560-67b865b8739f",
   "metadata": {},
   "outputs": [],
   "source": []
  }
 ],
 "metadata": {
  "kernelspec": {
   "display_name": "Python 3 (ipykernel)",
   "language": "python",
   "name": "python3"
  },
  "language_info": {
   "codemirror_mode": {
    "name": "ipython",
    "version": 3
   },
   "file_extension": ".py",
   "mimetype": "text/x-python",
   "name": "python",
   "nbconvert_exporter": "python",
   "pygments_lexer": "ipython3",
   "version": "3.11.4"
  }
 },
 "nbformat": 4,
 "nbformat_minor": 5
}
