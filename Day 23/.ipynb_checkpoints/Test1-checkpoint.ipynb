{
 "cells": [
  {
   "cell_type": "code",
   "execution_count": null,
   "id": "d441af7c-d757-447d-84bc-b94f79fd7f11",
   "metadata": {},
   "outputs": [],
   "source": [
    "def addition(a, b):\n",
    "    return a + b\n",
    "\n",
    "\n",
    "print(__name__)\n",
    "if __name__ == \"__main__\":\n",
    "    result = addition(2, 3)\n",
    "    print(result)  # 5"
   ]
  }
 ],
 "metadata": {
  "kernelspec": {
   "display_name": "Python 3 (ipykernel)",
   "language": "python",
   "name": "python3"
  },
  "language_info": {
   "codemirror_mode": {
    "name": "ipython",
    "version": 3
   },
   "file_extension": ".py",
   "mimetype": "text/x-python",
   "name": "python",
   "nbconvert_exporter": "python",
   "pygments_lexer": "ipython3",
   "version": "3.11.4"
  }
 },
 "nbformat": 4,
 "nbformat_minor": 5
}
