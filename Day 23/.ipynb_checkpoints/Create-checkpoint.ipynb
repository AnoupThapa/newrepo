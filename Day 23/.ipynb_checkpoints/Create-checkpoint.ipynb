{
 "cells": [
  {
   "cell_type": "code",
   "execution_count": 18,
   "id": "a5223c05-d0f9-41c8-8a9d-dff0171d5f8d",
   "metadata": {},
   "outputs": [
    {
     "ename": "SyntaxError",
     "evalue": "expected 'else' after 'if' expression (3044415562.py, line 27)",
     "output_type": "error",
     "traceback": [
      "\u001b[1;36m  Cell \u001b[1;32mIn[18], line 27\u001b[1;36m\u001b[0m\n\u001b[1;33m    return True if choice.lower() = \"y\" else False\u001b[0m\n\u001b[1;37m           ^\u001b[0m\n\u001b[1;31mSyntaxError\u001b[0m\u001b[1;31m:\u001b[0m expected 'else' after 'if' expression\n"
     ]
    }
   ],
   "source": [
    "import json\n",
    "import os\n",
    "\n",
    "filename = \"students.json\"\n",
    "\n",
    "def create_student():\n",
    "    id = input(\"Enter student if\")\n",
    "    name = input(\"Enter student name\")\n",
    "    age = input (\"Enter student age\")\n",
    "    address = input(\"Enter student address\")\n",
    "\n",
    "    student = dict(id=id, name=name, age=age, address=address)\n",
    "\n",
    "    if not os.path.exists(filename):\n",
    "        with open(filename, \"w\") as fp:\n",
    "            data = json.dumps([student],indent=2)\n",
    "            fp.write(data)\n",
    "\n",
    "    else:\n",
    "        with open(filename, \"r+\") as fp:\n",
    "            studens= json.loads(fp.read())\n",
    "            students.append(student)\n",
    "            fp.seek(0)\n",
    "            fp.write(json.dumps(students))\n",
    "    print(\"Student Added Successfully!!\")\n",
    "    choice = input(\"Do you want to continue? (y/n)\")\n",
    "    return True if choice.lower() = \"y\" else False"
   ]
  },
  {
   "cell_type": "code",
   "execution_count": null,
   "id": "7b7dc479-404f-43f7-ae41-6df1eded6e80",
   "metadata": {},
   "outputs": [],
   "source": []
  }
 ],
 "metadata": {
  "kernelspec": {
   "display_name": "Python 3 (ipykernel)",
   "language": "python",
   "name": "python3"
  },
  "language_info": {
   "codemirror_mode": {
    "name": "ipython",
    "version": 3
   },
   "file_extension": ".py",
   "mimetype": "text/x-python",
   "name": "python",
   "nbconvert_exporter": "python",
   "pygments_lexer": "ipython3",
   "version": "3.11.4"
  }
 },
 "nbformat": 4,
 "nbformat_minor": 5
}
