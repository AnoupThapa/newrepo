{
 "cells": [
  {
   "cell_type": "code",
   "execution_count": 1,
   "id": "b490394a-b5d1-4bfc-8b87-7205447d5198",
   "metadata": {},
   "outputs": [],
   "source": [
    "#Create a dictionary student with keys id, name, age, department. Take a input from the user, which info (id, name, age or department)\n",
    "# he wants to access and print the result. Handle the possible exceptions."
   ]
  },
  {
   "cell_type": "code",
   "execution_count": 17,
   "id": "2bf06fab-6e9d-4d70-8d2b-7b96660b9a35",
   "metadata": {},
   "outputs": [
    {
     "name": "stdin",
     "output_type": "stream",
     "text": [
      "Enter the info you want to get age\n"
     ]
    },
    {
     "name": "stdout",
     "output_type": "stream",
     "text": [
      "(The age of the student is 20)\n"
     ]
    }
   ],
   "source": [
    "student = {\"id\": 1, \"name\":\"Jane\", \"age\": 20, \"department\":\"IT\"}\n",
    "try:\n",
    "    key = input(\"Enter the info you want to get\")\n",
    "    result = student[key]\n",
    "\n",
    "except KeyError:\n",
    "    print(\"please provide a valid Key\")\n",
    "\n",
    "else:\n",
    "    print(f\"(The {key} of the student is {result})\")\n",
    "    "
   ]
  },
  {
   "cell_type": "code",
   "execution_count": 3,
   "id": "0fa38f28-46b6-4e68-a0e1-d0fd72b7a20e",
   "metadata": {},
   "outputs": [
    {
     "name": "stdin",
     "output_type": "stream",
     "text": [
      "Enter the info you want to get  department\n"
     ]
    },
    {
     "name": "stdout",
     "output_type": "stream",
     "text": [
      "The department of the student is IT\n"
     ]
    }
   ],
   "source": [
    "student = {\"id\": 1, \"name\": \"Jane\", \"age\": 30, \"department\": \"IT\"}\n",
    "try:\n",
    "    key = input(\"Enter the info you want to get \")\n",
    "    result = student[key]   # student[\"age\"]\n",
    "except KeyError:\n",
    "    print(\"Please provide a valid key \")\n",
    "else:\n",
    "    print(f\"The {key} of the student is {result}\")\n",
    "    "
   ]
  },
  {
   "cell_type": "code",
   "execution_count": null,
   "id": "63ceb022-51c8-4ce6-b8a2-01dc75c6e925",
   "metadata": {},
   "outputs": [],
   "source": []
  }
 ],
 "metadata": {
  "kernelspec": {
   "display_name": "Python 3 (ipykernel)",
   "language": "python",
   "name": "python3"
  },
  "language_info": {
   "codemirror_mode": {
    "name": "ipython",
    "version": 3
   },
   "file_extension": ".py",
   "mimetype": "text/x-python",
   "name": "python",
   "nbconvert_exporter": "python",
   "pygments_lexer": "ipython3",
   "version": "3.11.4"
  }
 },
 "nbformat": 4,
 "nbformat_minor": 5
}
