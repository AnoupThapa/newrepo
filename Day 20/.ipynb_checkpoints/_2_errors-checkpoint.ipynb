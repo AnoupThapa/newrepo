{
 "cells": [
  {
   "cell_type": "code",
   "execution_count": 1,
   "id": "81400c48-ca6b-43b3-9531-e572cb0f5c3c",
   "metadata": {},
   "outputs": [],
   "source": [
    "# There are broadly two types of errors in any programming language:\n",
    "# 1. Syntactic Error\n",
    "# 2. Non-Syntactic Error\n",
    "\n",
    "# 1. Syntactic Error\n",
    "# This type of errors occur when we mess up with the grammar of the programming language\n",
    "# Example\n",
    "# a =   # Incomplete Code\n",
    "# if a:\n",
    "# print(\"a\")  # If block without Indentation etc. are the syntax error of Python language\n",
    "\n",
    "\n",
    "# 2. Non-Syntactic Error\n",
    "# All other errors except syntax error fall in this category\n",
    "# These errors can further be classified as:\n",
    "# 1. TypeError\n",
    "# 2. ValueError\n",
    "# 3. ZeroDivisionError\n",
    "# 4. NameError\n",
    "# 5. ModuleNotFoundError\n",
    "# 6. IndexError\n",
    "# 7. KeyError\n",
    "\n",
    "# 2 + \"Hello\"   # TypeError\n",
    "# int(\"Hello\")  # ValueError\n",
    "# 3 / 0  # ZeroDivisionError\n",
    "\n",
    "# a = 1\n",
    "# print(b)  # Name b is not defined. NameError\n",
    "\n",
    "# import jason  # No module named jason. ModuleNotFoundError\n",
    "\n",
    "# a = [1, 2, 3, 4]\n",
    "# print(a[5])  # IndexError"
   ]
  },
  {
   "cell_type": "code",
   "execution_count": 3,
   "id": "411ad561-c0de-41b8-bec4-356fa201d653",
   "metadata": {},
   "outputs": [
    {
     "ename": "KeyError",
     "evalue": "'id'",
     "output_type": "error",
     "traceback": [
      "\u001b[1;31m---------------------------------------------------------------------------\u001b[0m",
      "\u001b[1;31mKeyError\u001b[0m                                  Traceback (most recent call last)",
      "Cell \u001b[1;32mIn[3], line 2\u001b[0m\n\u001b[0;32m      1\u001b[0m student \u001b[38;5;241m=\u001b[39m {\u001b[38;5;124m\"\u001b[39m\u001b[38;5;124mname\u001b[39m\u001b[38;5;124m\"\u001b[39m: \u001b[38;5;124m\"\u001b[39m\u001b[38;5;124mABC\u001b[39m\u001b[38;5;124m\"\u001b[39m, \u001b[38;5;124m\"\u001b[39m\u001b[38;5;124mage\u001b[39m\u001b[38;5;124m\"\u001b[39m: \u001b[38;5;241m20\u001b[39m}\n\u001b[1;32m----> 2\u001b[0m \u001b[38;5;28mprint\u001b[39m(\u001b[43mstudent\u001b[49m\u001b[43m[\u001b[49m\u001b[38;5;124;43m\"\u001b[39;49m\u001b[38;5;124;43mid\u001b[39;49m\u001b[38;5;124;43m\"\u001b[39;49m\u001b[43m]\u001b[49m) \u001b[38;5;66;03m#Key Error\u001b[39;00m\n\u001b[0;32m      3\u001b[0m \u001b[38;5;28mprint\u001b[39m (student\u001b[38;5;241m.\u001b[39mget(\u001b[38;5;124m\"\u001b[39m\u001b[38;5;124mid\u001b[39m\u001b[38;5;124m\"\u001b[39m)) \u001b[38;5;66;03m#None\u001b[39;00m\n",
      "\u001b[1;31mKeyError\u001b[0m: 'id'"
     ]
    }
   ],
   "source": [
    "student = {\"name\": \"ABC\", \"age\": 20}\n",
    "print(student[\"id\"]) #Key Error\n",
    "print (student.get(\"id\")) #None"
   ]
  },
  {
   "cell_type": "code",
   "execution_count": null,
   "id": "2a0b02fc-8521-45cb-a023-4e84296da22f",
   "metadata": {},
   "outputs": [],
   "source": []
  }
 ],
 "metadata": {
  "kernelspec": {
   "display_name": "Python 3 (ipykernel)",
   "language": "python",
   "name": "python3"
  },
  "language_info": {
   "codemirror_mode": {
    "name": "ipython",
    "version": 3
   },
   "file_extension": ".py",
   "mimetype": "text/x-python",
   "name": "python",
   "nbconvert_exporter": "python",
   "pygments_lexer": "ipython3",
   "version": "3.11.4"
  }
 },
 "nbformat": 4,
 "nbformat_minor": 5
}
