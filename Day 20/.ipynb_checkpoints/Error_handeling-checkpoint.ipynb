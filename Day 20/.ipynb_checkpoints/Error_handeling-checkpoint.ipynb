{
 "cells": [
  {
   "cell_type": "code",
   "execution_count": 1,
   "id": "d321c4df-cb67-4054-a05b-a88d3181e32d",
   "metadata": {},
   "outputs": [],
   "source": [
    "# Errors in Python are handled using try...except.\n",
    "# There can be several variations of try...except block\n",
    "\n",
    "# try...except"
   ]
  },
  {
   "cell_type": "code",
   "execution_count": 2,
   "id": "d5275628-f170-4722-94f2-d6447d9e686a",
   "metadata": {},
   "outputs": [
    {
     "name": "stdin",
     "output_type": "stream",
     "text": [
      "Enter a number  1\n"
     ]
    }
   ],
   "source": [
    "try:\n",
    "    num = int(input(\"Enter a number \"))\n",
    "except:\n",
    "    print(\"Something Went Wrong !!\")"
   ]
  },
  {
   "cell_type": "code",
   "execution_count": 3,
   "id": "d9d9815e-391f-455b-ad80-eebb06fe545f",
   "metadata": {},
   "outputs": [
    {
     "name": "stdin",
     "output_type": "stream",
     "text": [
      "Enter a number  1\n"
     ]
    }
   ],
   "source": [
    "# try...except but with error name mentioned\n",
    "try:\n",
    "    num = int(input(\"Enter a number \"))\n",
    "except ValueError:\n",
    "    print(\"Something Went Wrong !!\")"
   ]
  },
  {
   "cell_type": "code",
   "execution_count": 4,
   "id": "096f0ea5-58ee-4409-b232-e0a33f0d2c4c",
   "metadata": {},
   "outputs": [
    {
     "name": "stdin",
     "output_type": "stream",
     "text": [
      "Enter a number  1\n"
     ]
    }
   ],
   "source": [
    "# try...except with multiple errors mentioned\n",
    "try:\n",
    "    num = int(input(\"Enter a number \"))\n",
    "except (ValueError, KeyError):\n",
    "    print(\"Something Went Wrong !!\")"
   ]
  },
  {
   "cell_type": "code",
   "execution_count": 5,
   "id": "63e22bb8-2fc1-42d9-a6bc-9dc8e39541f4",
   "metadata": {},
   "outputs": [
    {
     "name": "stdin",
     "output_type": "stream",
     "text": [
      "Enter a number  1\n"
     ]
    }
   ],
   "source": [
    "# try...except chain\n",
    "try:\n",
    "    num = int(input(\"Enter a number \"))\n",
    "except ValueError:\n",
    "    print(\"Please enter a number \")\n",
    "except TypeError:\n",
    "    print(\"Please carry out proper operation\")\n",
    "except ZeroDivisionError:\n",
    "    print(\"Please do not divide by zero\")"
   ]
  },
  {
   "cell_type": "code",
   "execution_count": 6,
   "id": "a333609c-dc48-41f5-98a8-58e25d224711",
   "metadata": {},
   "outputs": [
    {
     "name": "stdin",
     "output_type": "stream",
     "text": [
      "Enter a number  1\n"
     ]
    }
   ],
   "source": [
    "# try...except with Exception as e\n",
    "try:\n",
    "    num = int(input(\"Enter a number \"))\n",
    "except Exception as e:\n",
    "    print(e)"
   ]
  },
  {
   "cell_type": "code",
   "execution_count": 7,
   "id": "85d787d2-e308-4b5f-8b63-fe59eed10057",
   "metadata": {},
   "outputs": [
    {
     "name": "stdin",
     "output_type": "stream",
     "text": [
      "Enter a number  1\n",
      "Enter second number  2\n"
     ]
    },
    {
     "name": "stdout",
     "output_type": "stream",
     "text": [
      "1\n",
      "2\n",
      "3\n"
     ]
    }
   ],
   "source": [
    "# try..except...else\n",
    "try:\n",
    "    a = int(input(\"Enter a number \"))\n",
    "    b = int(input(\"Enter second number \"))\n",
    "except ValueError:\n",
    "    print(\"Input a number, not character\")\n",
    "else:\n",
    "    print(a)\n",
    "    print(b)\n",
    "    print(a + b)"
   ]
  },
  {
   "cell_type": "code",
   "execution_count": 26,
   "id": "0073353a-9a24-488f-beca-e04ecdbb38c4",
   "metadata": {},
   "outputs": [
    {
     "name": "stdout",
     "output_type": "stream",
     "text": [
      "Hello World How are you.\n",
      "World\n"
     ]
    }
   ],
   "source": [
    "# try...except...else....finally\n",
    "try:\n",
    "    fp = open(\"message.txt\", \"r\")\n",
    "    try:\n",
    "        data = fp.read()\n",
    "        result = data + \"World\"\n",
    "    except TypeError:\n",
    "        print(\"Carry out proper operation\")\n",
    "    else:\n",
    "        print(result)\n",
    "finally:\n",
    "    try:\n",
    "        fp.close()\n",
    "    except NameError:\n",
    "        pass "
   ]
  },
  {
   "cell_type": "code",
   "execution_count": null,
   "id": "52f09bd7-75f1-4731-971d-f15e61c692e5",
   "metadata": {},
   "outputs": [],
   "source": [
    "# 1. At first \"try\" block is executed\n",
    "# 2. If error occurs from the \"try\" block then \"except\" block is executed\n",
    "# 3. If exception doesn't occur in the \"try\" block then \"else\" block is executed\n",
    "# 4. \"finally\" block is always executed (whether the error occurs or not)"
   ]
  }
 ],
 "metadata": {
  "kernelspec": {
   "display_name": "Python 3 (ipykernel)",
   "language": "python",
   "name": "python3"
  },
  "language_info": {
   "codemirror_mode": {
    "name": "ipython",
    "version": 3
   },
   "file_extension": ".py",
   "mimetype": "text/x-python",
   "name": "python",
   "nbconvert_exporter": "python",
   "pygments_lexer": "ipython3",
   "version": "3.11.4"
  }
 },
 "nbformat": 4,
 "nbformat_minor": 5
}
