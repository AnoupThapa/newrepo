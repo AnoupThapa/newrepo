{
 "cells": [
  {
   "cell_type": "code",
   "execution_count": 2,
   "id": "c327284b-eba3-4ac7-bcd0-147801e5edba",
   "metadata": {},
   "outputs": [],
   "source": [
    "#Take two numbers input and divide a number by another number. Handle the possible exceptions."
   ]
  },
  {
   "cell_type": "code",
   "execution_count": 5,
   "id": "4c65ca74-efd8-4556-93c8-883a08c6d5c4",
   "metadata": {},
   "outputs": [
    {
     "name": "stdin",
     "output_type": "stream",
     "text": [
      "Enter Num 1 1\n",
      "Enter num2 2\n"
     ]
    },
    {
     "name": "stdout",
     "output_type": "stream",
     "text": [
      "0.5\n"
     ]
    }
   ],
   "source": [
    "try:\n",
    "    num1= int(input(\"Enter Num 1\"))\n",
    "    num2 = int(input(\"Enter num2\"))\n",
    "    result = num1/num2\n",
    "except ValueError:\n",
    "    print(\"Enter the result\")\n",
    "except ZeroDivisionError:\n",
    "    print(\"Do not divide by Zero\")\n",
    "\n",
    "else:\n",
    "    print(result)"
   ]
  },
  {
   "cell_type": "code",
   "execution_count": null,
   "id": "05ee7464-51ab-4926-b17e-d560a632c229",
   "metadata": {},
   "outputs": [],
   "source": []
  }
 ],
 "metadata": {
  "kernelspec": {
   "display_name": "Python 3 (ipykernel)",
   "language": "python",
   "name": "python3"
  },
  "language_info": {
   "codemirror_mode": {
    "name": "ipython",
    "version": 3
   },
   "file_extension": ".py",
   "mimetype": "text/x-python",
   "name": "python",
   "nbconvert_exporter": "python",
   "pygments_lexer": "ipython3",
   "version": "3.11.4"
  }
 },
 "nbformat": 4,
 "nbformat_minor": 5
}
