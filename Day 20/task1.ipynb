{
 "cells": [
  {
   "cell_type": "code",
   "execution_count": 3,
   "id": "bd4e27cf-f182-4f32-a676-086b0637ff32",
   "metadata": {},
   "outputs": [],
   "source": [
    "#Take two numbers as input and add those numbers. Handle the possible exceptions.\n"
   ]
  },
  {
   "cell_type": "code",
   "execution_count": 9,
   "id": "0761e0ee-c89c-40d8-8d3b-ec6c87e555fd",
   "metadata": {},
   "outputs": [
    {
     "name": "stdin",
     "output_type": "stream",
     "text": [
      "Enter number 1  1\n",
      "Enter number 2  2\n",
      "Enter number3 3\n"
     ]
    },
    {
     "name": "stdout",
     "output_type": "stream",
     "text": [
      "6\n"
     ]
    }
   ],
   "source": [
    "try:\n",
    "    num1 = int(input(\"Enter number 1 \"))\n",
    "    num2 = int(input(\"Enter number 2 \"))\n",
    "    num3= int(input(\"Enter number3\"))\n",
    "    result = num1 + num2 + num3\n",
    "except ValueError:\n",
    "    print(\"Please enter valid number\")\n",
    "else:\n",
    "    print(result)"
   ]
  },
  {
   "cell_type": "code",
   "execution_count": null,
   "id": "dc668435-6aec-46a1-b1b9-cebd3ecc5711",
   "metadata": {},
   "outputs": [],
   "source": [
    "2"
   ]
  }
 ],
 "metadata": {
  "kernelspec": {
   "display_name": "Python 3 (ipykernel)",
   "language": "python",
   "name": "python3"
  },
  "language_info": {
   "codemirror_mode": {
    "name": "ipython",
    "version": 3
   },
   "file_extension": ".py",
   "mimetype": "text/x-python",
   "name": "python",
   "nbconvert_exporter": "python",
   "pygments_lexer": "ipython3",
   "version": "3.11.4"
  }
 },
 "nbformat": 4,
 "nbformat_minor": 5
}
