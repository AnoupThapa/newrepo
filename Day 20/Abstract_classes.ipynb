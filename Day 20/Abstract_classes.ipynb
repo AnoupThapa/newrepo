{
 "cells": [
  {
   "cell_type": "code",
   "execution_count": 1,
   "id": "7ba4300f-8de1-44e5-a052-f3aa4667779a",
   "metadata": {},
   "outputs": [],
   "source": [
    "# Abstract Classes are those classes which can't be instantiated\n",
    "# We can't create object of an abstract class\n",
    "# These classes or only meant for the inheritance purpose"
   ]
  },
  {
   "cell_type": "code",
   "execution_count": 7,
   "id": "b6c73da7-8bdf-41d5-8fb7-eb9672f99a6e",
   "metadata": {},
   "outputs": [
    {
     "name": "stdout",
     "output_type": "stream",
     "text": [
      "I sleep at night\n",
      "I moo!!\n"
     ]
    }
   ],
   "source": [
    "from abc import ABC, abstractmethod\n",
    "\n",
    "class Animal(ABC):\n",
    "    @staticmethod\n",
    "    def sleep():\n",
    "        return \"I sleep at night\"\n",
    "\n",
    "    @abstractmethod\n",
    "    def sound(self):\n",
    "        pass\n",
    "\n",
    "class Cow(Animal):\n",
    "    def sound(self):\n",
    "        return \"I moo!!\"\n",
    "\n",
    "c= Cow()\n",
    "print(c.sleep())\n",
    "print(c.sound())\n",
    "        "
   ]
  },
  {
   "cell_type": "code",
   "execution_count": 6,
   "id": "292df0f8-50ae-410b-9e57-294605199995",
   "metadata": {},
   "outputs": [
    {
     "name": "stdout",
     "output_type": "stream",
     "text": [
      "I bark !!\n"
     ]
    }
   ],
   "source": [
    "class Dog(Animal):\n",
    "    def sound(self):\n",
    "        return \"I bark !!\"\n",
    "\n",
    "d= Dog()\n",
    "print(d.sound())\n"
   ]
  },
  {
   "cell_type": "code",
   "execution_count": null,
   "id": "3e645ea0-dcf0-4bf6-ac4b-234af38710b2",
   "metadata": {},
   "outputs": [],
   "source": []
  }
 ],
 "metadata": {
  "kernelspec": {
   "display_name": "Python 3 (ipykernel)",
   "language": "python",
   "name": "python3"
  },
  "language_info": {
   "codemirror_mode": {
    "name": "ipython",
    "version": 3
   },
   "file_extension": ".py",
   "mimetype": "text/x-python",
   "name": "python",
   "nbconvert_exporter": "python",
   "pygments_lexer": "ipython3",
   "version": "3.11.4"
  }
 },
 "nbformat": 4,
 "nbformat_minor": 5
}
