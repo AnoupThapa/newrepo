{
 "cells": [
  {
   "cell_type": "code",
   "execution_count": 4,
   "id": "50362fdc-7d14-471e-8b60-754536de1862",
   "metadata": {},
   "outputs": [
    {
     "name": "stdin",
     "output_type": "stream",
     "text": [
      "Enter the radius 2\n"
     ]
    },
    {
     "name": "stdout",
     "output_type": "stream",
     "text": [
      "12.566370614359172\n"
     ]
    }
   ],
   "source": [
    "from math import pi\n",
    "radius= float(input(\"Enter the radius\"))\n",
    "area = pi*radius**2\n",
    "print(area)\n"
   ]
  },
  {
   "cell_type": "code",
   "execution_count": 18,
   "id": "c26f8cd7-3e4f-448c-b0c9-65a83c32c4e9",
   "metadata": {},
   "outputs": [
    {
     "name": "stdin",
     "output_type": "stream",
     "text": [
      "Pick number 2\n"
     ]
    },
    {
     "name": "stdout",
     "output_type": "stream",
     "text": [
      "[picked] is repeated 2 times\n"
     ]
    }
   ],
   "source": [
    "data = [5,2,3,5,3,2,3,3,1,4]\n",
    "picked = int(input(\"Pick number\"))\n",
    "result = data.count(picked)\n",
    "print(f\"[picked] is repeated {result} times\")"
   ]
  },
  {
   "cell_type": "code",
   "execution_count": null,
   "id": "760ad51e-84fb-48b1-9cca-61e0da6625a3",
   "metadata": {},
   "outputs": [],
   "source": []
  }
 ],
 "metadata": {
  "kernelspec": {
   "display_name": "Python 3 (ipykernel)",
   "language": "python",
   "name": "python3"
  },
  "language_info": {
   "codemirror_mode": {
    "name": "ipython",
    "version": 3
   },
   "file_extension": ".py",
   "mimetype": "text/x-python",
   "name": "python",
   "nbconvert_exporter": "python",
   "pygments_lexer": "ipython3",
   "version": "3.11.4"
  }
 },
 "nbformat": 4,
 "nbformat_minor": 5
}
