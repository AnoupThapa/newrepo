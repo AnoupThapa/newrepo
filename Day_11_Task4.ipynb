{
 "cells": [
  {
   "cell_type": "code",
   "execution_count": 1,
   "id": "2d03cfab-c182-4cae-998c-8c2f9745dae8",
   "metadata": {},
   "outputs": [
    {
     "name": "stdin",
     "output_type": "stream",
     "text": [
      "Enter total hours worked  30\n",
      "Enter rate per hour  10\n"
     ]
    },
    {
     "name": "stdout",
     "output_type": "stream",
     "text": [
      "Total pay is 300.0\n"
     ]
    }
   ],
   "source": [
    "\"\"\"\n",
    "WAP to prompt the user for hours and rate per hour using input to compute gross pay. Pay the hourly rate for the hours up to 40 and 1.5 times the hourly rate for all hours worked above 40 hours.\n",
    "Use 45 hours and a rate of 10.50 per hour to test the program (the pay should be 498.75). You should use input to read a string and float() to convert the string to a number.\n",
    "\n",
    "\n",
    "\"\"\"\n",
    "\n",
    "total_hours = int(input(\"Enter total hours worked \"))\n",
    "rate = float(input(\"Enter rate per hour \"))\n",
    "if total_hours <= 40:\n",
    "    total_pay = total_hours * rate\n",
    "else:\n",
    "    normal_pay = 40 * rate\n",
    "    ot_pay = (total_hours - 40) * rate * 1.5\n",
    "    total_pay = normal_pay + ot_pay\n",
    "print(f\"Total pay is {total_pay}\")"
   ]
  },
  {
   "cell_type": "code",
   "execution_count": null,
   "id": "ca6fc5ae-dde3-4ea8-ad07-bc6a18386e4b",
   "metadata": {},
   "outputs": [],
   "source": []
  }
 ],
 "metadata": {
  "kernelspec": {
   "display_name": "Python 3 (ipykernel)",
   "language": "python",
   "name": "python3"
  },
  "language_info": {
   "codemirror_mode": {
    "name": "ipython",
    "version": 3
   },
   "file_extension": ".py",
   "mimetype": "text/x-python",
   "name": "python",
   "nbconvert_exporter": "python",
   "pygments_lexer": "ipython3",
   "version": "3.11.4"
  }
 },
 "nbformat": 4,
 "nbformat_minor": 5
}
