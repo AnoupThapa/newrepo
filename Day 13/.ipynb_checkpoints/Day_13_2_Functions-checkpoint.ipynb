{
 "cells": [
  {
   "cell_type": "code",
   "execution_count": 1,
   "id": "217e52ef-7c28-4716-bc80-8cad93e925c0",
   "metadata": {},
   "outputs": [],
   "source": [
    "# Functions are the block of reusable codes\n",
    "# If the same logic is repeated at multiple places in your program then they can be created as a function\n",
    "# Functions in python are created using 'def' keyword"
   ]
  },
  {
   "cell_type": "code",
   "execution_count": 2,
   "id": "8acbe57c-7e53-4742-8f04-1ade9a3eb9cd",
   "metadata": {},
   "outputs": [],
   "source": [
    "# Funtion can be of different variations:\n",
    "# 1. Without Argument Without Return\n",
    "def message():\n",
    "    print(\"Hello World\")"
   ]
  },
  {
   "cell_type": "code",
   "execution_count": 4,
   "id": "f8ff802a-2580-4083-98fe-b09c210b56a2",
   "metadata": {},
   "outputs": [
    {
     "name": "stdout",
     "output_type": "stream",
     "text": [
      "5\n",
      "None\n"
     ]
    }
   ],
   "source": [
    "# 2. With Argument But Without Return\n",
    "def addition(a, b):\n",
    "    print(a + b)\n",
    "\n",
    "result = addition(2, 3)\n",
    "print(result)"
   ]
  },
  {
   "cell_type": "code",
   "execution_count": 6,
   "id": "903431b4-9c20-45b8-b112-b76ea521a6b8",
   "metadata": {},
   "outputs": [],
   "source": [
    "# 3. With Argument With Return\n",
    "def add(a, b):\n",
    "    return a + b"
   ]
  },
  {
   "cell_type": "code",
   "execution_count": 7,
   "id": "a644ef38-3705-4e62-aaaa-b4de45627cd3",
   "metadata": {},
   "outputs": [
    {
     "name": "stdout",
     "output_type": "stream",
     "text": [
      "Hello World\n"
     ]
    }
   ],
   "source": [
    "# 4. Without argument with return\n",
    "def message():\n",
    "    return \"Hello World\"\n",
    "\n",
    "result = message()\n",
    "print(result)  # Hello World"
   ]
  },
  {
   "cell_type": "code",
   "execution_count": null,
   "id": "453436b8-0a79-41ae-937e-243bb2d2f4b8",
   "metadata": {},
   "outputs": [],
   "source": []
  }
 ],
 "metadata": {
  "kernelspec": {
   "display_name": "Python 3 (ipykernel)",
   "language": "python",
   "name": "python3"
  },
  "language_info": {
   "codemirror_mode": {
    "name": "ipython",
    "version": 3
   },
   "file_extension": ".py",
   "mimetype": "text/x-python",
   "name": "python",
   "nbconvert_exporter": "python",
   "pygments_lexer": "ipython3",
   "version": "3.11.4"
  }
 },
 "nbformat": 4,
 "nbformat_minor": 5
}
