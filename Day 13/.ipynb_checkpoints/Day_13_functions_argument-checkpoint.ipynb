{
 "cells": [
  {
   "cell_type": "code",
   "execution_count": 1,
   "id": "547a3b85-3d16-4795-9d1c-02f8bb47aa77",
   "metadata": {},
   "outputs": [],
   "source": [
    "# There are three types of arguments in python function\n",
    "#1. Positional Arguments\n",
    "#2. Default Arguments\n",
    "#3 Arbitrary Arguments"
   ]
  },
  {
   "cell_type": "code",
   "execution_count": 4,
   "id": "90f0356f-f545-4dc8-af74-699ede443ff5",
   "metadata": {},
   "outputs": [
    {
     "name": "stdout",
     "output_type": "stream",
     "text": [
      "5\n"
     ]
    }
   ],
   "source": [
    "#1. Positional Arguments\n",
    "#These are the required arguments in a function\n",
    "#values for them most be passed as parameters during function cell.\n",
    "def addition(a,b): #here a and b are positional argument\n",
    "    return a+b\n",
    "r = addition(3,2)\n",
    "print(r)\n",
    "    "
   ]
  },
  {
   "cell_type": "code",
   "execution_count": 3,
   "id": "0cfac179-b5aa-4fe3-81c6-57d85e0629a2",
   "metadata": {},
   "outputs": [
    {
     "name": "stdout",
     "output_type": "stream",
     "text": [
      "5\n",
      "5\n",
      "5\n"
     ]
    }
   ],
   "source": [
    "#2. Default Arguments\n",
    "def addition (a,b):\n",
    "    return a+b\n",
    "r= addition(a=3,b=2)\n",
    "print(r)\n",
    "\n",
    "r = addition(3,2)\n",
    "print(r)\n",
    "\n",
    "r = addition (a=3,b=2)\n",
    "print(r)"
   ]
  },
  {
   "cell_type": "raw",
   "id": "6990d344-0903-4a68-83f3-a41014405025",
   "metadata": {},
   "source": [
    "def addition(a,b):\n",
    "    return a+b\n",
    "r = addition(3,2)\n",
    "print(r) #15\n"
   ]
  },
  {
   "cell_type": "code",
   "execution_count": null,
   "id": "8c5fa1b2-1164-4383-8595-b9637fdd009c",
   "metadata": {},
   "outputs": [],
   "source": []
  }
 ],
 "metadata": {
  "kernelspec": {
   "display_name": "Python 3 (ipykernel)",
   "language": "python",
   "name": "python3"
  },
  "language_info": {
   "codemirror_mode": {
    "name": "ipython",
    "version": 3
   },
   "file_extension": ".py",
   "mimetype": "text/x-python",
   "name": "python",
   "nbconvert_exporter": "python",
   "pygments_lexer": "ipython3",
   "version": "3.11.4"
  }
 },
 "nbformat": 4,
 "nbformat_minor": 5
}
