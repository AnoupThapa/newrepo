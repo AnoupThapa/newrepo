{
 "cells": [
  {
   "cell_type": "code",
   "execution_count": 1,
   "id": "c7cfd4a1-06e5-4229-a116-a5d40f1267c9",
   "metadata": {},
   "outputs": [],
   "source": [
    "# break, continue and pass are the special statements in Python that can interrupt the flow of loops\n",
    "# break and continue are used with loops (for or while) but pass can be used anywhere and not only in loops"
   ]
  },
  {
   "cell_type": "code",
   "execution_count": 2,
   "id": "8ca66158-db92-4a44-93fa-d8e48890f30d",
   "metadata": {},
   "outputs": [
    {
     "name": "stdout",
     "output_type": "stream",
     "text": [
      "0\n",
      "1\n",
      "2\n",
      "3\n",
      "4\n"
     ]
    }
   ],
   "source": [
    "# break\n",
    "for i in range(10):\n",
    "    if i == 5:\n",
    "        break\n",
    "    print(i)   # 0, 1, 2, 3, 4"
   ]
  },
  {
   "cell_type": "code",
   "execution_count": 3,
   "id": "1b68c3e7-2493-40dd-b671-11529fd94a15",
   "metadata": {},
   "outputs": [
    {
     "name": "stdout",
     "output_type": "stream",
     "text": [
      "0\n",
      "0\n",
      "1\n",
      "0\n",
      "1\n",
      "2\n",
      "0\n",
      "1\n",
      "2\n",
      "3\n",
      "0\n",
      "1\n",
      "2\n",
      "3\n",
      "4\n",
      "0\n",
      "1\n",
      "2\n",
      "3\n",
      "4\n",
      "0\n",
      "1\n",
      "2\n",
      "3\n",
      "4\n",
      "0\n",
      "1\n",
      "2\n",
      "3\n",
      "4\n",
      "0\n",
      "1\n",
      "2\n",
      "3\n",
      "4\n"
     ]
    }
   ],
   "source": [
    "for i in range(10):\n",
    "    for j in range(i):\n",
    "        if j == 5:\n",
    "            break\n",
    "        print(j)  #"
   ]
  },
  {
   "cell_type": "code",
   "execution_count": 4,
   "id": "7f86b200-203a-42a2-86b0-939f94642874",
   "metadata": {},
   "outputs": [
    {
     "name": "stdout",
     "output_type": "stream",
     "text": [
      "0\n",
      "1\n",
      "2\n",
      "3\n",
      "4\n",
      "5\n",
      "6\n",
      "7\n",
      "8\n",
      "9\n",
      "10\n"
     ]
    }
   ],
   "source": [
    "n = 0 \n",
    "while n <=10:\n",
    "    print(n)\n",
    "    n += 1"
   ]
  },
  {
   "cell_type": "code",
   "execution_count": 5,
   "id": "17b95bdf-f2a3-4eb8-8266-6a6f11ba611b",
   "metadata": {},
   "outputs": [
    {
     "name": "stdout",
     "output_type": "stream",
     "text": [
      "0\n",
      "1\n",
      "2\n",
      "3\n",
      "5\n",
      "6\n",
      "7\n",
      "8\n",
      "9\n"
     ]
    }
   ],
   "source": [
    "# continue\n",
    "# continue statement skips a step in loop\n",
    "for i in range(10):\n",
    "    if i == 4:\n",
    "        continue\n",
    "    print(i)   # 0, 1, 2, 3, 5, 6, 7, 8, 9\n"
   ]
  },
  {
   "cell_type": "code",
   "execution_count": 6,
   "id": "311e3ab6-110b-498a-90d7-a9f1e72e7c1d",
   "metadata": {},
   "outputs": [
    {
     "name": "stdout",
     "output_type": "stream",
     "text": [
      "1\n",
      "2\n",
      "3\n",
      "4\n",
      "6\n",
      "7\n",
      "8\n",
      "9\n",
      "10\n",
      "11\n"
     ]
    }
   ],
   "source": [
    "n = 0\n",
    "while n <= 10:\n",
    "    if n == 4:\n",
    "        n += 1\n",
    "        continue\n",
    "    n += 1\n",
    "    print(n)"
   ]
  },
  {
   "cell_type": "code",
   "execution_count": 7,
   "id": "176ecf11-5385-4bb8-a2ea-7cf3104b7d2e",
   "metadata": {},
   "outputs": [],
   "source": [
    "# pass\n",
    "# pass is used to make you code syntatically correct in the places where your logics can be added in future"
   ]
  },
  {
   "cell_type": "code",
   "execution_count": 9,
   "id": "6bbabb06-7e92-4b04-b59e-701d645410c4",
   "metadata": {},
   "outputs": [],
   "source": [
    "def addition(a,b):\n",
    "    pass\n",
    "    "
   ]
  },
  {
   "cell_type": "code",
   "execution_count": 10,
   "id": "385f6822-2e71-40f8-ace0-0313fbc596dd",
   "metadata": {},
   "outputs": [],
   "source": [
    "# TODO: Nabin Need to work in this logic\n",
    "class Student:\n",
    "    pass"
   ]
  },
  {
   "cell_type": "code",
   "execution_count": null,
   "id": "b8a88e01-786f-4658-a175-846e9b786e58",
   "metadata": {},
   "outputs": [],
   "source": []
  }
 ],
 "metadata": {
  "kernelspec": {
   "display_name": "Python 3 (ipykernel)",
   "language": "python",
   "name": "python3"
  },
  "language_info": {
   "codemirror_mode": {
    "name": "ipython",
    "version": 3
   },
   "file_extension": ".py",
   "mimetype": "text/x-python",
   "name": "python",
   "nbconvert_exporter": "python",
   "pygments_lexer": "ipython3",
   "version": "3.11.4"
  }
 },
 "nbformat": 4,
 "nbformat_minor": 5
}
