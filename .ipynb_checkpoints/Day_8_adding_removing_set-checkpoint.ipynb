{
 "cells": [
  {
   "cell_type": "code",
   "execution_count": 2,
   "id": "8f757d33-b055-485c-9d3a-225c219ad7dd",
   "metadata": {},
   "outputs": [
    {
     "name": "stdout",
     "output_type": "stream",
     "text": [
      "None\n",
      "{1, 2, 3, 4}\n"
     ]
    }
   ],
   "source": [
    "# we have different methods to add and remove items in a set.\n",
    "#add()\n",
    "s = {1,2,3}\n",
    "result=s.add(4)\n",
    "print(result) #name\n",
    "print(s) #{1,2,3,4}"
   ]
  },
  {
   "cell_type": "code",
   "execution_count": 3,
   "id": "cd58131e-dec6-4d6f-b324-9e008df80808",
   "metadata": {},
   "outputs": [
    {
     "name": "stdout",
     "output_type": "stream",
     "text": [
      "None\n",
      "{1, 2, 3, 4, 10}\n"
     ]
    }
   ],
   "source": [
    "result = s.add(10)\n",
    "print (result)\n",
    "print(s)"
   ]
  },
  {
   "cell_type": "code",
   "execution_count": 4,
   "id": "98b44744-617c-4f5b-8216-e17b70e8a993",
   "metadata": {},
   "outputs": [
    {
     "name": "stdout",
     "output_type": "stream",
     "text": [
      "None\n",
      "{1, 2, 3, 4}\n"
     ]
    }
   ],
   "source": [
    "result=s.remove(10)\n",
    "print (result)\n",
    "print(s)"
   ]
  },
  {
   "cell_type": "code",
   "execution_count": 7,
   "id": "7a532f51-4802-46f1-b7a7-99ba67824af2",
   "metadata": {},
   "outputs": [
    {
     "name": "stdout",
     "output_type": "stream",
     "text": [
      "None\n",
      "{1, 2, 3, 4, 50}\n"
     ]
    }
   ],
   "source": [
    "result = s.add(50)\n",
    "print(result)\n",
    "print(s)"
   ]
  },
  {
   "cell_type": "code",
   "execution_count": 8,
   "id": "4dce3c7a-518c-442e-95c1-95b1772020b8",
   "metadata": {},
   "outputs": [
    {
     "name": "stdout",
     "output_type": "stream",
     "text": [
      "{1, 2, 3, 4, 5, 6, 50}\n"
     ]
    }
   ],
   "source": [
    "#update()\n",
    "s.update([4,5,6])\n",
    "print(s) #[1,2,4,3,6,5}"
   ]
  },
  {
   "cell_type": "code",
   "execution_count": 10,
   "id": "5afb8ac9-058f-4402-b8cc-96804c097425",
   "metadata": {},
   "outputs": [
    {
     "name": "stdout",
     "output_type": "stream",
     "text": [
      "{1, 2, 3, 5, 6, 50}\n"
     ]
    }
   ],
   "source": [
    "#discard\n",
    "s.discard(4) #discard() takes element as an argument\n",
    "print(s) #{1,2,3,6,5}\n",
    "s.discard(10) #it doesnt raise error"
   ]
  },
  {
   "cell_type": "code",
   "execution_count": 11,
   "id": "413e90a0-efab-4d4a-bb69-4b1a1bb0ac79",
   "metadata": {},
   "outputs": [
    {
     "name": "stdout",
     "output_type": "stream",
     "text": [
      "{1, 2, 3, 6, 50}\n"
     ]
    },
    {
     "ename": "KeyError",
     "evalue": "10",
     "output_type": "error",
     "traceback": [
      "\u001b[1;31m---------------------------------------------------------------------------\u001b[0m",
      "\u001b[1;31mKeyError\u001b[0m                                  Traceback (most recent call last)",
      "Cell \u001b[1;32mIn[11], line 4\u001b[0m\n\u001b[0;32m      2\u001b[0m s\u001b[38;5;241m.\u001b[39mremove(\u001b[38;5;241m5\u001b[39m)\n\u001b[0;32m      3\u001b[0m \u001b[38;5;28mprint\u001b[39m(s) \u001b[38;5;66;03m#{1,2,3,6}\u001b[39;00m\n\u001b[1;32m----> 4\u001b[0m \u001b[43ms\u001b[49m\u001b[38;5;241;43m.\u001b[39;49m\u001b[43mremove\u001b[49m\u001b[43m(\u001b[49m\u001b[38;5;241;43m10\u001b[39;49m\u001b[43m)\u001b[49m \u001b[38;5;66;03m#it raises error\u001b[39;00m\n",
      "\u001b[1;31mKeyError\u001b[0m: 10"
     ]
    }
   ],
   "source": [
    "#remove()\n",
    "s.remove(5)\n",
    "print(s) #{1,2,3,6}\n",
    "s.remove(10) #it raises error"
   ]
  },
  {
   "cell_type": "code",
   "execution_count": 12,
   "id": "bb197b95-4817-4f70-acc1-51144a468630",
   "metadata": {},
   "outputs": [
    {
     "name": "stdout",
     "output_type": "stream",
     "text": [
      "{1, 2, 6, 50}\n"
     ]
    }
   ],
   "source": [
    "s.remove(3)\n",
    "print(s)\n",
    "s.remove(6)"
   ]
  },
  {
   "cell_type": "code",
   "execution_count": null,
   "id": "d7e5a3f8-69be-4738-9d8f-583b27a7cac1",
   "metadata": {},
   "outputs": [],
   "source": []
  }
 ],
 "metadata": {
  "kernelspec": {
   "display_name": "Python 3 (ipykernel)",
   "language": "python",
   "name": "python3"
  },
  "language_info": {
   "codemirror_mode": {
    "name": "ipython",
    "version": 3
   },
   "file_extension": ".py",
   "mimetype": "text/x-python",
   "name": "python",
   "nbconvert_exporter": "python",
   "pygments_lexer": "ipython3",
   "version": "3.11.4"
  }
 },
 "nbformat": 4,
 "nbformat_minor": 5
}
