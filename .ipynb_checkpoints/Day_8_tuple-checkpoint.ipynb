{
 "cells": [
  {
   "cell_type": "code",
   "execution_count": 1,
   "id": "b726621a-11c8-437b-be9a-169236d530ca",
   "metadata": {},
   "outputs": [],
   "source": [
    "#Tuple is an immutable datatype in puthon\n",
    "#Tuple can take different datatypes regardless they are mutable or immutable\n",
    "#Indexing and Slicing in tuple is same as that of List\n",
    "#Tuple elements are enlcosed with parenthesis i.e () "
   ]
  },
  {
   "cell_type": "code",
   "execution_count": 2,
   "id": "6bdfe2b7-0025-4bbf-abd4-16a3495f600e",
   "metadata": {},
   "outputs": [],
   "source": [
    "#creating an empty tuple\n",
    "t=tuple()\n",
    "t=()"
   ]
  },
  {
   "cell_type": "code",
   "execution_count": 4,
   "id": "53eb436a-116e-4332-8f1d-9cb36654f2d1",
   "metadata": {},
   "outputs": [
    {
     "name": "stdout",
     "output_type": "stream",
     "text": [
      "(1, 1.1, [1, 2, 3])\n"
     ]
    }
   ],
   "source": [
    "#creating non-empty tuple\n",
    "t = (1,1.1,[1,2,3])\n",
    "print(t)"
   ]
  },
  {
   "cell_type": "code",
   "execution_count": 5,
   "id": "0c9129a5-08f4-4061-8c2a-689542c7dbbd",
   "metadata": {},
   "outputs": [
    {
     "name": "stdout",
     "output_type": "stream",
     "text": [
      "a\n",
      "u\n",
      "u\n",
      "i\n"
     ]
    },
    {
     "ename": "IndexError",
     "evalue": "tuple index out of range",
     "output_type": "error",
     "traceback": [
      "\u001b[1;31m---------------------------------------------------------------------------\u001b[0m",
      "\u001b[1;31mIndexError\u001b[0m                                Traceback (most recent call last)",
      "Cell \u001b[1;32mIn[5], line 8\u001b[0m\n\u001b[0;32m      6\u001b[0m \u001b[38;5;28mprint\u001b[39m(vowels[\u001b[38;5;241m-\u001b[39m\u001b[38;5;241m1\u001b[39m])\n\u001b[0;32m      7\u001b[0m \u001b[38;5;28mprint\u001b[39m(vowels[\u001b[38;5;241m-\u001b[39m\u001b[38;5;241m3\u001b[39m])\n\u001b[1;32m----> 8\u001b[0m \u001b[38;5;28mprint\u001b[39m(\u001b[43mvowels\u001b[49m\u001b[43m[\u001b[49m\u001b[38;5;241;43m-\u001b[39;49m\u001b[38;5;241;43m10\u001b[39;49m\u001b[43m]\u001b[49m)\n\u001b[0;32m      9\u001b[0m \u001b[38;5;28mprint\u001b[39m(vowels[\u001b[38;5;241m-\u001b[39m\u001b[38;5;241m20\u001b[39m])\n",
      "\u001b[1;31mIndexError\u001b[0m: tuple index out of range"
     ]
    }
   ],
   "source": [
    "####Accessing the tuple Elements #####\n",
    "#Tuple elements are accessed using indexing and slicing\n",
    "vowels = (\"a\",\"e\",\"i\",\"o\",\"u\")\n",
    "print(vowels[0]) #a\n",
    "print(vowels[4]) #u\n",
    "print(vowels[-1]) #u\n",
    "print(vowels[-3]) #i\n",
    "print(vowels[-10])#out of range error\n",
    "print(vowels[-20]) #out of range error\n"
   ]
  },
  {
   "cell_type": "code",
   "execution_count": 11,
   "id": "770dfb03-003b-4ff0-ad20-3f6100575b92",
   "metadata": {},
   "outputs": [
    {
     "name": "stdout",
     "output_type": "stream",
     "text": [
      "('a', 'b', 'c', 'd', 'e', 'f', 'g')\n",
      "('a', 'b', 'c', 'd', 'e')\n",
      "('g', 'h', 'i', 'j')\n",
      "('d', 'e', 'f', 'g', 'h')\n",
      "()\n",
      "('g', 'h')\n",
      "('c', 'd', 'e', 'f', 'g')\n",
      "('b', 'c', 'd', 'e', 'f', 'g', 'h')\n",
      "()\n",
      "('c', 'e', 'g')\n",
      "('b', 'd', 'f', 'h')\n"
     ]
    }
   ],
   "source": [
    "data = (\"a\",\"b\",\"c\",\"d\",\"e\",\"f\",\"g\",\"h\",\"i\",\"j\",)\n",
    "print(data[0:7]) #('a', 'b', 'c', 'd', 'e', 'f', 'g')\n",
    "print(data[:5]) #('a', 'b', 'c', 'd', 'e')\n",
    "print(data[6:]) #('g', 'h', 'i', 'j', 'k', 'l')\n",
    "print(data[3:8]) # ('d', 'e', 'f', 'g', 'h')\n",
    "print(data[6:2]) #() \n",
    "print(data[6:-2]) # ('g', 'h')\n",
    "print(data[-8:-3]) #('c', 'd', 'e', 'f', 'g')\n",
    "print(data[-9:8]) # ('b', 'c', 'd', 'e', 'f', 'g', 'h')\n",
    "print(data[-3:-7]) #()\n",
    "print(data[2:8:2]) #('c', 'e', 'g')\n",
    "print(data[-9:-2:2]) #('b', 'd', 'f', 'h')"
   ]
  },
  {
   "cell_type": "code",
   "execution_count": null,
   "id": "fd3e41d9-0eac-41d7-91c6-fe8aaeb27db3",
   "metadata": {},
   "outputs": [],
   "source": []
  }
 ],
 "metadata": {
  "kernelspec": {
   "display_name": "Python 3 (ipykernel)",
   "language": "python",
   "name": "python3"
  },
  "language_info": {
   "codemirror_mode": {
    "name": "ipython",
    "version": 3
   },
   "file_extension": ".py",
   "mimetype": "text/x-python",
   "name": "python",
   "nbconvert_exporter": "python",
   "pygments_lexer": "ipython3",
   "version": "3.11.4"
  }
 },
 "nbformat": 4,
 "nbformat_minor": 5
}
