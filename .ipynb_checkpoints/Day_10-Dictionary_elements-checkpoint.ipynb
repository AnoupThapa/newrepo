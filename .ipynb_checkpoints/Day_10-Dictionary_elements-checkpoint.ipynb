{
 "cells": [
  {
   "cell_type": "code",
   "execution_count": 4,
   "id": "be50e923-e8a9-4ab3-8f15-4ec8f17d9cf8",
   "metadata": {},
   "outputs": [
    {
     "name": "stdout",
     "output_type": "stream",
     "text": [
      "30\n",
      "{'name': 'Jon', 'address': 'KTM'}\n"
     ]
    }
   ],
   "source": [
    "#removing elements from a dictionary\n",
    "student={\"name\":\"Jon\", \"age\":30, \"address\":\"KTM\"}\n",
    "#pop()\n",
    "#It takes key as an argument\n",
    "result = student.pop(\"age\")\n",
    "print(result) #30\n",
    "print(student)"
   ]
  },
  {
   "cell_type": "raw",
   "id": "36b88f89-ac0f-4526-8073-f2a7fcd5422f",
   "metadata": {},
   "source": [
    "result = student.pop(\"phone\") #it raises Keyerror as \"phone\" is not present in the dict"
   ]
  },
  {
   "cell_type": "code",
   "execution_count": 8,
   "id": "b996cc61-1b07-44b4-8a5b-70aec29218da",
   "metadata": {},
   "outputs": [
    {
     "name": "stdout",
     "output_type": "stream",
     "text": [
      "30\n"
     ]
    }
   ],
   "source": [
    "#popitem()\n",
    "student={\"name\":\"Jon\", \"age\":30, \"address\":\"KTM\"}\n",
    "student.popitem()\n",
    "print(result) #(\"address\",\"KTM\")"
   ]
  },
  {
   "cell_type": "code",
   "execution_count": 9,
   "id": "1ec4e169-e61c-4fbb-8fb6-245d9133f49c",
   "metadata": {},
   "outputs": [
    {
     "name": "stdout",
     "output_type": "stream",
     "text": [
      "{'name': 'Jon', 'age': 30}\n"
     ]
    }
   ],
   "source": [
    "print(student)"
   ]
  },
  {
   "cell_type": "code",
   "execution_count": 10,
   "id": "11b023e8-9787-46cb-b425-b2c5cc402193",
   "metadata": {},
   "outputs": [
    {
     "name": "stdout",
     "output_type": "stream",
     "text": [
      "{}\n"
     ]
    }
   ],
   "source": [
    "#Clear()\n",
    "student={\"name\":\"Jon\", \"age\":30, \"address\":\"KTM\"}\n",
    "student.clear()\n",
    "print(student)"
   ]
  },
  {
   "cell_type": "code",
   "execution_count": 15,
   "id": "af915b54-15cb-47fa-9d6c-87180b1be8e7",
   "metadata": {},
   "outputs": [
    {
     "ename": "NameError",
     "evalue": "name 'student' is not defined",
     "output_type": "error",
     "traceback": [
      "\u001b[1;31m---------------------------------------------------------------------------\u001b[0m",
      "\u001b[1;31mNameError\u001b[0m                                 Traceback (most recent call last)",
      "Cell \u001b[1;32mIn[15], line 3\u001b[0m\n\u001b[0;32m      1\u001b[0m student\u001b[38;5;241m=\u001b[39m{\u001b[38;5;124m\"\u001b[39m\u001b[38;5;124mname\u001b[39m\u001b[38;5;124m\"\u001b[39m:\u001b[38;5;124m\"\u001b[39m\u001b[38;5;124mJon\u001b[39m\u001b[38;5;124m\"\u001b[39m, \u001b[38;5;124m\"\u001b[39m\u001b[38;5;124mage\u001b[39m\u001b[38;5;124m\"\u001b[39m:\u001b[38;5;241m30\u001b[39m, \u001b[38;5;124m\"\u001b[39m\u001b[38;5;124maddress\u001b[39m\u001b[38;5;124m\"\u001b[39m:\u001b[38;5;124m\"\u001b[39m\u001b[38;5;124mKTM\u001b[39m\u001b[38;5;124m\"\u001b[39m}\n\u001b[0;32m      2\u001b[0m \u001b[38;5;28;01mdel\u001b[39;00m student\n\u001b[1;32m----> 3\u001b[0m \u001b[38;5;28mprint\u001b[39m(\u001b[43mstudent\u001b[49m) \u001b[38;5;66;03m#It raises nameerror\u001b[39;00m\n",
      "\u001b[1;31mNameError\u001b[0m: name 'student' is not defined"
     ]
    }
   ],
   "source": [
    "student={\"name\":\"Jon\", \"age\":30, \"address\":\"KTM\"}\n",
    "del student\n",
    "print(student) #It raises nameerror"
   ]
  },
  {
   "cell_type": "code",
   "execution_count": 30,
   "id": "c63a881f-825c-4ff2-9a7a-768cdd8d59e0",
   "metadata": {},
   "outputs": [
    {
     "name": "stdout",
     "output_type": "stream",
     "text": [
      "[1, 2, 3]\n",
      "[1, 2, 3]\n"
     ]
    },
    {
     "data": {
      "text/plain": [
       "True"
      ]
     },
     "execution_count": 30,
     "metadata": {},
     "output_type": "execute_result"
    }
   ],
   "source": [
    "#copy()\n",
    "a = [1,2,3]\n",
    "b=a\n",
    "print(a)\n",
    "print(b)\n",
    "a is b"
   ]
  },
  {
   "cell_type": "code",
   "execution_count": 29,
   "id": "ca1c2c61-3b6c-4f06-89d9-8c669442961a",
   "metadata": {},
   "outputs": [
    {
     "name": "stdout",
     "output_type": "stream",
     "text": [
      "[1, 2, 3]\n",
      "[1, 2, 3]\n",
      "False\n"
     ]
    }
   ],
   "source": [
    "b = a.copy()\n",
    "print(a)\n",
    "print(b)\n",
    "print(a is b) #False. 'a' and 'b' are two different objects"
   ]
  },
  {
   "cell_type": "code",
   "execution_count": 35,
   "id": "8068bcae-5449-4af7-a30e-0c70796ca850",
   "metadata": {},
   "outputs": [
    {
     "name": "stdout",
     "output_type": "stream",
     "text": [
      "[[1, 7, 3], 4]\n",
      "[[1, 7, 3], 4]\n"
     ]
    }
   ],
   "source": [
    "a=[[1,2,3],4]\n",
    "b = a.copy()\n",
    "a[0][1]=7\n",
    "print(a)\n",
    "print(b) #Here 'b' is a shallow copy of 'a'. Mutuable objects are still the same object in both 'a' and 'b' in \n",
    "#shallow copy\n"
   ]
  },
  {
   "cell_type": "code",
   "execution_count": 34,
   "id": "b31f0b82-15b7-46df-8001-aec2471c367e",
   "metadata": {},
   "outputs": [
    {
     "name": "stdout",
     "output_type": "stream",
     "text": [
      "[[1, 7, 3], 4]\n",
      "[[1, 7, 3], 4]\n"
     ]
    }
   ],
   "source": [
    "#we can overcome this using deepcopy\n",
    "from copy import deepcopy\n",
    "a=[[1,2,3],4]\n",
    "a[0][1]=7\n",
    "print(a)\n",
    "print(b)"
   ]
  },
  {
   "cell_type": "code",
   "execution_count": 2,
   "id": "af185193-c32d-4a2b-be22-e5a1c4b060f4",
   "metadata": {},
   "outputs": [
    {
     "name": "stdout",
     "output_type": "stream",
     "text": [
      "{'name': 'Jon', 'age': 30, 'address': 'KTM'}\n",
      "{'name': 'Jon', 'age': 30, 'address': 'KTM'}\n"
     ]
    }
   ],
   "source": [
    "#Dictionary_methods\n",
    "#copy()\n",
    "student={\"name\":\"Jon\", \"age\":30, \"address\":\"KTM\"}\n",
    "student1=student.copy()\n",
    "print(student)\n",
    "print(student1)"
   ]
  },
  {
   "cell_type": "code",
   "execution_count": 19,
   "id": "1b220722-f9ec-4ea1-9e0e-abf9ed05ac98",
   "metadata": {},
   "outputs": [
    {
     "name": "stdout",
     "output_type": "stream",
     "text": [
      "Jon\n",
      "None\n",
      "9841302398\n",
      "Jon\n"
     ]
    }
   ],
   "source": [
    "#get()\n",
    "student={\"name\":\"Jon\", \"age\":30, \"address\":\"KTM\"}\n",
    "name = student.get(\"name\")\n",
    "print(name) #Jon'\n",
    "phone = student.get(name) #Jon\n",
    "print(phone) #none\n",
    "phone = student.get(\"phone\",9841302398)\n",
    "print(phone)        #984130238\n",
    "name = student.get(\"name\",\"Jane\")\n",
    "print(name) #Jon"
   ]
  },
  {
   "cell_type": "code",
   "execution_count": 21,
   "id": "fe4b8956-ad97-44f2-9be3-cea945c4e541",
   "metadata": {},
   "outputs": [
    {
     "name": "stdout",
     "output_type": "stream",
     "text": [
      "dict_keys(['name', 'age', 'address'])\n"
     ]
    }
   ],
   "source": [
    "#keys\n",
    "student={\"name\":\"Jon\", \"age\":30, \"address\":\"KTM\"}\n",
    "keys = student.keys()\n",
    "print(keys) #dict_keys(['name', 'age', 'address'])"
   ]
  },
  {
   "cell_type": "code",
   "execution_count": 23,
   "id": "c8817088-5344-4245-aa91-417b3b863591",
   "metadata": {},
   "outputs": [
    {
     "name": "stdout",
     "output_type": "stream",
     "text": [
      "dict_values(['Jon', 30, 'KTM'])\n"
     ]
    }
   ],
   "source": [
    "# Dictionary values()\n",
    "student={\"name\":\"Jon\", \"age\":30, \"address\":\"KTM\"}\n",
    "values=student.values()\n",
    "print(values) #dict_values(['Jon', 30, 'KTM'])"
   ]
  },
  {
   "cell_type": "code",
   "execution_count": 30,
   "id": "718f0766-e584-43ba-addd-088a0fe9c6c9",
   "metadata": {},
   "outputs": [
    {
     "name": "stdout",
     "output_type": "stream",
     "text": [
      "dict_items([('name', 'Jon'), ('age', 30), ('address', 'KTM')])\n",
      "name\n"
     ]
    }
   ],
   "source": [
    "#Items()\n",
    "items=student.items()\n",
    "print(items) #dict_items([('name', 'Jon'), ('age', 30), ('address', 'KTM')])\n",
    "items= list(student.items())\n",
    "key,value = items[0]\n",
    "print(key)\n"
   ]
  },
  {
   "cell_type": "code",
   "execution_count": 31,
   "id": "1a38eb06-c1c5-4c3c-a809-41e9de02e378",
   "metadata": {},
   "outputs": [
    {
     "data": {
      "text/plain": [
       "'Jon'"
      ]
     },
     "execution_count": 31,
     "metadata": {},
     "output_type": "execute_result"
    }
   ],
   "source": [
    "keys = items[0][0]\n",
    "value "
   ]
  },
  {
   "cell_type": "code",
   "execution_count": 36,
   "id": "b9605bee-cf24-458d-9951-2333d670f357",
   "metadata": {},
   "outputs": [
    {
     "name": "stdout",
     "output_type": "stream",
     "text": [
      "{1: 'Hello', 2: 'Hello'}\n",
      "{1: None, 2: None}\n"
     ]
    }
   ],
   "source": [
    "#fromkeys()\n",
    "y ={}\n",
    "result = y.fromkeys([1,2],\"Hello\")\n",
    "print(result)\n",
    "result = y.fromkeys([1,2])\n",
    "print(result)"
   ]
  },
  {
   "cell_type": "code",
   "execution_count": 43,
   "id": "b0833864-1851-4831-9722-edb048aa31eb",
   "metadata": {},
   "outputs": [
    {
     "name": "stdout",
     "output_type": "stream",
     "text": [
      "{'name': 'Jon', 'age': 30, 'address': 'KTM', 'phone': 9841302398}\n",
      "{'name': 'Jon', 'age': 30, 'address': 'KTM', 'phone': 9841302398}\n"
     ]
    }
   ],
   "source": [
    "#setdefault\n",
    "student={\"name\":\"Jon\", \"age\":30, \"address\":\"KTM\"}\n",
    "student.setdefault(\"phone\",9841302398)\n",
    "print(student)\n",
    "student.setdefault(\"name\",\"Jane\")\n",
    "print(student)"
   ]
  },
  {
   "cell_type": "code",
   "execution_count": null,
   "id": "7bf60662-b0b0-479d-9737-d41e8a284aa9",
   "metadata": {},
   "outputs": [],
   "source": []
  }
 ],
 "metadata": {
  "kernelspec": {
   "display_name": "Python 3 (ipykernel)",
   "language": "python",
   "name": "python3"
  },
  "language_info": {
   "codemirror_mode": {
    "name": "ipython",
    "version": 3
   },
   "file_extension": ".py",
   "mimetype": "text/x-python",
   "name": "python",
   "nbconvert_exporter": "python",
   "pygments_lexer": "ipython3",
   "version": "3.11.4"
  }
 },
 "nbformat": 4,
 "nbformat_minor": 5
}
