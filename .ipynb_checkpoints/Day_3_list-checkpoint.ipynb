{
 "cells": [
  {
   "cell_type": "code",
   "execution_count": 1,
   "id": "9079eafc-29e6-4c22-a54b-0f5957b72601",
   "metadata": {},
   "outputs": [
    {
     "name": "stdout",
     "output_type": "stream",
     "text": [
      "[]\n",
      "[]\n"
     ]
    }
   ],
   "source": [
    "# Lists are the mutable datatypes in python\n",
    "# They are the sequential datatypes i.e. they are iterables\n",
    "# Lists are created by enclosing elements in big brackets separated by comma\n",
    "\n",
    "# Creating an empty list\n",
    "data = []\n",
    "print(data)  # []\n",
    "data = list()  # using list() built-in function\n",
    "print(data)  # []\n",
    "\n",
    "# List may not contains homogenous data. Elements may vary in datatype\n",
    "data = [1, 2.2, \"hello\", [1, 2]]"
   ]
  },
  {
   "cell_type": "code",
   "execution_count": null,
   "id": "1bb1edb4-5c47-43e9-bc02-f164d81b166f",
   "metadata": {},
   "outputs": [],
   "source": []
  }
 ],
 "metadata": {
  "kernelspec": {
   "display_name": "Python 3 (ipykernel)",
   "language": "python",
   "name": "python3"
  },
  "language_info": {
   "codemirror_mode": {
    "name": "ipython",
    "version": 3
   },
   "file_extension": ".py",
   "mimetype": "text/x-python",
   "name": "python",
   "nbconvert_exporter": "python",
   "pygments_lexer": "ipython3",
   "version": "3.11.4"
  }
 },
 "nbformat": 4,
 "nbformat_minor": 5
}
