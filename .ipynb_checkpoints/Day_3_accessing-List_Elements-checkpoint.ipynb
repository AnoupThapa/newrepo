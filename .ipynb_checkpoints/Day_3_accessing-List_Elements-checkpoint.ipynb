{
 "cells": [
  {
   "cell_type": "code",
   "execution_count": 2,
   "id": "1c70c1c1-feba-423a-8bd6-230f1a1199b9",
   "metadata": {},
   "outputs": [
    {
     "name": "stdout",
     "output_type": "stream",
     "text": [
      "a\n",
      "o\n",
      "u\n",
      "e\n",
      "['a', 'b', 'c', 'd', 'e', 'f', 'g', 'h', 'i', 'j']\n",
      "['c', 'd', 'e', 'f', 'g', 'h', 'i']\n",
      "['e', 'f', 'g']\n",
      "['a', 'b', 'c', 'd', 'e']\n",
      "['a', 'b', 'c', 'd', 'e']\n",
      "['d', 'e', 'f', 'g', 'h', 'i', 'j']\n",
      "[]\n",
      "['c', 'd', 'e', 'f', 'g', 'h']\n",
      "['a', 'b', 'c', 'd', 'e', 'f', 'g']\n",
      "['g', 'h', 'i', 'j']\n",
      "[]\n",
      "['b', 'd', 'f', 'h']\n"
     ]
    }
   ],
   "source": [
    "# List elements are accessed using indexing and slicing\n",
    "\n",
    "# Indexing\n",
    "# Indexing in python starts from 0 for forward indexing and -1 for reverse indexing\n",
    "vowels = [\"a\", \"e\", \"i\", \"o\", \"u\"]\n",
    "print(vowels[0])  # \"a\"\n",
    "print(vowels[3])  # o\n",
    "# print(vowels[5])  # Error. List index out of range\n",
    "\n",
    "print(vowels[-1])  # u\n",
    "print(vowels[-4])  # e\n",
    "# print(vowels[-6])  # Error. List index out of range\n",
    "\n",
    "# Slicing\n",
    "data = [\"a\", \"b\", \"c\", \"d\", \"e\", \"f\", \"g\", \"h\", \"i\", \"j\"]\n",
    "print(data[:])  # [\"a\", \"b\", \"c\", \"d\", \"e\", \"f\", \"g\", \"h\", \"i\", \"j\"]\n",
    "print(data[2:9])  # [\"c\", \"d\", \"e\", \"f\", \"g\", \"h\", \"i\"]\n",
    "print(data[4:7])  # [\"e\", \"f\", \"g\"]\n",
    "print(data[:5])  # [\"a\", \"b\", \"c\", \"d\", \"e\"]\n",
    "print(data[0:5])  # [\"a\", \"b\", \"c\", \"d\", \"e\"]\n",
    "print(data[3:])  # [\"d\", \"e\", \"f\", \"g\", \"h\", \"i\", \"j\"]\n",
    "print(data[7:2])  # []\n",
    "\n",
    "print(data[-8: -2])  # [\"c\", \"d\", \"e\", \"f\", \"g\", \"h\"]\n",
    "print(data[:-3])  # [\"a\", \"b\", \"c\", \"d\", \"e\", \"f\", \"g\"]\n",
    "print(data[-4:])  # [\"g\", \"h\", \"i\", \"j\"]\n",
    "print(data[-3: -7])  # []\n",
    "\n",
    "print(data[1:9:2])  # [\"b\", \"d\", \"f\", \"h\"]"
   ]
  },
  {
   "cell_type": "code",
   "execution_count": null,
   "id": "24ef67b5-776a-4cec-a733-129fe2932368",
   "metadata": {},
   "outputs": [],
   "source": []
  }
 ],
 "metadata": {
  "kernelspec": {
   "display_name": "Python 3 (ipykernel)",
   "language": "python",
   "name": "python3"
  },
  "language_info": {
   "codemirror_mode": {
    "name": "ipython",
    "version": 3
   },
   "file_extension": ".py",
   "mimetype": "text/x-python",
   "name": "python",
   "nbconvert_exporter": "python",
   "pygments_lexer": "ipython3",
   "version": "3.11.4"
  }
 },
 "nbformat": 4,
 "nbformat_minor": 5
}
