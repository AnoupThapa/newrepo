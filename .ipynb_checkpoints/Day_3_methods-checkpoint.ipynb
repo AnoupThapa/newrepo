{
 "cells": [
  {
   "cell_type": "code",
   "execution_count": 1,
   "id": "ca4aedb9-fb35-48ee-b019-3b50ad0a923a",
   "metadata": {},
   "outputs": [
    {
     "name": "stdout",
     "output_type": "stream",
     "text": [
      "5\n"
     ]
    }
   ],
   "source": [
    "# Methods are also functions but methods are the functions inside a class\n",
    "# Methods must be called with object\n",
    "\n",
    "def addition(a, b):  # Function definition\n",
    "    return a + b\n",
    "\n",
    "# here addition is just a function but not a method\n",
    "result = addition(2, 3)   # function call\n",
    "print(result)  # 5"
   ]
  },
  {
   "cell_type": "code",
   "execution_count": 2,
   "id": "ee3a2932-d67a-469b-a2cf-a908f3be0bf6",
   "metadata": {},
   "outputs": [
    {
     "name": "stdout",
     "output_type": "stream",
     "text": [
      "31\n"
     ]
    }
   ],
   "source": [
    "class Student:\n",
    "    def get_age_after_10_years(self, current_age):\n",
    "        return current_age + 10\n",
    "\n",
    "student = Student()\n",
    "result = student.get_age_after_10_years(21)\n",
    "print(result)  # 31\n",
    "# Here get_age_after_10_years() is a method"
   ]
  },
  {
   "cell_type": "code",
   "execution_count": 3,
   "id": "266cec6d-794c-4eb6-8ead-d8bf81ad85b4",
   "metadata": {},
   "outputs": [
    {
     "name": "stdout",
     "output_type": "stream",
     "text": [
      "['a', 'e', 'i', 'o', 'u']\n"
     ]
    }
   ],
   "source": [
    "############ List Methods #######################\n",
    "# 1. append()\n",
    "vowels = [\"a\", \"e\", \"i\", \"o\"]\n",
    "vowels.append(\"u\")\n",
    "print(vowels)  # [\"a\", \"e\", \"i\", \"o\", \"u]"
   ]
  },
  {
   "cell_type": "code",
   "execution_count": 4,
   "id": "22321b93-1849-40a2-9913-57834c2c9c7c",
   "metadata": {},
   "outputs": [
    {
     "name": "stdout",
     "output_type": "stream",
     "text": [
      "None\n",
      "[1, 2, 3, 4, 5, 6]\n"
     ]
    }
   ],
   "source": [
    "# 2. extend()\n",
    "data = [1, 2, 3]\n",
    "result = data.extend([4, 5, 6])\n",
    "print(result)  # None\n",
    "print(data)  # [1, 2, 3, 4, 5, 6]"
   ]
  },
  {
   "cell_type": "code",
   "execution_count": 5,
   "id": "feae9b72-d934-4af9-97df-c12a626d4344",
   "metadata": {},
   "outputs": [
    {
     "name": "stdout",
     "output_type": "stream",
     "text": [
      "['a', 'e', 'i', 'o', 'u']\n"
     ]
    }
   ],
   "source": [
    "# 3. insert()\n",
    "vowels = [\"a\", \"e\", \"o\", \"u\"]\n",
    "vowels.insert(2, \"i\")\n",
    "print(vowels)  # [\"a\", \"e\", \"i\", \"o\", \"u\"]"
   ]
  },
  {
   "cell_type": "code",
   "execution_count": 6,
   "id": "da7b42f3-9d38-469f-8c61-b96789f073c8",
   "metadata": {},
   "outputs": [
    {
     "name": "stdout",
     "output_type": "stream",
     "text": [
      "['a', 'e', 'i', 'u']\n"
     ]
    }
   ],
   "source": [
    "# 4. remove()\n",
    "vowels = [\"a\", \"e\", \"i\", \"o\", \"u\"]\n",
    "vowels.remove(\"o\")\n",
    "print(vowels)  # [\"a\", \"e\", \"i\", \"u\"]\n"
   ]
  },
  {
   "cell_type": "code",
   "execution_count": 7,
   "id": "685f3825-e9f9-4b6b-a5f7-9da328f48ff9",
   "metadata": {},
   "outputs": [
    {
     "name": "stdout",
     "output_type": "stream",
     "text": [
      "u\n",
      "['a', 'e', 'i', 'o']\n",
      "e\n",
      "['a', 'i', 'o']\n"
     ]
    }
   ],
   "source": [
    "# vowels.remove(\"z\")  # This raises error: ValueError\n",
    "\n",
    "# 5. pop()\n",
    "vowels = [\"a\", \"e\", \"i\", \"o\", \"u\"]\n",
    "result = vowels.pop()\n",
    "print(result)  # u\n",
    "print(vowels)  # [\"a\", \"e\", \"i\", \"o\"]\n",
    "\n",
    "result = vowels.pop(1)  # we can also give index as a parameter\n",
    "print(result)  # e\n",
    "print(vowels)  # [\"a\", \"i\", \"o\"]"
   ]
  },
  {
   "cell_type": "code",
   "execution_count": 8,
   "id": "7d9aa8d2-1b2a-413c-baca-eabb754791d4",
   "metadata": {},
   "outputs": [
    {
     "name": "stdout",
     "output_type": "stream",
     "text": [
      "[]\n"
     ]
    }
   ],
   "source": [
    "# clear()\n",
    "vowels.clear()\n",
    "print(vowels)  # []"
   ]
  },
  {
   "cell_type": "code",
   "execution_count": 9,
   "id": "aba59ab2-f904-4d9a-8f33-7969c7b5b81f",
   "metadata": {},
   "outputs": [
    {
     "name": "stdout",
     "output_type": "stream",
     "text": [
      "['a', 'e', 'i', 'o', 'u']\n",
      "1\n"
     ]
    }
   ],
   "source": [
    "# index()\n",
    "vowels = [\"a\", \"e\", \"i\", \"o\", \"u\"]\n",
    "result = vowels.index(\"e\")\n",
    "print(vowels)  # [\"a\", \"e\", \"i\", \"o\", \"u\"]\n",
    "print(result)  # 1"
   ]
  },
  {
   "cell_type": "code",
   "execution_count": 10,
   "id": "24a5b82d-7d1e-4405-b00c-c1bfb023377f",
   "metadata": {},
   "outputs": [
    {
     "name": "stdout",
     "output_type": "stream",
     "text": [
      "3\n"
     ]
    }
   ],
   "source": [
    "# count()\n",
    "data = [1, 2, 1, 2, 2, 5, 4, 4, 5]\n",
    "result = data.count(2)\n",
    "print(result)  # 3"
   ]
  },
  {
   "cell_type": "code",
   "execution_count": 11,
   "id": "0260323b-2589-429b-8b3f-ddc73381bf2b",
   "metadata": {},
   "outputs": [
    {
     "name": "stdout",
     "output_type": "stream",
     "text": [
      "[1, 2, 3]\n",
      "[1, 2, 3]\n",
      "True\n"
     ]
    }
   ],
   "source": [
    "# copy()\n",
    "a = [1, 2, 3]\n",
    "b = a\n",
    "print(a)  # [1, 2, 3]\n",
    "print(b)  # [1, 2, 3]\n",
    "print(a is b)  # True. They are the same object"
   ]
  },
  {
   "cell_type": "code",
   "execution_count": 12,
   "id": "852818a2-8df2-4979-b23e-8325349e0bf0",
   "metadata": {},
   "outputs": [
    {
     "name": "stdout",
     "output_type": "stream",
     "text": [
      "[1, 2, 3]\n",
      "[1, 2, 3]\n",
      "False\n"
     ]
    }
   ],
   "source": [
    "b = a.copy()\n",
    "print(a)  # [1, 2, 3]\n",
    "print(b)  # [1, 2, 3]\n",
    "print(a is b)  # False. 'a' and 'b' are two different objects\n"
   ]
  },
  {
   "cell_type": "code",
   "execution_count": 13,
   "id": "48f1a663-68e2-4d00-ad91-ca54fde97786",
   "metadata": {},
   "outputs": [
    {
     "name": "stdout",
     "output_type": "stream",
     "text": [
      "[[1, 7, 3], 4]\n",
      "[[1, 7, 3], 4]\n"
     ]
    }
   ],
   "source": [
    "a = [[1, 2, 3], 4]\n",
    "b = a.copy()\n",
    "a[0][1] = 7\n",
    "print(a)  # [[1, 7, 3], 4]\n",
    "print(b)  # [[1, 7, 3], 4]\n",
    "# Here 'b' is a shallow copy of 'a'. Mutable objects are still the same object in both 'a' and 'b' in\n",
    "# shallow copy"
   ]
  },
  {
   "cell_type": "code",
   "execution_count": 14,
   "id": "45e277e2-2ae9-4adc-a03f-a67c7c6ad915",
   "metadata": {},
   "outputs": [
    {
     "name": "stdout",
     "output_type": "stream",
     "text": [
      "[[1, 7, 3], 4]\n",
      "[[1, 2, 3], 4]\n"
     ]
    }
   ],
   "source": [
    "# We can overcome this using deepcopy\n",
    "from copy import deepcopy\n",
    "a = [[1, 2, 3], 4]\n",
    "b = deepcopy(a)\n",
    "a[0][1] = 7\n",
    "print(a)  # [[1, 7, 3], 4]\n",
    "print(b)  # [[1, 2, 3], 4]"
   ]
  },
  {
   "cell_type": "code",
   "execution_count": null,
   "id": "afe90860-473e-4e83-8c81-ec2abc642790",
   "metadata": {},
   "outputs": [],
   "source": []
  }
 ],
 "metadata": {
  "kernelspec": {
   "display_name": "Python 3 (ipykernel)",
   "language": "python",
   "name": "python3"
  },
  "language_info": {
   "codemirror_mode": {
    "name": "ipython",
    "version": 3
   },
   "file_extension": ".py",
   "mimetype": "text/x-python",
   "name": "python",
   "nbconvert_exporter": "python",
   "pygments_lexer": "ipython3",
   "version": "3.11.4"
  }
 },
 "nbformat": 4,
 "nbformat_minor": 5
}
