{
 "cells": [
  {
   "cell_type": "code",
   "execution_count": 1,
   "id": "d3af47dc-6e64-4c86-bb9f-e77805c44549",
   "metadata": {},
   "outputs": [
    {
     "name": "stdout",
     "output_type": "stream",
     "text": [
      "<class 'int'>\n"
     ]
    }
   ],
   "source": [
    "#Tuple packing and unpacking\n",
    "a=1\n",
    "print(type(a)) #int"
   ]
  },
  {
   "cell_type": "code",
   "execution_count": 2,
   "id": "252a99ed-64d1-437c-bcc9-0f8b306924b9",
   "metadata": {},
   "outputs": [
    {
     "name": "stdout",
     "output_type": "stream",
     "text": [
      "<class 'int'>\n"
     ]
    }
   ],
   "source": [
    "a= (a)\n",
    "print(type(a)) #int"
   ]
  },
  {
   "cell_type": "code",
   "execution_count": 3,
   "id": "f68bb9bc-b078-4f80-9864-5497e0f46f99",
   "metadata": {},
   "outputs": [
    {
     "name": "stdout",
     "output_type": "stream",
     "text": [
      "<class 'tuple'>\n"
     ]
    }
   ],
   "source": [
    "a=(1,)\n",
    "print(type(a)) #tuple,"
   ]
  },
  {
   "cell_type": "code",
   "execution_count": 5,
   "id": "8ebe4022-5419-42c2-9887-fa1d8d37a2a2",
   "metadata": {},
   "outputs": [
    {
     "name": "stdout",
     "output_type": "stream",
     "text": [
      "<class 'tuple'>\n"
     ]
    }
   ],
   "source": [
    "a = 1,\n",
    "print(type(a)) #tuple. and this is a tuple packing"
   ]
  },
  {
   "cell_type": "code",
   "execution_count": 6,
   "id": "92852e98-0ea3-4b02-883e-b6a3f801293d",
   "metadata": {},
   "outputs": [
    {
     "name": "stdout",
     "output_type": "stream",
     "text": [
      "(1, 2, 3)\n"
     ]
    }
   ],
   "source": [
    "a=1,2,3\n",
    "print(a) #(1,2,3)"
   ]
  },
  {
   "cell_type": "code",
   "execution_count": 15,
   "id": "7c94b8ac-19eb-42dc-b9dc-c593adcd179d",
   "metadata": {},
   "outputs": [
    {
     "name": "stdout",
     "output_type": "stream",
     "text": [
      "1\n"
     ]
    }
   ],
   "source": [
    "a,b,c=(1,2,3)\n",
    "(a,b,c) = 1,2,3\n",
    "(a,b,c)= (1,2,3)\n",
    "print(a) #integer: a=1"
   ]
  },
  {
   "cell_type": "code",
   "execution_count": 8,
   "id": "35978058-f024-4bd2-a545-e5cebaa26512",
   "metadata": {},
   "outputs": [
    {
     "name": "stdout",
     "output_type": "stream",
     "text": [
      "1 2 3\n"
     ]
    }
   ],
   "source": [
    "print(a,b,c) #integer\" a=1,b=2,c=3"
   ]
  },
  {
   "cell_type": "code",
   "execution_count": 10,
   "id": "767c5298-7138-4c89-9456-153a9be4e504",
   "metadata": {},
   "outputs": [
    {
     "name": "stdout",
     "output_type": "stream",
     "text": [
      "2\n"
     ]
    }
   ],
   "source": [
    "print(b) #b=2"
   ]
  },
  {
   "cell_type": "code",
   "execution_count": 11,
   "id": "9e92c36a-918f-4f62-bc16-99e7aa61c5aa",
   "metadata": {},
   "outputs": [
    {
     "name": "stdout",
     "output_type": "stream",
     "text": [
      "1\n",
      "2\n",
      "3\n"
     ]
    }
   ],
   "source": [
    "print(a)\n",
    "print(b)\n",
    "print(c)"
   ]
  },
  {
   "cell_type": "code",
   "execution_count": 17,
   "id": "a91369f4-9ecc-43a9-a555-8a18d44472be",
   "metadata": {},
   "outputs": [
    {
     "name": "stdout",
     "output_type": "stream",
     "text": [
      "apple\n",
      "ball\n",
      "cat\n"
     ]
    }
   ],
   "source": [
    "a,b,c = \"apple\",\"ball\",\"cat\"\n",
    "print(a)\n",
    "print(b)\n",
    "print(c)"
   ]
  },
  {
   "cell_type": "code",
   "execution_count": 18,
   "id": "2f67ca70-3494-409c-a185-e236400ac647",
   "metadata": {},
   "outputs": [],
   "source": [
    "#possible errors in tuple packing and unpacking"
   ]
  },
  {
   "cell_type": "code",
   "execution_count": 20,
   "id": "98e59e57-2e30-46fd-883b-eda9270bef37",
   "metadata": {},
   "outputs": [
    {
     "ename": "ValueError",
     "evalue": "too many values to unpack (expected 2)",
     "output_type": "error",
     "traceback": [
      "\u001b[1;31m---------------------------------------------------------------------------\u001b[0m",
      "\u001b[1;31mValueError\u001b[0m                                Traceback (most recent call last)",
      "Cell \u001b[1;32mIn[20], line 1\u001b[0m\n\u001b[1;32m----> 1\u001b[0m a,b\u001b[38;5;241m=\u001b[39m \u001b[38;5;241m1\u001b[39m,\u001b[38;5;241m2\u001b[39m,\u001b[38;5;241m3\u001b[39m\n\u001b[0;32m      2\u001b[0m \u001b[38;5;28mprint\u001b[39m(a)\n",
      "\u001b[1;31mValueError\u001b[0m: too many values to unpack (expected 2)"
     ]
    }
   ],
   "source": [
    "a,b= 1,2,3\n",
    "print(a) #If the no of elements in LHS not equals to number of RHS, then it raises error with \"too many values to unpack"
   ]
  },
  {
   "cell_type": "code",
   "execution_count": 22,
   "id": "e48580bf-9a89-4147-9145-4b1c39abea00",
   "metadata": {},
   "outputs": [
    {
     "ename": "ValueError",
     "evalue": "not enough values to unpack (expected 3, got 2)",
     "output_type": "error",
     "traceback": [
      "\u001b[1;31m---------------------------------------------------------------------------\u001b[0m",
      "\u001b[1;31mValueError\u001b[0m                                Traceback (most recent call last)",
      "Cell \u001b[1;32mIn[22], line 1\u001b[0m\n\u001b[1;32m----> 1\u001b[0m a,b,c \u001b[38;5;241m=\u001b[39m \u001b[38;5;241m1\u001b[39m,\u001b[38;5;241m2\u001b[39m\n\u001b[0;32m      2\u001b[0m \u001b[38;5;28mprint\u001b[39m(a) \u001b[38;5;66;03m#If the no of elements in RHS is not equal to LHS, then it raises error with \"not enough values to unpack\u001b[39;00m\n",
      "\u001b[1;31mValueError\u001b[0m: not enough values to unpack (expected 3, got 2)"
     ]
    }
   ],
   "source": [
    "a,b,c = 1,2\n",
    "print(a) #If the no of elements in RHS is not equal to LHS, then it raises error with \"not enough values to unpack"
   ]
  },
  {
   "cell_type": "code",
   "execution_count": null,
   "id": "5edbb6b1-faac-4b78-9835-9259b3c9f17c",
   "metadata": {},
   "outputs": [],
   "source": []
  }
 ],
 "metadata": {
  "kernelspec": {
   "display_name": "Python 3 (ipykernel)",
   "language": "python",
   "name": "python3"
  },
  "language_info": {
   "codemirror_mode": {
    "name": "ipython",
    "version": 3
   },
   "file_extension": ".py",
   "mimetype": "text/x-python",
   "name": "python",
   "nbconvert_exporter": "python",
   "pygments_lexer": "ipython3",
   "version": "3.11.4"
  }
 },
 "nbformat": 4,
 "nbformat_minor": 5
}
