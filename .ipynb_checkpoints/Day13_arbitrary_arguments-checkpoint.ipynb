{
 "cells": [
  {
   "cell_type": "code",
   "execution_count": 1,
   "id": "c1fe1db7-50ac-4330-aa29-8f0b43f4a8af",
   "metadata": {},
   "outputs": [],
   "source": [
    "#arbitrary arguments\n",
    "# *args and **kwargs are the arbitrary arguments\n",
    "#These arguments are like the expandable bucket which can take any number of parameters\n"
   ]
  },
  {
   "cell_type": "code",
   "execution_count": 2,
   "id": "f5c75426-6132-4f37-a6e7-6130f5ea4f9e",
   "metadata": {},
   "outputs": [],
   "source": [
    "def addition(*args):\n",
    "    print(args)"
   ]
  },
  {
   "cell_type": "code",
   "execution_count": 4,
   "id": "feec28f4-096d-4f29-a898-d6d7f3d85241",
   "metadata": {},
   "outputs": [
    {
     "name": "stdout",
     "output_type": "stream",
     "text": [
      "(1, 2)\n",
      "(1, 2, 3)\n",
      "(1, 2, 3, 4)\n",
      "(1, 2, 3, 4, 5)\n",
      "(1, 2, 3, 'Hello', [1, 2])\n"
     ]
    }
   ],
   "source": [
    "addition(1,2)\n",
    "addition(1,2,3)\n",
    "addition(1,2,3,4)\n",
    "addition(1,2,3,4,5)\n",
    "addition (1,2,3,\"Hello\",[1,2])"
   ]
  },
  {
   "cell_type": "code",
   "execution_count": 9,
   "id": "ed65c9b4-8056-49a1-8971-1bb9ac686c81",
   "metadata": {},
   "outputs": [
    {
     "name": "stdout",
     "output_type": "stream",
     "text": [
      "(1, 2)\n",
      "(1, 2, 3)\n",
      "(1, 2, 3, 4)\n",
      "(1, 2, 3, 4, 5)\n",
      "(1, 2, 3, 'Hello', [1, 2])\n"
     ]
    },
    {
     "ename": "TypeError",
     "evalue": "unsupported operand type(s) for +: 'int' and 'str'",
     "output_type": "error",
     "traceback": [
      "\u001b[1;31m---------------------------------------------------------------------------\u001b[0m",
      "\u001b[1;31mTypeError\u001b[0m                                 Traceback (most recent call last)",
      "Cell \u001b[1;32mIn[9], line 9\u001b[0m\n\u001b[0;32m      7\u001b[0m addition(\u001b[38;5;241m1\u001b[39m,\u001b[38;5;241m2\u001b[39m,\u001b[38;5;241m3\u001b[39m,\u001b[38;5;241m4\u001b[39m)\n\u001b[0;32m      8\u001b[0m addition(\u001b[38;5;241m1\u001b[39m,\u001b[38;5;241m2\u001b[39m,\u001b[38;5;241m3\u001b[39m,\u001b[38;5;241m4\u001b[39m,\u001b[38;5;241m5\u001b[39m)\n\u001b[1;32m----> 9\u001b[0m \u001b[43maddition\u001b[49m\u001b[43m(\u001b[49m\u001b[38;5;241;43m1\u001b[39;49m\u001b[43m,\u001b[49m\u001b[38;5;241;43m2\u001b[39;49m\u001b[43m,\u001b[49m\u001b[38;5;241;43m3\u001b[39;49m\u001b[43m,\u001b[49m\u001b[43m \u001b[49m\u001b[38;5;124;43m\"\u001b[39;49m\u001b[38;5;124;43mHello\u001b[39;49m\u001b[38;5;124;43m\"\u001b[39;49m\u001b[43m,\u001b[49m\u001b[43m[\u001b[49m\u001b[38;5;241;43m1\u001b[39;49m\u001b[43m,\u001b[49m\u001b[38;5;241;43m2\u001b[39;49m\u001b[43m]\u001b[49m\u001b[43m)\u001b[49m\n",
      "Cell \u001b[1;32mIn[9], line 3\u001b[0m, in \u001b[0;36maddition\u001b[1;34m(*args)\u001b[0m\n\u001b[0;32m      1\u001b[0m \u001b[38;5;28;01mdef\u001b[39;00m \u001b[38;5;21maddition\u001b[39m(\u001b[38;5;241m*\u001b[39margs):\n\u001b[0;32m      2\u001b[0m     \u001b[38;5;28mprint\u001b[39m(args)\n\u001b[1;32m----> 3\u001b[0m     \u001b[38;5;28;01mreturn\u001b[39;00m \u001b[38;5;28;43msum\u001b[39;49m\u001b[43m(\u001b[49m\u001b[43margs\u001b[49m\u001b[43m)\u001b[49m\n",
      "\u001b[1;31mTypeError\u001b[0m: unsupported operand type(s) for +: 'int' and 'str'"
     ]
    }
   ],
   "source": [
    "def addition(*args):\n",
    "    print(args)\n",
    "    return sum(args)\n",
    "\n",
    "addition(1,2)\n",
    "addition(1,2,3)\n",
    "addition(1,2,3,4)\n",
    "addition(1,2,3,4,5)\n",
    "addition(1,2,3, \"Hello\",[1,2]) #it raises error"
   ]
  },
  {
   "cell_type": "code",
   "execution_count": 12,
   "id": "b94f77ad-403f-4590-a74c-b4adbc0d1288",
   "metadata": {},
   "outputs": [
    {
     "name": "stdout",
     "output_type": "stream",
     "text": [
      "3\n",
      "6\n",
      "10\n",
      "15\n"
     ]
    },
    {
     "ename": "TypeError",
     "evalue": "unsupported operand type(s) for +: 'int' and 'str'",
     "output_type": "error",
     "traceback": [
      "\u001b[1;31m---------------------------------------------------------------------------\u001b[0m",
      "\u001b[1;31mTypeError\u001b[0m                                 Traceback (most recent call last)",
      "Cell \u001b[1;32mIn[12], line 8\u001b[0m\n\u001b[0;32m      6\u001b[0m \u001b[38;5;28mprint\u001b[39m(addition(\u001b[38;5;241m1\u001b[39m,\u001b[38;5;241m2\u001b[39m,\u001b[38;5;241m3\u001b[39m,\u001b[38;5;241m4\u001b[39m))\n\u001b[0;32m      7\u001b[0m \u001b[38;5;28mprint\u001b[39m(addition(\u001b[38;5;241m1\u001b[39m,\u001b[38;5;241m2\u001b[39m,\u001b[38;5;241m3\u001b[39m,\u001b[38;5;241m4\u001b[39m,\u001b[38;5;241m5\u001b[39m))\n\u001b[1;32m----> 8\u001b[0m \u001b[38;5;28mprint\u001b[39m(\u001b[43maddition\u001b[49m\u001b[43m(\u001b[49m\u001b[38;5;241;43m1\u001b[39;49m\u001b[43m,\u001b[49m\u001b[38;5;241;43m2\u001b[39;49m\u001b[43m,\u001b[49m\u001b[38;5;241;43m3\u001b[39;49m\u001b[43m,\u001b[49m\u001b[43m \u001b[49m\u001b[38;5;124;43m\"\u001b[39;49m\u001b[38;5;124;43mHello\u001b[39;49m\u001b[38;5;124;43m\"\u001b[39;49m\u001b[43m,\u001b[49m\u001b[43m[\u001b[49m\u001b[38;5;241;43m1\u001b[39;49m\u001b[43m,\u001b[49m\u001b[38;5;241;43m2\u001b[39;49m\u001b[43m]\u001b[49m\u001b[43m)\u001b[49m) \u001b[38;5;66;03m#it raises error\u001b[39;00m\n",
      "Cell \u001b[1;32mIn[12], line 2\u001b[0m, in \u001b[0;36maddition\u001b[1;34m(*a)\u001b[0m\n\u001b[0;32m      1\u001b[0m \u001b[38;5;28;01mdef\u001b[39;00m \u001b[38;5;21maddition\u001b[39m(\u001b[38;5;241m*\u001b[39ma):\n\u001b[1;32m----> 2\u001b[0m         \u001b[38;5;28;01mreturn\u001b[39;00m \u001b[38;5;28;43msum\u001b[39;49m\u001b[43m(\u001b[49m\u001b[43ma\u001b[49m\u001b[43m)\u001b[49m\n",
      "\u001b[1;31mTypeError\u001b[0m: unsupported operand type(s) for +: 'int' and 'str'"
     ]
    }
   ],
   "source": [
    "def addition(*a):\n",
    "        return sum(a)\n",
    "\n",
    "print(addition(1,2))\n",
    "print(addition(1,2,3))\n",
    "print(addition(1,2,3,4))\n",
    "print(addition(1,2,3,4,5))\n",
    "print(addition(1,2,3, \"Hello\",[1,2])) #it raises error"
   ]
  },
  {
   "cell_type": "code",
   "execution_count": 14,
   "id": "72b644bb-0ec7-46aa-9b19-dc7b8d93aec2",
   "metadata": {},
   "outputs": [
    {
     "name": "stdout",
     "output_type": "stream",
     "text": [
      "{'a': 2, 'b': 3}\n",
      "{'a': 2, 'b': 3, 'c': 4}\n",
      "{'a': 2, 'b': 3, 'c': 4, 'd': 5}\n"
     ]
    }
   ],
   "source": [
    "def addition (**kwargs):\n",
    "    print(kwargs)\n",
    "\n",
    "addition( a=2, b=3)\n",
    "addition(a=2,b=3, c=4)\n",
    "addition(a=2,b=3,c=4, d=5)"
   ]
  },
  {
   "cell_type": "code",
   "execution_count": 17,
   "id": "8d715c07-ea26-49e7-b30d-21cf1f94e3a6",
   "metadata": {},
   "outputs": [
    {
     "name": "stdout",
     "output_type": "stream",
     "text": [
      "{'a': 2, 'b': 3}\n",
      "{'a': 2, 'b': 3, 'c': 4}\n",
      "{'a': 2, 'b': 3, 'c': 4, 'd': 5}\n"
     ]
    },
    {
     "data": {
      "text/plain": [
       "14"
      ]
     },
     "execution_count": 17,
     "metadata": {},
     "output_type": "execute_result"
    }
   ],
   "source": [
    "def addition (**kwargs):\n",
    "    print(kwargs)\n",
    "    return sum(kwargs.values())\n",
    "\n",
    "addition( a=2, b=3)\n",
    "addition(a=2,b=3, c=4)\n",
    "addition(a=2,b=3,c=4, d=5)"
   ]
  },
  {
   "cell_type": "code",
   "execution_count": null,
   "id": "c7b52e17-33d5-4d65-88b2-28adacad78c5",
   "metadata": {},
   "outputs": [],
   "source": []
  }
 ],
 "metadata": {
  "kernelspec": {
   "display_name": "Python 3 (ipykernel)",
   "language": "python",
   "name": "python3"
  },
  "language_info": {
   "codemirror_mode": {
    "name": "ipython",
    "version": 3
   },
   "file_extension": ".py",
   "mimetype": "text/x-python",
   "name": "python",
   "nbconvert_exporter": "python",
   "pygments_lexer": "ipython3",
   "version": "3.11.4"
  }
 },
 "nbformat": 4,
 "nbformat_minor": 5
}
