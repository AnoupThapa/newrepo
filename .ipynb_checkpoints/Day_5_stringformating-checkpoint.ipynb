{
 "cells": [
  {
   "cell_type": "code",
   "execution_count": 1,
   "id": "45d1a43d-cf17-4181-9a85-fccac6268742",
   "metadata": {},
   "outputs": [],
   "source": [
    "#String formatting in python can be done with three methods\n",
    "#1. f-strings\n",
    "#2. format specifier\n",
    "#3. .format() method"
   ]
  },
  {
   "cell_type": "code",
   "execution_count": 2,
   "id": "35d562bb-5d6e-44b0-a0f9-034236546e01",
   "metadata": {},
   "outputs": [
    {
     "name": "stdout",
     "output_type": "stream",
     "text": [
      "Hello I'm jon\n"
     ]
    }
   ],
   "source": [
    "#f-strings\n",
    "name = \"jon\"\n",
    "message = f\"Hello I'm {name}\"\n",
    "print(message)\n"
   ]
  },
  {
   "cell_type": "code",
   "execution_count": 12,
   "id": "8405c036-9e32-4584-a23e-46d0ededda44",
   "metadata": {},
   "outputs": [
    {
     "name": "stdout",
     "output_type": "stream",
     "text": [
      "Hello I'm Jane.I'm learning Python\n"
     ]
    }
   ],
   "source": [
    "#.format()method\n",
    "name = \"Jane\"\n",
    "language = \"Python\"\n",
    "message = \"Hello I'm {}.I'm learning {}\".format(name,language)\n",
    "print(message)"
   ]
  },
  {
   "cell_type": "code",
   "execution_count": 20,
   "id": "481724f0-dab4-4727-827c-3ed1eb0f4f0b",
   "metadata": {},
   "outputs": [
    {
     "name": "stdout",
     "output_type": "stream",
     "text": [
      "Hello I'm jane. I'm learning Python. I'm 21 year old\n"
     ]
    }
   ],
   "source": [
    "#format specifier\n",
    "name = \"jane\"\n",
    "language = \"Python\"\n",
    "age = 21\n",
    "message = \"Hello I'm %s. I'm learning %s. I'm %d year old\"%(name, language,age)\n",
    "print(message)"
   ]
  },
  {
   "cell_type": "code",
   "execution_count": null,
   "id": "837c9234-181b-4ca2-a36a-e63eb7300637",
   "metadata": {},
   "outputs": [],
   "source": []
  }
 ],
 "metadata": {
  "kernelspec": {
   "display_name": "Python 3 (ipykernel)",
   "language": "python",
   "name": "python3"
  },
  "language_info": {
   "codemirror_mode": {
    "name": "ipython",
    "version": 3
   },
   "file_extension": ".py",
   "mimetype": "text/x-python",
   "name": "python",
   "nbconvert_exporter": "python",
   "pygments_lexer": "ipython3",
   "version": "3.11.4"
  }
 },
 "nbformat": 4,
 "nbformat_minor": 5
}
