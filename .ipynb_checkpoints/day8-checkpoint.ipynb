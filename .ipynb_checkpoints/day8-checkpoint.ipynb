{
 "cells": [
  {
   "cell_type": "code",
   "execution_count": 3,
   "id": "8fd0a618-6101-4b34-ae21-a9f2ab8fcd3d",
   "metadata": {},
   "outputs": [
    {
     "name": "stdout",
     "output_type": "stream",
     "text": [
      "{1, (1, 2), 1.1}\n"
     ]
    }
   ],
   "source": [
    "#set is mutable datatype in python. But, the elements of the set must be immutable\n",
    "#Unlike list, set is unordered. So, indexing and slicing is not possible in python.\n",
    "# In set {1,2} is equal to {2,1}\n",
    "\n",
    "#Creating and empty set\n",
    "s = set()\n",
    "#s = {} #This is not an empty set. It is an empty dictionary.\n",
    "\n",
    "#Creating a non-empty set.\n",
    "s = {1,1.1,(1,2),True}\n",
    "print(s)"
   ]
  },
  {
   "cell_type": "code",
   "execution_count": 4,
   "id": "346f0de8-2595-4543-af1f-13b9b29153bd",
   "metadata": {},
   "outputs": [
    {
     "ename": "TypeError",
     "evalue": "unhashable type: 'list'",
     "output_type": "error",
     "traceback": [
      "\u001b[1;31m---------------------------------------------------------------------------\u001b[0m",
      "\u001b[1;31mTypeError\u001b[0m                                 Traceback (most recent call last)",
      "Cell \u001b[1;32mIn[4], line 1\u001b[0m\n\u001b[1;32m----> 1\u001b[0m s \u001b[38;5;241m=\u001b[39m {\u001b[38;5;241m1\u001b[39m,[\u001b[38;5;241m1\u001b[39m,\u001b[38;5;241m2\u001b[39m],\u001b[38;5;241m3\u001b[39m} \u001b[38;5;66;03m#this is invalid set because it has list as an element which is mutable\u001b[39;00m\n\u001b[0;32m      2\u001b[0m s \u001b[38;5;241m=\u001b[39m {\u001b[38;5;241m1\u001b[39m,\u001b[38;5;241m2\u001b[39m,(\u001b[38;5;241m1\u001b[39m,\u001b[38;5;241m2\u001b[39m,[\u001b[38;5;241m3\u001b[39m,\u001b[38;5;241m4\u001b[39m])} \u001b[38;5;66;03m#This is also invalid because tuple has a mutable element.\u001b[39;00m\n",
      "\u001b[1;31mTypeError\u001b[0m: unhashable type: 'list'"
     ]
    }
   ],
   "source": [
    "s = {1,[1,2],3} #this is invalid set because it has list as an element which is mutable\n",
    "s = {1,2,(1,2,[3,4])} #This is also invalid because tuple has a mutable element."
   ]
  },
  {
   "cell_type": "code",
   "execution_count": 7,
   "id": "85c24558-640b-4b7f-89d6-29866e925995",
   "metadata": {},
   "outputs": [
    {
     "name": "stdout",
     "output_type": "stream",
     "text": [
      "{1, 2, 3, 4}\n"
     ]
    }
   ],
   "source": [
    "s1 = set([1,2,2,3,1,1,4,2,2])\n",
    "print(s1)"
   ]
  },
  {
   "cell_type": "code",
   "execution_count": null,
   "id": "70ae409a-ecd5-4369-98d3-0e57ce480ec9",
   "metadata": {},
   "outputs": [],
   "source": []
  }
 ],
 "metadata": {
  "kernelspec": {
   "display_name": "Python 3 (ipykernel)",
   "language": "python",
   "name": "python3"
  },
  "language_info": {
   "codemirror_mode": {
    "name": "ipython",
    "version": 3
   },
   "file_extension": ".py",
   "mimetype": "text/x-python",
   "name": "python",
   "nbconvert_exporter": "python",
   "pygments_lexer": "ipython3",
   "version": "3.11.4"
  }
 },
 "nbformat": 4,
 "nbformat_minor": 5
}
