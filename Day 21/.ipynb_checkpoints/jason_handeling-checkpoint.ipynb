{
 "cells": [
  {
   "cell_type": "code",
   "execution_count": 1,
   "id": "a51d05a1-3ef1-4b87-91d7-ae3a2cf9c9e1",
   "metadata": {},
   "outputs": [],
   "source": [
    "#JSON stands for JavaScript Object Notation\n",
    "#It is a file format which is mainly used for the communication between two or more entities like:\n",
    "#communication between web frontend and backend, desktop app and backend etc.\n",
    "#JSON file has extension of .json"
   ]
  },
  {
   "cell_type": "code",
   "execution_count": 2,
   "id": "4f4c2bdd-63de-4452-8033-d7b9e6b6508e",
   "metadata": {},
   "outputs": [],
   "source": [
    "#Some rules for JASON file\n",
    "#1. JSON content is the key-value pair similar to the python dictionary\n",
    "#2. Unlike dictionary, JSON cant have single quotes in the key-value pair\n",
    "#3. Integer cant have quotes\n",
    "#4. Arrays can also be a JSON content"
   ]
  },
  {
   "cell_type": "code",
   "execution_count": 8,
   "id": "dd14e07a-be9d-4a22-b880-e7b8bbce9e06",
   "metadata": {},
   "outputs": [
    {
     "name": "stdout",
     "output_type": "stream",
     "text": [
      "[{\"name\": \"Jon\", \"age\": 30, \"address\": \"KTM\"}, {\"name\": \"Jane\", \"age\": 35, \"address\": \"PKR\"}]\n",
      "<class 'str'>\n"
     ]
    }
   ],
   "source": [
    "import json\n",
    "filename = \"students.json\"\n",
    "students = [\n",
    "    {\"name\":\"Jon\", \"age\":30,\"address\":\"KTM\"},\n",
    "    {\"name\": \"Jane\", \"age\":35, \"address\":\"PKR\"},\n",
    "]\n",
    "with open(filename, \"w\") as fp:\n",
    "    data = json.dumps(students)\n",
    "    fp.write(data)\n",
    "\n",
    "with open(filename, \"r\") as fp:\n",
    "    data = fp.read()\n",
    "print(data)\n",
    "print(type(data))\n",
    "    "
   ]
  },
  {
   "cell_type": "code",
   "execution_count": 13,
   "id": "a03607b4-2448-4507-833a-44d9c9b31048",
   "metadata": {},
   "outputs": [
    {
     "name": "stdout",
     "output_type": "stream",
     "text": [
      "[{'name': 'Jon', 'age': 30, 'address': 'KTM'}, {'name': 'Jane', 'age': 35, 'address': 'PKR'}]\n",
      "KTM\n"
     ]
    }
   ],
   "source": [
    "with open(filename, \"w\") as fp:\n",
    "    data = json.dumps(students, indent=2)\n",
    "    fp.write(data)\n",
    "\n",
    "with open(filename, \"r\") as fp:\n",
    "    data = fp.read()\n",
    "    data = json.loads(data)\n",
    "\n",
    "print(data)\n",
    "address = data[0][\"address\"]\n",
    "print(address)"
   ]
  },
  {
   "cell_type": "code",
   "execution_count": null,
   "id": "a7720501-2d3f-4c41-9914-187dc93231a8",
   "metadata": {},
   "outputs": [],
   "source": []
  }
 ],
 "metadata": {
  "kernelspec": {
   "display_name": "Python 3 (ipykernel)",
   "language": "python",
   "name": "python3"
  },
  "language_info": {
   "codemirror_mode": {
    "name": "ipython",
    "version": 3
   },
   "file_extension": ".py",
   "mimetype": "text/x-python",
   "name": "python",
   "nbconvert_exporter": "python",
   "pygments_lexer": "ipython3",
   "version": "3.11.4"
  }
 },
 "nbformat": 4,
 "nbformat_minor": 5
}
