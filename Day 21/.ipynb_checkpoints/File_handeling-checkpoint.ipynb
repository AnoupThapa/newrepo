{
 "cells": [
  {
   "cell_type": "code",
   "execution_count": 1,
   "id": "d9746678-9e6d-4582-a7c4-258d260857da",
   "metadata": {},
   "outputs": [],
   "source": [
    "# We can create a file, read, update and delete the content of the file using Python language\n",
    "# File can be opened in following modes in Python\n",
    "# r => Read mode\n",
    "# w => Write mode\n",
    "# a => append mode\n",
    "#r+ => read and write mode\n",
    "#w+ => write and read mode\n",
    "# x => exclusive write mode"
   ]
  },
  {
   "cell_type": "code",
   "execution_count": 52,
   "id": "5a5635aa-c11d-479b-8ec3-3ae0f58dc67c",
   "metadata": {},
   "outputs": [
    {
     "data": {
      "text/plain": [
       "11"
      ]
     },
     "execution_count": 52,
     "metadata": {},
     "output_type": "execute_result"
    }
   ],
   "source": [
    "filename = \"message.txt\"\n",
    "fp = open(filename,\"w\")\n",
    "fp.write(\"Hello World\")"
   ]
  },
  {
   "cell_type": "code",
   "execution_count": 53,
   "id": "02cb0b44-482f-4828-9311-4a5f06150dd2",
   "metadata": {},
   "outputs": [
    {
     "name": "stdout",
     "output_type": "stream",
     "text": [
      "Hello World\n"
     ]
    }
   ],
   "source": [
    "fp = open(filename, 'r')\n",
    "data = fp.read()\n",
    "print(data)\n",
    "fp.close()"
   ]
  },
  {
   "cell_type": "code",
   "execution_count": 54,
   "id": "d6c0699d-035d-44cf-8b7b-737c00e0b7e7",
   "metadata": {},
   "outputs": [],
   "source": [
    "fp = open(filename,'a')\n",
    "try: \n",
    "    fp.write(\"\\nI'm Learning Python\")\n",
    "finally:\n",
    "    fp.close()"
   ]
  },
  {
   "cell_type": "code",
   "execution_count": 55,
   "id": "42d4edb9-8079-4609-8f67-449ff0d30bcf",
   "metadata": {},
   "outputs": [
    {
     "name": "stdout",
     "output_type": "stream",
     "text": [
      "Hello World\n",
      "I'm Learning Python\n"
     ]
    }
   ],
   "source": [
    "#Openign the file with the above method can be problematic sometime as we may forget to close the file\n",
    "#So, it is better to open your file using context manager\n",
    "with open(filename,'r') as fp: #contex manager \n",
    "    data = fp.read()\n",
    "print(data)"
   ]
  },
  {
   "cell_type": "code",
   "execution_count": 56,
   "id": "11089f35-6d4d-42f4-8101-f70d9b9e3841",
   "metadata": {},
   "outputs": [
    {
     "name": "stdout",
     "output_type": "stream",
     "text": [
      "Hello World\n",
      "I'm Learning Python\n"
     ]
    }
   ],
   "source": [
    "with open(filename,\"r+\") as fp:\n",
    "    data = fp.read()\n",
    "    fp.write(\"\\nPython is a high level language\")\n",
    "print(data)"
   ]
  },
  {
   "cell_type": "code",
   "execution_count": 58,
   "id": "0fefb616-6c84-4d68-99fc-813467f84c70",
   "metadata": {},
   "outputs": [
    {
     "name": "stdout",
     "output_type": "stream",
     "text": [
      "\n"
     ]
    }
   ],
   "source": [
    "with open(filename, \"w+\") as fp:\n",
    "    fp.write(\"I'm Learning Python\")\n",
    "    data = fp.read()\n",
    "print(data)"
   ]
  },
  {
   "cell_type": "code",
   "execution_count": null,
   "id": "5bab16e0-a202-48d0-82b9-852ddfba4464",
   "metadata": {},
   "outputs": [],
   "source": []
  }
 ],
 "metadata": {
  "kernelspec": {
   "display_name": "Python 3 (ipykernel)",
   "language": "python",
   "name": "python3"
  },
  "language_info": {
   "codemirror_mode": {
    "name": "ipython",
    "version": 3
   },
   "file_extension": ".py",
   "mimetype": "text/x-python",
   "name": "python",
   "nbconvert_exporter": "python",
   "pygments_lexer": "ipython3",
   "version": "3.11.4"
  }
 },
 "nbformat": 4,
 "nbformat_minor": 5
}
