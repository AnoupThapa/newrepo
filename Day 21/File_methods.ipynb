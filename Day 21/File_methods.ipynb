{
 "cells": [
  {
   "cell_type": "code",
   "execution_count": 1,
   "id": "fe114f5f-fbbe-4742-8fcd-8f1ea35cd4e3",
   "metadata": {},
   "outputs": [],
   "source": [
    "#There are some file methods which can useful in file handeling projects\n"
   ]
  },
  {
   "cell_type": "code",
   "execution_count": 11,
   "id": "fd269b23-6a51-4293-b69c-d1b5762e5201",
   "metadata": {},
   "outputs": [
    {
     "name": "stdout",
     "output_type": "stream",
     "text": [
      "I'm Learning Python\n"
     ]
    }
   ],
   "source": [
    "filename = \"message.txt\"\n",
    "#read()\n",
    "with open(filename, \"r\") as fp:\n",
    "    data = fp.read(20) #It reads total number assigned in read\n",
    "print(data)\n"
   ]
  },
  {
   "cell_type": "code",
   "execution_count": 16,
   "id": "483b91d2-772c-4a5b-ba6c-e837b5f71567",
   "metadata": {},
   "outputs": [
    {
     "name": "stdout",
     "output_type": "stream",
     "text": [
      "Python\n",
      "I'm Learning Python\n"
     ]
    }
   ],
   "source": [
    "#seek\n",
    "with open(filename,\"r\") as fp:\n",
    "    fp.seek(13) #it ignore the assigned number\n",
    "    data = fp.read()\n",
    "    fp.seek(0)\n",
    "    d= fp.read()\n",
    "print(data)\n",
    "print(d)"
   ]
  },
  {
   "cell_type": "code",
   "execution_count": 22,
   "id": "70197b4e-cfcf-418c-b122-4e69cc28c066",
   "metadata": {},
   "outputs": [
    {
     "name": "stdout",
     "output_type": "stream",
     "text": [
      "I'm Learning Python\n",
      "Python\n"
     ]
    }
   ],
   "source": [
    "#readline()\n",
    "with open(filename, \"r\") as fp:\n",
    "    data = fp.readline()\n",
    "    fp.seek(13)\n",
    "    d= fp.readline()\n",
    "print(data)\n",
    "print(d)"
   ]
  },
  {
   "cell_type": "code",
   "execution_count": 24,
   "id": "5d81ccda-e500-4031-aec7-86ef2296588c",
   "metadata": {},
   "outputs": [
    {
     "name": "stdout",
     "output_type": "stream",
     "text": [
      "19\n",
      "[\"I'm Learning Python\"]\n"
     ]
    }
   ],
   "source": [
    "#readlines()\n",
    "with open(filename, \"r\") as fp:\n",
    "    data = fp.readlines()\n",
    "    print(fp.tell())\n",
    "print(data)"
   ]
  },
  {
   "cell_type": "code",
   "execution_count": 25,
   "id": "737f5280-e702-485b-8552-32a30aa52c41",
   "metadata": {},
   "outputs": [],
   "source": [
    "data = [\"Hello World\\n\",\"I'm Learning Python\\n\", \"Python is a high level language\"]\n",
    "with open(filename, \"w\") as fp:\n",
    "    fp.writelines(data)"
   ]
  },
  {
   "cell_type": "code",
   "execution_count": null,
   "id": "07d4db94-aba6-4d41-a97f-13c3c6d88a32",
   "metadata": {},
   "outputs": [],
   "source": []
  }
 ],
 "metadata": {
  "kernelspec": {
   "display_name": "Python 3 (ipykernel)",
   "language": "python",
   "name": "python3"
  },
  "language_info": {
   "codemirror_mode": {
    "name": "ipython",
    "version": 3
   },
   "file_extension": ".py",
   "mimetype": "text/x-python",
   "name": "python",
   "nbconvert_exporter": "python",
   "pygments_lexer": "ipython3",
   "version": "3.11.4"
  }
 },
 "nbformat": 4,
 "nbformat_minor": 5
}
