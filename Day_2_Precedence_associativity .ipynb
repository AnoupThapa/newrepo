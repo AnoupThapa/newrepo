{
 "cells": [
  {
   "cell_type": "code",
   "execution_count": 1,
   "id": "76db6f92-35a4-487e-b73c-ab37209fdfcd",
   "metadata": {},
   "outputs": [
    {
     "name": "stdout",
     "output_type": "stream",
     "text": [
      "2\n",
      "256\n"
     ]
    }
   ],
   "source": [
    "# Precedence is the order in which operations are carried out\n",
    "# Multiple operators can have same precedence. In such cases, associativity is considered\n",
    "# Normally associativity order is from left to right except for the case of **\n",
    "\n",
    "a = 3 - 2 + 1\n",
    "print(a)\n",
    "# here 3-2 is first calculated and the result is added with 1\n",
    "\n",
    "\n",
    "# But for '**' associativity is from right to left\n",
    "a = 2**2**3\n",
    "print(a)  # 256"
   ]
  },
  {
   "cell_type": "code",
   "execution_count": null,
   "id": "c1cad0c6-c2c5-4a64-9bd6-4adf0721290e",
   "metadata": {},
   "outputs": [],
   "source": []
  }
 ],
 "metadata": {
  "kernelspec": {
   "display_name": "Python 3 (ipykernel)",
   "language": "python",
   "name": "python3"
  },
  "language_info": {
   "codemirror_mode": {
    "name": "ipython",
    "version": 3
   },
   "file_extension": ".py",
   "mimetype": "text/x-python",
   "name": "python",
   "nbconvert_exporter": "python",
   "pygments_lexer": "ipython3",
   "version": "3.11.4"
  }
 },
 "nbformat": 4,
 "nbformat_minor": 5
}
