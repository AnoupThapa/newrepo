{
 "cells": [
  {
   "cell_type": "code",
   "execution_count": 2,
   "id": "a6564524-026d-448b-9d34-4cd4025bff24",
   "metadata": {},
   "outputs": [],
   "source": [
    "#Create a class Department with parameters name and number_of_students. \n",
    "#Create a method total students which set object as parameters and return the total number of student from all departments."
   ]
  },
  {
   "cell_type": "code",
   "execution_count": 15,
   "id": "41006384-aad1-46c3-95bf-34cf96fa533a",
   "metadata": {},
   "outputs": [
    {
     "name": "stdout",
     "output_type": "stream",
     "text": [
      "50\n",
      "50\n",
      "The total number of students from all departments: 50\n"
     ]
    }
   ],
   "source": [
    "class Department:\n",
    "    def __init__(self, name, no_of_students):\n",
    "        self.name = name\n",
    "        self.no_of_students = no_of_students\n",
    "\n",
    "    def total_students(self, other):\n",
    "        return self.no_of_students + other.no_of_students\n",
    "\n",
    "    def __add__(self, other):\n",
    "        return self.no_of_students + other.no_of_students\n",
    "\n",
    "\n",
    "d1 = Department(\"IT\", 20)\n",
    "d2 = Department(\"CS\", 30)\n",
    "total = d1.total_students(d2)\n",
    "print(total)  # 50\n",
    "\n",
    "result = d1.__add__(d2)\n",
    "print(result)  # 50\n",
    "\n",
    "result = d1 + d2\n",
    "print(f\"The total number of students from all departments: {result}\")  # 50"
   ]
  },
  {
   "cell_type": "code",
   "execution_count": 17,
   "id": "e8a3f8e7-1e2c-4f30-9465-6d0dfc957a2a",
   "metadata": {},
   "outputs": [],
   "source": [
    "#Task 2:Create a class Circle with an attribute radius. Create two objects of circle c1 and c2. Add the radius of the circles and print the result.\n",
    "#Do the above task using a method and then a magic method.\n",
    "#Compare the size of the circle and print the result using magic method."
   ]
  },
  {
   "cell_type": "code",
   "execution_count": 53,
   "id": "428acd7a-1d44-4479-8a17-0d0a6be9d82e",
   "metadata": {},
   "outputs": [
    {
     "name": "stdout",
     "output_type": "stream",
     "text": [
      "15\n"
     ]
    }
   ],
   "source": [
    "class Circle:\n",
    "    def __init__(self, radius):\n",
    "        self.radius = radius\n",
    "\n",
    "    def total_redius(self,other):\n",
    "        return self.radius + self.radius\n",
    "\n",
    "\n",
    "c1 = Circle(5)\n",
    "c2 = Circle(10)\n",
    "result = c1.radius + c2.radius\n",
    "print(result)\n",
    "\n"
   ]
  },
  {
   "cell_type": "code",
   "execution_count": 46,
   "id": "ceaaf08c-c042-4608-b58a-06d5b50e25ec",
   "metadata": {},
   "outputs": [
    {
     "name": "stdout",
     "output_type": "stream",
     "text": [
      "15\n",
      "15\n",
      "15\n",
      "False\n"
     ]
    }
   ],
   "source": [
    "class Circle:\n",
    "    def __init__(self, radius):\n",
    "        self.radius = radius\n",
    "\n",
    "    def total_radius(self, other):\n",
    "        return self.radius + other.radius\n",
    "\n",
    "    def __add__(self, other):\n",
    "        return self.radius + other.radius\n",
    "\n",
    "    def __gt__(self, other):\n",
    "        return self.radius > other.radius\n",
    "\n",
    "\n",
    "c1 = Circle(5)\n",
    "c2 = Circle(10)\n",
    "result = c1.radius + c2.radius\n",
    "print(result)   # 15\n",
    "\n",
    "result = c1.total_radius(c2)\n",
    "print(result)\n",
    "\n",
    "result = c1 + c2\n",
    "print(result)\n",
    "\n",
    "print(c1 > c2)  # True / False"
   ]
  },
  {
   "cell_type": "code",
   "execution_count": null,
   "id": "d5852462-2349-4722-a815-517ff8ab22ec",
   "metadata": {},
   "outputs": [],
   "source": []
  }
 ],
 "metadata": {
  "kernelspec": {
   "display_name": "Python 3 (ipykernel)",
   "language": "python",
   "name": "python3"
  },
  "language_info": {
   "codemirror_mode": {
    "name": "ipython",
    "version": 3
   },
   "file_extension": ".py",
   "mimetype": "text/x-python",
   "name": "python",
   "nbconvert_exporter": "python",
   "pygments_lexer": "ipython3",
   "version": "3.11.4"
  }
 },
 "nbformat": 4,
 "nbformat_minor": 5
}
