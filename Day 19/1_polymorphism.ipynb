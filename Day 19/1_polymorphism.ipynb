{
 "cells": [
  {
   "cell_type": "code",
   "execution_count": 1,
   "id": "27260ff5-9281-4165-ae29-0ee3018bdb77",
   "metadata": {},
   "outputs": [],
   "source": [
    "# polymorphism refers to many forms. \n",
    "# In python, it refers to different forms of functions and objects.\n",
    "#len(), sum)_. min(), max(), '+' operator, '-' operator etc. shows polymorphism in Python.\n",
    "\n",
    "#In polymorphism we mainly study about function/method overloading and operator overloading.\n",
    "\n",
    "#function overloading"
   ]
  },
  {
   "cell_type": "code",
   "execution_count": 8,
   "id": "6694944a-bcf5-45eb-bed5-f26594cff436",
   "metadata": {},
   "outputs": [
    {
     "name": "stdout",
     "output_type": "stream",
     "text": [
      "5\n",
      "9\n"
     ]
    }
   ],
   "source": [
    "def addition (a,b):\n",
    "    return a+b\n",
    "\n",
    "def addition (a,b,c=0):\n",
    "    return a+b+c\n",
    "\n",
    "r= addition(2,3) #5 #TypeError: addition() missing 1 required positional argument: 'c'\n",
    "print(r)\n",
    "r = addition(2,3,4) #9\n",
    "print(r)"
   ]
  },
  {
   "cell_type": "code",
   "execution_count": 2,
   "id": "67cd84ae-0658-4ec2-b977-a4a069432397",
   "metadata": {},
   "outputs": [],
   "source": [
    "#function or method overloading occurs when a function with same name is defined multiple times\n",
    "#Other OOP languages like C++, Java may support function/method overloading byt python doesnt \n",
    "\n",
    "#We can give the taste of function overloading by using default arguments and *args and **kwargs in python. But, we can't say Python supports function overloading"
   ]
  },
  {
   "cell_type": "code",
   "execution_count": 6,
   "id": "441eab53-fdd5-41de-af86-e80bbd88a7a7",
   "metadata": {},
   "outputs": [
    {
     "name": "stdout",
     "output_type": "stream",
     "text": [
      "Vehicle engine is of petrol type\n"
     ]
    }
   ],
   "source": [
    "class Vehicle:\n",
    "    category = 'petrol'\n",
    "    def description (self):\n",
    "        return f\" Vehicle has {self.category} type\"\n",
    "\n",
    "    def description(self):\n",
    "        return f\"Vehicle engine is of {self.category} type\"\n",
    "\n",
    "v= Vehicle()\n",
    "print(v.description())"
   ]
  },
  {
   "cell_type": "code",
   "execution_count": null,
   "id": "db90bc74-9e38-437a-8e36-818a4b94e1f4",
   "metadata": {},
   "outputs": [],
   "source": [
    "#This example shows that, method overloading is also not possible in python."
   ]
  }
 ],
 "metadata": {
  "kernelspec": {
   "display_name": "Python 3 (ipykernel)",
   "language": "python",
   "name": "python3"
  },
  "language_info": {
   "codemirror_mode": {
    "name": "ipython",
    "version": 3
   },
   "file_extension": ".py",
   "mimetype": "text/x-python",
   "name": "python",
   "nbconvert_exporter": "python",
   "pygments_lexer": "ipython3",
   "version": "3.11.4"
  }
 },
 "nbformat": 4,
 "nbformat_minor": 5
}
