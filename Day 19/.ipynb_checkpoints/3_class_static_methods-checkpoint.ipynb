{
 "cells": [
  {
   "cell_type": "code",
   "execution_count": 1,
   "id": "65467adc-93bc-4b05-b235-cb47520f0960",
   "metadata": {},
   "outputs": [],
   "source": [
    "#Class methods are those methods which take class as the first argument,\n",
    "#It doesnt take \"self\" as a first parameter. It takes 'cls'\n",
    "#Class methods can be useful in creating factory methods\n"
   ]
  },
  {
   "cell_type": "code",
   "execution_count": 2,
   "id": "7e86eade-c184-4379-805d-e864c9092b29",
   "metadata": {},
   "outputs": [
    {
     "name": "stdout",
     "output_type": "stream",
     "text": [
      "25\n"
     ]
    }
   ],
   "source": [
    "class Person:\n",
    "    def __init__(self,age):\n",
    "        self.age = age\n",
    "\n",
    "p1= Person(25)\n",
    "print(p1.age)\n",
    "        "
   ]
  },
  {
   "cell_type": "code",
   "execution_count": 7,
   "id": "5198b688-c844-4a5e-a4ac-b15cceeda82a",
   "metadata": {},
   "outputs": [
    {
     "name": "stdout",
     "output_type": "stream",
     "text": [
      "25\n",
      "31\n"
     ]
    }
   ],
   "source": [
    "class Person:\n",
    "    def __init__(self,age):\n",
    "        self.age = age\n",
    "\n",
    "    @classmethod\n",
    "    def age_from_year(cls, year):\n",
    "        age=2023-year\n",
    "        return cls(age) #Person (31)\n",
    "\n",
    "p1= Person(25)\n",
    "print(p1.age)\n",
    "\n",
    "p2= Person.age_from_year(1992)\n",
    "print(p2.age)\n"
   ]
  },
  {
   "cell_type": "code",
   "execution_count": 8,
   "id": "0c322a81-a3ea-4875-b00e-f2a921708e94",
   "metadata": {},
   "outputs": [],
   "source": [
    "#Here \"age_from_year\" method is a class method and such type of method is also called as a factory method.\n"
   ]
  },
  {
   "cell_type": "code",
   "execution_count": 12,
   "id": "175a79db-2e4a-46d1-b520-f7223f924024",
   "metadata": {},
   "outputs": [
    {
     "name": "stdout",
     "output_type": "stream",
     "text": [
      "25\n",
      "31\n"
     ]
    }
   ],
   "source": [
    "#Static Method\n",
    "\n",
    "class Person:\n",
    "    def __init__(self,age):\n",
    "        self.age = age\n",
    "\n",
    "    @classmethod\n",
    "    def age_from_year(cls, year):\n",
    "        age=2023-year\n",
    "        return cls(age) #Person (31)\n",
    "\n",
    "    @staticmethod\n",
    "    def grade():\n",
    "        return f\"I study in grade 10 {current_grade}\"\n",
    "\n",
    "p1 = Person(25)\n",
    "print(p1.age)  # 25\n",
    "\n",
    "p2 = Person.age_from_year(1992)\n",
    "print(p2.age)  # 31\n"
   ]
  },
  {
   "cell_type": "code",
   "execution_count": 13,
   "id": "f04a9a6e-3464-48e8-b160-c2eda89f91ae",
   "metadata": {},
   "outputs": [],
   "source": [
    "#static method are those methods which donot change the state of the class or an object \n",
    "# We do not pass self or cls in the static methods\n",
    "#In the above person class 'grade' is a static method\n"
   ]
  },
  {
   "cell_type": "code",
   "execution_count": 14,
   "id": "ac0620fc-1621-4bf3-852d-46fb00126f0d",
   "metadata": {},
   "outputs": [
    {
     "name": "stdout",
     "output_type": "stream",
     "text": [
      "25\n",
      "31\n"
     ]
    }
   ],
   "source": [
    "# Class Method\n",
    "class Person:\n",
    "    def __init__(self, age):\n",
    "        self.age = age\n",
    "\n",
    "    @classmethod\n",
    "    def age_from_year(cls, year):\n",
    "        age = 2023 - year\n",
    "        return cls(age)  # Person(31)\n",
    "    \n",
    "    @staticmethod\n",
    "    def grade(current_grade):\n",
    "        return f\"I study in grade {current_grade}\"\n",
    "\n",
    "  \n",
    "p1 = Person(25)\n",
    "print(p1.age)  # 25\n",
    "\n",
    "p2 = Person.age_from_year(1992)\n",
    "print(p2.age)  # 31\n"
   ]
  },
  {
   "cell_type": "code",
   "execution_count": null,
   "id": "cffa2a66-6fd7-4e53-b7a9-298eef79691b",
   "metadata": {},
   "outputs": [],
   "source": []
  }
 ],
 "metadata": {
  "kernelspec": {
   "display_name": "Python 3 (ipykernel)",
   "language": "python",
   "name": "python3"
  },
  "language_info": {
   "codemirror_mode": {
    "name": "ipython",
    "version": 3
   },
   "file_extension": ".py",
   "mimetype": "text/x-python",
   "name": "python",
   "nbconvert_exporter": "python",
   "pygments_lexer": "ipython3",
   "version": "3.11.4"
  }
 },
 "nbformat": 4,
 "nbformat_minor": 5
}
