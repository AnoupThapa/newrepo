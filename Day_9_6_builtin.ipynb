{
 "cells": [
  {
   "cell_type": "code",
   "execution_count": 3,
   "id": "6e66383e-9761-433f-b090-d0e6b34a484c",
   "metadata": {},
   "outputs": [
    {
     "name": "stdout",
     "output_type": "stream",
     "text": [
      "3\n"
     ]
    }
   ],
   "source": [
    "student = {\"name\": \"Jon\", \"address\": \"KTM\", \"age\":30}\n",
    "#len()\n",
    "#It gives length of the object. It is applicable only in sequential types \n",
    "print(len(student))"
   ]
  },
  {
   "cell_type": "code",
   "execution_count": 2,
   "id": "73d682f2-653f-494e-9263-ce9a6324bc49",
   "metadata": {},
   "outputs": [
    {
     "name": "stdout",
     "output_type": "stream",
     "text": [
      "['address', 'name']\n"
     ]
    }
   ],
   "source": [
    "#sorted()\n",
    "# It gives the dictionary kesy in sorted form and in list type\n",
    "print(sorted(student))"
   ]
  },
  {
   "cell_type": "code",
   "execution_count": 4,
   "id": "3fdddb22-15bb-4c56-906a-295837859e30",
   "metadata": {},
   "outputs": [
    {
     "name": "stdout",
     "output_type": "stream",
     "text": [
      "{'name': 'Jon', 'address': 'KTM', 'age': 30}\n"
     ]
    }
   ],
   "source": [
    "#str\n",
    "print(str(student))"
   ]
  },
  {
   "cell_type": "code",
   "execution_count": 5,
   "id": "45e98937-b972-4abf-9668-247e3ef61597",
   "metadata": {},
   "outputs": [
    {
     "name": "stdout",
     "output_type": "stream",
     "text": [
      "<class 'dict'>\n"
     ]
    }
   ],
   "source": [
    "#type()\n",
    "#It gives type of the object passsed as an argument\n",
    "print(type(student)) #Dict"
   ]
  },
  {
   "cell_type": "code",
   "execution_count": null,
   "id": "d778aa00-6dce-4cbe-97e5-7bbd7cd29ad3",
   "metadata": {},
   "outputs": [],
   "source": []
  }
 ],
 "metadata": {
  "kernelspec": {
   "display_name": "Python 3 (ipykernel)",
   "language": "python",
   "name": "python3"
  },
  "language_info": {
   "codemirror_mode": {
    "name": "ipython",
    "version": 3
   },
   "file_extension": ".py",
   "mimetype": "text/x-python",
   "name": "python",
   "nbconvert_exporter": "python",
   "pygments_lexer": "ipython3",
   "version": "3.11.4"
  }
 },
 "nbformat": 4,
 "nbformat_minor": 5
}
