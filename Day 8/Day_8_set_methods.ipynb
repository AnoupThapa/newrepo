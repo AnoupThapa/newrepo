{
 "cells": [
  {
   "cell_type": "code",
   "execution_count": 1,
   "id": "85e0861b-b6ca-4cf3-920e-719e314f6f86",
   "metadata": {},
   "outputs": [
    {
     "name": "stdout",
     "output_type": "stream",
     "text": [
      "{1, 2, 3, 4, 5, 6}\n"
     ]
    }
   ],
   "source": [
    "#union()\n",
    "s1= {1,2,3,4}\n",
    "s2= {3,4,5,6}\n",
    "\n",
    "result = s1.union(s2)\n",
    "print(result)"
   ]
  },
  {
   "cell_type": "code",
   "execution_count": 2,
   "id": "1e2154e8-34fa-42b8-a848-bcbd528189b2",
   "metadata": {},
   "outputs": [
    {
     "name": "stdout",
     "output_type": "stream",
     "text": [
      "{3, 4}\n"
     ]
    }
   ],
   "source": [
    "#intersection()\n",
    "result=s1.intersection(s2)\n",
    "print(result)"
   ]
  },
  {
   "cell_type": "code",
   "execution_count": 3,
   "id": "dd2c250a-564a-4b9d-9eab-ddd81317c912",
   "metadata": {},
   "outputs": [
    {
     "name": "stdout",
     "output_type": "stream",
     "text": [
      "{1, 2}\n"
     ]
    }
   ],
   "source": [
    "#difference()\n",
    "result = s1.difference(s2)\n",
    "print(result) #{1,2}"
   ]
  },
  {
   "cell_type": "code",
   "execution_count": 4,
   "id": "a726555b-cf15-4ec3-a87a-a749073645b9",
   "metadata": {},
   "outputs": [
    {
     "name": "stdout",
     "output_type": "stream",
     "text": [
      "{5, 6}\n"
     ]
    }
   ],
   "source": [
    "result = s2.difference(s1)\n",
    "print(result)"
   ]
  },
  {
   "cell_type": "code",
   "execution_count": 5,
   "id": "0425b9b1-dc90-4b3c-a2a9-cfc7cfeaf794",
   "metadata": {},
   "outputs": [
    {
     "name": "stdout",
     "output_type": "stream",
     "text": [
      "False\n"
     ]
    }
   ],
   "source": [
    "#issubset() and issuperset()\n",
    "s1= {1,2,3,4,5,6}\n",
    "s2 = {3,4,5,6}\n",
    "print(s1==s2)"
   ]
  },
  {
   "cell_type": "code",
   "execution_count": 6,
   "id": "d8cc92c5-afc7-42d5-8978-1df5163c4931",
   "metadata": {},
   "outputs": [
    {
     "name": "stdout",
     "output_type": "stream",
     "text": [
      "False\n"
     ]
    }
   ],
   "source": [
    "print(s1.issubset(s2))"
   ]
  },
  {
   "cell_type": "code",
   "execution_count": 7,
   "id": "144c90c2-65d4-449d-a86c-a286a2db24b3",
   "metadata": {},
   "outputs": [
    {
     "name": "stdout",
     "output_type": "stream",
     "text": [
      "True\n"
     ]
    }
   ],
   "source": [
    "print(s2.issubset(s1))"
   ]
  },
  {
   "cell_type": "code",
   "execution_count": 9,
   "id": "0785b749-fd2d-46a0-bdeb-85bac022c2bb",
   "metadata": {},
   "outputs": [
    {
     "name": "stdout",
     "output_type": "stream",
     "text": [
      "True\n"
     ]
    }
   ],
   "source": [
    "print(s1.issuperset(s2))"
   ]
  },
  {
   "cell_type": "code",
   "execution_count": 11,
   "id": "39f0ffd8-b58e-4c2e-b7f8-8df2ca0711b5",
   "metadata": {},
   "outputs": [
    {
     "name": "stdout",
     "output_type": "stream",
     "text": [
      "False\n"
     ]
    }
   ],
   "source": [
    "print(s2.issuperset(s1))"
   ]
  },
  {
   "cell_type": "code",
   "execution_count": 42,
   "id": "c740796d-3f11-4dac-bb23-55ab294c729e",
   "metadata": {},
   "outputs": [
    {
     "name": "stdout",
     "output_type": "stream",
     "text": [
      "{1, 2, 5, 6}\n"
     ]
    }
   ],
   "source": [
    "#symmetric_difference()\n",
    "s1= {1,2,3,4}\n",
    "s2 = {3,4,5,6}\n",
    "result = s1.symmetric_difference(s2)\n",
    "print(result) #{1,2,5,6}"
   ]
  },
  {
   "cell_type": "code",
   "execution_count": 43,
   "id": "25f77da6-8ce3-47f8-9cf6-33ad38942dd8",
   "metadata": {},
   "outputs": [],
   "source": [
    "result = s2.symmetric_difference(s1)"
   ]
  },
  {
   "cell_type": "code",
   "execution_count": 44,
   "id": "8b982266-2216-4960-ac1f-b64a86e543a8",
   "metadata": {},
   "outputs": [
    {
     "name": "stdout",
     "output_type": "stream",
     "text": [
      "{1, 2, 5, 6}\n"
     ]
    }
   ],
   "source": [
    "print(result) #{1,2,5,6}"
   ]
  },
  {
   "cell_type": "code",
   "execution_count": 45,
   "id": "166f9a62-583e-4132-bd11-7ab6149367ed",
   "metadata": {},
   "outputs": [
    {
     "name": "stdout",
     "output_type": "stream",
     "text": [
      "{1, 2, 5, 6}\n"
     ]
    }
   ],
   "source": [
    "#symmetric_difference_update()\n",
    "s1.symmetric_difference_update(s2)\n",
    "print(s1) #{1, 2, 5, 6}"
   ]
  },
  {
   "cell_type": "code",
   "execution_count": 46,
   "id": "ad146498-3f7c-4590-b2df-caf782128539",
   "metadata": {},
   "outputs": [
    {
     "name": "stdout",
     "output_type": "stream",
     "text": [
      "{1, 2, 5, 6}\n"
     ]
    }
   ],
   "source": [
    "print(s1)"
   ]
  },
  {
   "cell_type": "code",
   "execution_count": 47,
   "id": "e9d0e22e-abd5-4760-9a62-1a4a4a162c92",
   "metadata": {},
   "outputs": [
    {
     "name": "stdout",
     "output_type": "stream",
     "text": [
      "{3, 4, 5, 6}\n"
     ]
    }
   ],
   "source": [
    "print(s2)"
   ]
  },
  {
   "cell_type": "code",
   "execution_count": 48,
   "id": "2995b8f8-3f3a-4b9b-a4ee-b7bac10f2766",
   "metadata": {},
   "outputs": [
    {
     "name": "stdout",
     "output_type": "stream",
     "text": [
      "{1, 2, 5, 6}\n"
     ]
    }
   ],
   "source": [
    "print(s1)"
   ]
  },
  {
   "cell_type": "code",
   "execution_count": 49,
   "id": "b7ae429a-666e-4e67-a9b9-15bfdb91c40a",
   "metadata": {},
   "outputs": [
    {
     "name": "stdout",
     "output_type": "stream",
     "text": [
      "{1, 2, 3, 4, 5, 6}\n"
     ]
    }
   ],
   "source": [
    "print(s1|s2) #can be used for union"
   ]
  },
  {
   "cell_type": "code",
   "execution_count": 50,
   "id": "d45a3de9-a81f-441a-b2a9-b3465e63b807",
   "metadata": {},
   "outputs": [
    {
     "name": "stdout",
     "output_type": "stream",
     "text": [
      "{5, 6}\n"
     ]
    }
   ],
   "source": [
    "print(s1 &s2) #can be used for intersection"
   ]
  },
  {
   "cell_type": "code",
   "execution_count": 51,
   "id": "c2609eba-86c6-4aad-b609-91b69d6930cd",
   "metadata": {},
   "outputs": [
    {
     "name": "stdout",
     "output_type": "stream",
     "text": [
      "{1, 2}\n"
     ]
    }
   ],
   "source": [
    "print(s1-s2) #can be used for difference)"
   ]
  },
  {
   "cell_type": "code",
   "execution_count": null,
   "id": "39b22624-6a5d-4aed-a9b5-78ea3d45cdb4",
   "metadata": {},
   "outputs": [],
   "source": []
  }
 ],
 "metadata": {
  "kernelspec": {
   "display_name": "Python 3 (ipykernel)",
   "language": "python",
   "name": "python3"
  },
  "language_info": {
   "codemirror_mode": {
    "name": "ipython",
    "version": 3
   },
   "file_extension": ".py",
   "mimetype": "text/x-python",
   "name": "python",
   "nbconvert_exporter": "python",
   "pygments_lexer": "ipython3",
   "version": "3.11.4"
  }
 },
 "nbformat": 4,
 "nbformat_minor": 5
}
