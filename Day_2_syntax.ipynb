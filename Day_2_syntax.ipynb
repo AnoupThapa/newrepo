{
 "cells": [
  {
   "cell_type": "code",
   "execution_count": 1,
   "id": "d0c7630a-251d-4171-ac49-b9b1d777c97e",
   "metadata": {},
   "outputs": [
    {
     "name": "stdout",
     "output_type": "stream",
     "text": [
      "\n",
      "Here is a list of the Python keywords.  Enter any keyword to get more help.\n",
      "\n",
      "False               class               from                or\n",
      "None                continue            global              pass\n",
      "True                def                 if                  raise\n",
      "and                 del                 import              return\n",
      "as                  elif                in                  try\n",
      "assert              else                is                  while\n",
      "async               except              lambda              with\n",
      "await               finally             nonlocal            yield\n",
      "break               for                 not                 \n",
      "\n"
     ]
    },
    {
     "data": {
      "text/plain": [
       "'\\nThese are multiline comments using triple-quoted string\\n'"
      ]
     },
     "execution_count": 1,
     "metadata": {},
     "output_type": "execute_result"
    }
   ],
   "source": [
    "# Like any other language python also has its set of keywords. There are around 35 keywords in\n",
    "# python.\n",
    "# Keywords are the reserved words of the language which cannot be used as variables or any identifiers\n",
    "\n",
    "help(\"keywords\")\n",
    "\n",
    "\n",
    "# Rules for naming identifiers\n",
    "\n",
    "# 1. Identifiers are case-sensitive i.e in A = 1 and a = 1 , \"A\" and \"a\" are two different identifiers\n",
    "# 2. Identifiers can not be the keywords\n",
    "# 3. Identifiers can't start with numbers.\n",
    "# 4. Identifiers can include from A-Z, a-z, 0-9 (but can't start with nums) and underscore (_)\n",
    "# 5. Can't include special characters like (@, !, $ etc.)\n",
    "\n",
    "\n",
    "\n",
    "############ Python Statement #####################\n",
    "# Each line in a program is a python statement\n",
    "# But sometimes multiple statements can be written in a same line and also one statement can occur\n",
    "# in multiple lines\n",
    "\n",
    "m1 = \"hello\"; m2 = \"world\"  # two statements in a single line\n",
    "message = \"Hello I'm learning Python. \" \\\n",
    "          \"Python is a high level language\"  # single statement in two lines\n",
    "\n",
    "\n",
    "################### Indentations in Python ###########################\n",
    "# Indentations in python are very important. They are the part of syntax\n",
    "# Indentation helps to define a block of code in python\n",
    "\n",
    "a = 1\n",
    "if a > 2:\n",
    "    print(\"Hello World\")\n",
    "\n",
    "\n",
    "############# Comments in Python ##############\n",
    "# hash (#) in python is used as a single line comment\n",
    "# triple-quoted string (\"\"\"\"\"\") in python can be used as a multiline comment\n",
    "\n",
    "\"\"\"\n",
    "These are multiline comments using triple-quoted string\n",
    "\"\"\""
   ]
  },
  {
   "cell_type": "code",
   "execution_count": null,
   "id": "9a6e9ad3-6309-47ab-ba29-58c58916cc98",
   "metadata": {},
   "outputs": [],
   "source": []
  }
 ],
 "metadata": {
  "kernelspec": {
   "display_name": "Python 3 (ipykernel)",
   "language": "python",
   "name": "python3"
  },
  "language_info": {
   "codemirror_mode": {
    "name": "ipython",
    "version": 3
   },
   "file_extension": ".py",
   "mimetype": "text/x-python",
   "name": "python",
   "nbconvert_exporter": "python",
   "pygments_lexer": "ipython3",
   "version": "3.11.4"
  }
 },
 "nbformat": 4,
 "nbformat_minor": 5
}
